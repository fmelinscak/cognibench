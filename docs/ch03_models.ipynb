{
 "cells": [
  {
   "cell_type": "markdown",
   "metadata": {},
   "source": [
    "# Chapter 3: Models\n",
    "In this chapter, we explain `ldmunit.capabilities.Interactive` interface, action and observation space capabilities, how example decision learning and associative learning models are implemented and how you can implement your own models."
   ]
  },
  {
   "cell_type": "markdown",
   "metadata": {},
   "source": [
    "## Interactive Capability\n",
    "`Interactive` capability defines the interface that must be implemented by a model to take an `InteractiveTest`. It requires `predict`, `reset`, `update` and `act` methods."
   ]
  },
  {
   "cell_type": "markdown",
   "metadata": {},
   "source": [
    "## Action and Observation Spaces\n",
    "Certain types of action and observation spaces may be required by tests. For example, `ldmunit.capabilities.DiscreteObservation` is a capability that requires a model to operate on discrete observation spaces. A test that has `ldmunit.capabilities.DiscreteObservation` in its `required_capabilities` variable may do checks specific to a discrete observation space. We would like to note two items here\n",
    "1. `ldmunit.capabilities.DiscreteObservation` defines and at the same time provides a default implementation of discrete observation interface using `gym.spaces.Discrete`. However, this can be changed by creating a subclass of `ldmunit.capabilities.DiscreteObservation` and providing your own discrete observation space implementations.\n",
    "2. Currently, there are no example tests that require a certain type of action or observation space. Hence, we don't provide any example code here."
   ]
  },
  {
   "cell_type": "markdown",
   "metadata": {},
   "source": [
    "## Other Capabilities\n",
    "As we mentioned in previous chapter, current example tests require a model to produce a log probability distribution as the return type of its `predict` method. This capability is implemented in `ldmunit.capabilities.LogProbModel`. This class states this requirement in the documentation of `predict` method. However, since there is no easy way to do a check in python at class initialization time whether an instance returns a log probability distribution as a result of `predict` method, this is not strictly enforced. The assumption is that if the programmer explicitly subclasses `ldmunit.capabilities.LogProbModel`, the class satisfies the requirement."
   ]
  },
  {
   "cell_type": "markdown",
   "metadata": {},
   "source": [
    "## Example Models\n",
    "In this section, we go over one of the example models provided by ldmunit: `ldmunit.models.decision_making.RWCKModel`."
   ]
  },
  {
   "cell_type": "code",
   "execution_count": 6,
   "metadata": {},
   "outputs": [
    {
     "name": "stdout",
     "output_type": "stream",
     "text": [
      "\n",
      "    Rescorla-Wagner Choice Kernel model implementation.\n",
      "\n",
      "    Random variable for a given stimulus i is computed using ith row of Q\n",
      "    matrix (Q_i), ith row of CK matrix (CK_i) and weights:\n",
      "\n",
      "    >>> logits = beta * Q_i + beta_c * CK_i\n",
      "    >>> probs = softmax(logits)\n",
      "    \n"
     ]
    }
   ],
   "source": [
    "# import Rescorla-Wagner Choice Kernel model\n",
    "from ldmunit.models.decision_making import RWCKModel\n",
    "print(RWCKModel.__doc__)"
   ]
  },
  {
   "cell_type": "markdown",
   "metadata": {},
   "source": [
    "RWCK model works on discrete action and discrete observation spaces. ldmunit provides a base class for these types of models:"
   ]
  },
  {
   "cell_type": "code",
   "execution_count": 5,
   "metadata": {},
   "outputs": [
    {
     "name": "stdout",
     "output_type": "stream",
     "text": [
      "\n",
      "    Base class for models that operate on discrete action and discrete observation spaces.\n",
      "    \n",
      "Inherits from:\n"
     ]
    },
    {
     "data": {
      "text/plain": [
       "(ldmunit.models.base.LDMModel,\n",
       " ldmunit.capabilities.DiscreteAction,\n",
       " ldmunit.capabilities.DiscreteObservation)"
      ]
     },
     "execution_count": 5,
     "metadata": {},
     "output_type": "execute_result"
    }
   ],
   "source": [
    "from ldmunit.models import DADO\n",
    "print(DADO.__doc__)\n",
    "print('Inherits from:')\n",
    "DADO.__bases__"
   ]
  },
  {
   "cell_type": "markdown",
   "metadata": {},
   "source": [
    "In addition to space capabilities, we see `LDMModel` base class. This is a default helper base class provided by ldmunit that handles parameter, hidden state and seeding parts that are common to many learning and decision making models."
   ]
  },
  {
   "cell_type": "code",
   "execution_count": 9,
   "metadata": {},
   "outputs": [
    {
     "name": "stdout",
     "output_type": "stream",
     "text": [
      "\n",
      "        Parameters\n",
      "        ----------\n",
      "        paras : dict\n",
      "            Model parameters. (Default: empty dict)\n",
      "\n",
      "        hidden_state : dict\n",
      "            Hidden state of the model. (Default: empty dict)\n",
      "\n",
      "        seed : int\n",
      "            Random seed. Must be a nonnegative integer. If seed is None,\n",
      "            random state is set randomly by gym.utils.seeding. (Default: None)\n",
      "        \n"
     ]
    }
   ],
   "source": [
    "from ldmunit.models import LDMModel\n",
    "print(LDMModel.__init__.__doc__)"
   ]
  },
  {
   "cell_type": "markdown",
   "metadata": {},
   "source": [
    "In addition to `DADO`, `RWCKModel` implements `ldmunit.capabilities.Interactive` and `ldmunit.capabilities.LogProbModel` interfaces."
   ]
  },
  {
   "cell_type": "code",
   "execution_count": 7,
   "metadata": {},
   "outputs": [
    {
     "data": {
      "text/plain": [
       "(ldmunit.models.base.DADO,\n",
       " ldmunit.capabilities.Interactive,\n",
       " ldmunit.capabilities.LogProbModel)"
      ]
     },
     "execution_count": 7,
     "metadata": {},
     "output_type": "execute_result"
    }
   ],
   "source": [
    "RWCKModel.__bases__"
   ]
  },
  {
   "cell_type": "markdown",
   "metadata": {},
   "source": [
    "## Models that are Special Cases of More General Ones\n",
    "In modeling, it is sometimes the case that some well-known models are special cases of more general ones. This is commonly achieved by setting a particular parameter of the general model to a specific value. We provide an example of this case and show that these types of relationships can be expressed succinctly.\n",
    "\n",
    "RWCK (Rescorla-Wagner Choice Kernel) model can be transformed into RW or CK models by only setting certain parameters to 0. ldmunit implements RW and CK models in this way under decision_making module:"
   ]
  },
  {
   "cell_type": "markdown",
   "metadata": {},
   "source": [
    "## Implementing Your Own Models\n",
    "You can implement models by taking any of the examples as a starting point. For interactive tests, satisfying `ldmunit.capabilities.Interactive` is a requirement. Apart from this, models can continuously satisfy new capabilities in order to take new tests."
   ]
  }
 ],
 "metadata": {
  "kernelspec": {
   "display_name": "Python [conda env:ldmunit]",
   "language": "python",
   "name": "conda-env-ldmunit-py"
  },
  "language_info": {
   "codemirror_mode": {
    "name": "ipython",
    "version": 3
   },
   "file_extension": ".py",
   "mimetype": "text/x-python",
   "name": "python",
   "nbconvert_exporter": "python",
   "pygments_lexer": "ipython3",
   "version": "3.6.8"
  }
 },
 "nbformat": 4,
 "nbformat_minor": 2
}
