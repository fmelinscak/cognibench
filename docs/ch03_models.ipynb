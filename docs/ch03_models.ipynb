{
 "cells": [
  {
   "cell_type": "markdown",
   "metadata": {},
   "source": [
    "# Chapter 3: Models\n",
    "In this chapter, we explain the ideas behind model and agent interfaces and the example model/agent implementations provided by `ldmunit`."
   ]
  },
  {
   "cell_type": "markdown",
   "metadata": {},
   "source": [
    "## Capabilities\n",
    "Similar to `sciunit`, `ldmunit` test classes require models to have certain capabilities. For example, `InteractiveTest` requires the models to implement the requirements specified by `ldmunit.capabilities.Interactive` capability. In addition to test classes, the score class used for testing can also require capabilities. If you want to use `ldmunit.scores.AICScore`, then the model should also have `ldmunit.capabilities.PredictsLogpdf` and `ldmunit.capabilities.ReturnsNumParams` capabilities. We can see these requirements as follows:"
   ]
  },
  {
   "cell_type": "code",
   "execution_count": 2,
   "metadata": {},
   "outputs": [
    {
     "name": "stdout",
     "output_type": "stream",
     "text": [
      "(<class 'ldmunit.capabilities.Interactive'>,)\n",
      "(<class 'ldmunit.capabilities.PredictsLogpdf'>, <class 'ldmunit.capabilities.ReturnsNumParams'>)\n"
     ]
    }
   ],
   "source": [
    "from ldmunit.testing import InteractiveTest\n",
    "from ldmunit.scores import AICScore\n",
    "print(InteractiveTest.required_capabilities)\n",
    "print(AICScore.required_capabilities)"
   ]
  },
  {
   "cell_type": "markdown",
   "metadata": {},
   "source": [
    "## Model Interface\n",
    "In `ldmunit` terms, a model represents a way of predicting the actions of some agent and fitting parameters to data:"
   ]
  },
  {
   "cell_type": "code",
   "execution_count": 4,
   "metadata": {},
   "outputs": [
    {
     "name": "stdout",
     "output_type": "stream",
     "text": [
      "LDMModel Documentation\n",
      "----------------------\n",
      "\n",
      "    Base class for LDMUnit models.\n",
      "\n",
      "    In `ldmunit`, a model is a way of representing a continuum of some type of an agent and corresponding possible parameters. Models are\n",
      "    expected to provide fitting and action prediction functionalities, while leaving the tasks of acting on environments and\n",
      "    updating hidden state variables to agents.\n",
      "    \n"
     ]
    }
   ],
   "source": [
    "from ldmunit.models import LDMModel\n",
    "print('LDMModel Documentation')\n",
    "print('----------------------')\n",
    "print(LDMModel.__doc__)"
   ]
  },
  {
   "cell_type": "markdown",
   "metadata": {},
   "source": [
    "## Agent Interface\n",
    "An agent represents a way of interacting with an environment through `act` and `update` methods:"
   ]
  },
  {
   "cell_type": "code",
   "execution_count": 5,
   "metadata": {},
   "outputs": [
    {
     "name": "stdout",
     "output_type": "stream",
     "text": [
      "LDMAgent Documentation\n",
      "----------------------\n",
      "\n",
      "    Base class for LDMUnit agents.\n",
      "\n",
      "    In `ldmunit`, an agent is a way of interacting with environments through `act` and `update` methods while possibly\n",
      "    storing some hidden state.\n",
      "    \n"
     ]
    }
   ],
   "source": [
    "from ldmunit.models import LDMAgent\n",
    "print('LDMAgent Documentation')\n",
    "print('----------------------')\n",
    "print(LDMAgent.__doc__)"
   ]
  },
  {
   "cell_type": "markdown",
   "metadata": {},
   "source": [
    "## Example Agents and Models\n",
    "In this section, we go over example model and agent implementations provided by ldmunit:"
   ]
  },
  {
   "cell_type": "code",
   "execution_count": 10,
   "metadata": {},
   "outputs": [],
   "source": [
    "# import Rescorla-Wagner Choice Kernel model\n",
    "from ldmunit.models.decision_making import RWCKModel, RWCKAgent"
   ]
  },
  {
   "cell_type": "markdown",
   "metadata": {},
   "source": [
    "If we look at the superclasses of `RWCKAgent`, we see that it inherits from"
   ]
  },
  {
   "cell_type": "code",
   "execution_count": 12,
   "metadata": {},
   "outputs": [
    {
     "data": {
      "text/plain": [
       "(ldmunit.models.base.LDMAgent,\n",
       " ldmunit.capabilities.ProducesPolicy,\n",
       " ldmunit.capabilities.DiscreteAction,\n",
       " ldmunit.capabilities.DiscreteObservation)"
      ]
     },
     "execution_count": 12,
     "metadata": {},
     "output_type": "execute_result"
    }
   ],
   "source": [
    "RWCKAgent.__bases__"
   ]
  },
  {
   "cell_type": "markdown",
   "metadata": {},
   "source": [
    "Here, the last two define the action and observation space this agent can interact with. This is important for methods that require environment and agent interaction such as `ldmunit.simulation.simulate` function. Then, we see that `RWCKAgent` inherits from `ProducesPolicy` capability. This means that `RWCKAgent` provides `eval_policy` method that returns a probability distribution over the action space. Although this is not directly required for interacting with environments, it allows a very straightforward model implementation. In `ldmunit`, this functionality is in `ldmunit.models.policy_model.PolicyModel` class."
   ]
  },
  {
   "cell_type": "code",
   "execution_count": 13,
   "metadata": {},
   "outputs": [
    {
     "name": "stdout",
     "output_type": "stream",
     "text": [
      "\n",
      "    PolicyModel provides a model implementation that can be created from agents satisfying :class:`ldmunit.capabilities.ProducesPolicy`\n",
      "    capability.\n",
      "\n",
      "    If you already have an agent implementation that can provide a probability distribution over the action space (`eval_policy` method), you\n",
      "    can create a model of that agent that uses `eval_policy` to make predictions and to fit model parameters (using maximum likelihood) by simply\n",
      "    deriving from this class. For examples of this, refer to decision making or associative learning model implementations\n",
      "    provided by `ldmunit`.\n",
      "    \n"
     ]
    }
   ],
   "source": [
    "from ldmunit.models.policy_model import PolicyModel\n",
    "print(PolicyModel.__doc__)"
   ]
  },
  {
   "cell_type": "markdown",
   "metadata": {},
   "source": [
    " Any model that subclass from `PolicyModel` automatically gets `fit` and `predict` method implementations by using the `eval_policy` method of the underlying agent. `RWCKModel` is an example of such implementation; it subclasses from `PolicyModel` and uses an `RWCKAgent` for the underlying update equations and probability distribution generation."
   ]
  },
  {
   "cell_type": "code",
   "execution_count": 17,
   "metadata": {},
   "outputs": [
    {
     "data": {
      "text/plain": [
       "(ldmunit.models.policy_model.PolicyModel,\n",
       " ldmunit.capabilities.DiscreteAction,\n",
       " ldmunit.capabilities.DiscreteObservation)"
      ]
     },
     "execution_count": 17,
     "metadata": {},
     "output_type": "execute_result"
    }
   ],
   "source": [
    "RWCKModel.__bases__"
   ]
  },
  {
   "cell_type": "markdown",
   "metadata": {},
   "source": [
    "## Implementing Your Own Agents or Models\n",
    "You can implement models by taking any of the examples as a starting point. For interactive tests, satisfying `ldmunit.capabilities.Interactive` is a requirement. Apart from this, models can continuously satisfy new capabilities in order to take new tests."
   ]
  }
 ],
 "metadata": {
  "kernelspec": {
   "display_name": "Python [conda env:ldmunit]",
   "language": "python",
   "name": "conda-env-ldmunit-py"
  },
  "language_info": {
   "codemirror_mode": {
    "name": "ipython",
    "version": 3
   },
   "file_extension": ".py",
   "mimetype": "text/x-python",
   "name": "python",
   "nbconvert_exporter": "python",
   "pygments_lexer": "ipython3",
   "version": "3.6.8"
  }
 },
 "nbformat": 4,
 "nbformat_minor": 2
}
