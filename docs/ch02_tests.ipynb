{
 "cells": [
  {
   "cell_type": "markdown",
   "metadata": {},
   "source": [
    "# Chapter 2: Tests\n",
    "In this chapter, we explain the main idea behind `InteractiveTest`, three example interactive test classes provided by ldmunit and how you can implement your own interactive tests with little effort."
   ]
  },
  {
   "cell_type": "markdown",
   "metadata": {},
   "source": [
    "## Interactive Tests\n",
    "`InteractiveTest` class is one implementation of a test class which **requires** the models to implement `ldmunit.capabilities.Interactive` interface. Such models should implement the methods that allow them to mix predictions and model updates. This is in contrast to models that first must be trained, and then can only predict actions for stimuli with no further training."
   ]
  },
  {
   "cell_type": "code",
   "execution_count": 2,
   "metadata": {},
   "outputs": [
    {
     "name": "stdout",
     "output_type": "stream",
     "text": [
      "\n",
      "    Perform interactive tests by feeding the input samples (stimuli) one at a\n",
      "    time. This class is not intended to be used directly since it does not\n",
      "    specify how the score should be computed. In order to create concrete\n",
      "    interactive tests, create a subclass and specify how the score should be\n",
      "    computed.\n",
      "\n",
      "    See Also\n",
      "    --------\n",
      "    :class:`NLLTest`, :class:`AICTest`, :class:`BICTest` for examples of concrete interactive test classes\n",
      "    \n"
     ]
    }
   ],
   "source": [
    "from ldmunit.tests import InteractiveTest\n",
    "# InteractiveTest documentation\n",
    "print(InteractiveTest.__doc__)"
   ]
  },
  {
   "cell_type": "code",
   "execution_count": 3,
   "metadata": {},
   "outputs": [
    {
     "data": {
      "text/plain": [
       "(ldmunit.capabilities.Interactive,)"
      ]
     },
     "execution_count": 3,
     "metadata": {},
     "output_type": "execute_result"
    }
   ],
   "source": [
    "# models are required to implement ldmunit.capabilities.Interactive\n",
    "InteractiveTest.required_capabilities"
   ]
  },
  {
   "cell_type": "markdown",
   "metadata": {},
   "source": [
    "`InteractiveTest` class overrides the `generate_prediction` method of `sciunit.Test` class to test a given multi-subject model interactively. It requires three sets of observations:\n",
    "* stimuli\n",
    "* actions\n",
    "* rewards\n",
    "\n",
    "However, `InteractiveTest` class does not specify a complete test class because it has no notion of score. It simply defines a way of generating the predictions. In order to create a real, interactive test, we need to specify how the score is computed"
   ]
  },
  {
   "cell_type": "markdown",
   "metadata": {},
   "source": [
    "## Examples Provided by ldmunit\n",
    "ldmunit provides three concrete interactive tests classes that inherit from `InteractiveTest`: `NLLTest`, `AICTest` and `BICTest`.\n",
    "\n",
    "We have seen `NLLTest` in the previous chapter: it uses negative log-likelihood as score to compare models. In order to compute negative log-likelihood from a set of predictions, `NLLTest` requires probability distributions for each input stimulus. This is a new requirement which we can see:"
   ]
  },
  {
   "cell_type": "code",
   "execution_count": 6,
   "metadata": {},
   "outputs": [
    {
     "data": {
      "text/plain": [
       "(ldmunit.capabilities.Interactive, ldmunit.capabilities.LogProbModel)"
      ]
     },
     "execution_count": 6,
     "metadata": {},
     "output_type": "execute_result"
    }
   ],
   "source": [
    "from ldmunit.tests import NLLTest\n",
    "NLLTest.required_capabilities"
   ]
  },
  {
   "cell_type": "markdown",
   "metadata": {},
   "source": [
    "and the description for `LogProbModel` states that"
   ]
  },
  {
   "cell_type": "code",
   "execution_count": 8,
   "metadata": {},
   "outputs": [
    {
     "name": "stdout",
     "output_type": "stream",
     "text": [
      "\n",
      "    Capability for models that produce a log probability distribution\n",
      "    as a result of their predict function.\n",
      "\n",
      "    Models with this capability are required to have the following methods\n",
      "    \n"
     ]
    }
   ],
   "source": [
    "from ldmunit.capabilities import LogProbModel\n",
    "print(LogProbModel.__doc__)"
   ]
  },
  {
   "cell_type": "markdown",
   "metadata": {},
   "source": [
    "As we mentioned before, the other example tests provided are `AICTest` which computes the score using Akaike's Information Criterion and `BICTest` which uses Bayesian Information Criterion as score. These scores also require probability distributions for each stimuli and their implementations are similar in spirit to `NLLTest`.\n",
    "\n",
    "Different from `NLLTest`, `AICTest` and `BICTest` require information about the properties of the model being tested. This information is not available in `compute_score` method where all the predictions are already generated. For this reason, they intercept `generate_prediction` call to collect information about the model before utilizing the already implemented prediction generation logic from `InteractiveTest`."
   ]
  },
  {
   "cell_type": "markdown",
   "metadata": {},
   "source": [
    "## Implementing Your Own Interactive Tests\n",
    "Implementations of the three example test classes provided by ldmunit are good starting points for implementing your own interactive tests. You can tweak various parts of the new classes such as scores to use, how it is computed and even alter the way predictions are generated by partially or completely overriding `generate_prediction` method. Further, new capabilities can be added as in all three of provided examples."
   ]
  }
 ],
 "metadata": {
  "kernelspec": {
   "display_name": "Python [conda env:ldmunit]",
   "language": "python",
   "name": "conda-env-ldmunit-py"
  },
  "language_info": {
   "codemirror_mode": {
    "name": "ipython",
    "version": 3
   },
   "file_extension": ".py",
   "mimetype": "text/x-python",
   "name": "python",
   "nbconvert_exporter": "python",
   "pygments_lexer": "ipython3",
   "version": "3.6.8"
  }
 },
 "nbformat": 4,
 "nbformat_minor": 2
}
