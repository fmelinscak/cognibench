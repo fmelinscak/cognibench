{
 "cells": [
  {
   "cell_type": "markdown",
   "metadata": {},
   "source": [
    "# Chapter 2: Tests\n",
    "In this chapter, we explain the main idea behind test classes `InteractiveTest`, `BatchTest` and `BatchTestWithSplit`."
   ]
  },
  {
   "cell_type": "markdown",
   "metadata": {},
   "source": [
    "## Test Class Interface\n",
    "Test class interface is defined by `cognibench.testing.CNBTest` class, which defines the functions to be implemented by concrete test clasess and provides the base implementation for multi-subject testing in addition to helper functionalities such as data and log persistence."
   ]
  },
  {
   "cell_type": "code",
   "execution_count": 1,
   "metadata": {},
   "outputs": [
    {
     "name": "stdout",
     "output_type": "stream",
     "text": [
      "CNBTest documentation\n",
      "-----------------------------\n",
      "\n",
      "    Base test class for all CogniBench tests.\n",
      "\n",
      "    This class defines the common functionality that can be used by further testing classes. In addition to sciunit\n",
      "    interaction, it defines the multi-subject testing framework, and requires deriving classes to only define\n",
      "    single-subject testing logic. The deriving classes should implement at least `predict_single` and `compute_score_single` methods\n",
      "    to define the testing procedure. CNBTest only accepts models that are subclasses of :class:`cognibench.models.CNBModel`.\n",
      "    \n"
     ]
    }
   ],
   "source": [
    "from cognibench.testing import CNBTest\n",
    "print('CNBTest documentation')\n",
    "print('-----------------------------')\n",
    "print(CNBTest.__doc__)"
   ]
  },
  {
   "cell_type": "markdown",
   "metadata": {},
   "source": [
    "## Interactive Tests\n",
    "`InteractiveTest` is test class which **requires** the models to implement `cognibench.capabilities.Interactive` interface. Such models should implement the methods that allow them to be trained in a continuous manner. This is in contrast to models that first must be trained, and then can only predict actions for stimuli with no further training."
   ]
  },
  {
   "cell_type": "code",
   "execution_count": 2,
   "metadata": {},
   "outputs": [
    {
     "name": "stdout",
     "output_type": "stream",
     "text": [
      "InteractiveTest documentation\n",
      "-----------------------------\n",
      "\n",
      "    Perform interactive tests by feeding the input samples (stimuli, rewards, actions) one at a time and updating the\n",
      "    model after each sample with the corresponding reward.\n",
      "    \n"
     ]
    }
   ],
   "source": [
    "from cognibench.testing import InteractiveTest\n",
    "print('InteractiveTest documentation')\n",
    "print('-----------------------------')\n",
    "print(InteractiveTest.__doc__)"
   ]
  },
  {
   "cell_type": "code",
   "execution_count": 3,
   "metadata": {},
   "outputs": [
    {
     "data": {
      "text/plain": [
       "(cognibench.capabilities.Interactive,)"
      ]
     },
     "execution_count": 3,
     "metadata": {},
     "output_type": "execute_result"
    }
   ],
   "source": [
    "# models are required to implement cognibench.capabilities.Interactive\n",
    "InteractiveTest.required_capabilities"
   ]
  },
  {
   "cell_type": "markdown",
   "metadata": {},
   "source": [
    "`InteractiveTest` class overrides the `predict_single` and `compute_score_single` methods of `cognibench.testing.CNBTest` class to test a given model interactively. It requires three sets of observations:\n",
    "* stimuli\n",
    "* actions\n",
    "* rewards\n"
   ]
  },
  {
   "cell_type": "markdown",
   "metadata": {},
   "source": [
    "## Batch Tests\n",
    "`BatchTest` is test class which generates test predictions from a model by providing all the samples together. Since this is a very common way of testing models in general, `cognibench` offers such a test class, as well."
   ]
  },
  {
   "cell_type": "code",
   "execution_count": 4,
   "metadata": {},
   "outputs": [
    {
     "name": "stdout",
     "output_type": "stream",
     "text": [
      "BatchTest documentation\n",
      "-----------------------------\n",
      "\n",
      "    BatchTest class allows passing the stimuli-action pairs to the model in a single batch instead of\n",
      "    performing interactive testing. `predict` method of a model used in this testing method must accept\n",
      "    a sequence of stimuli, not just one stimulus.\n",
      "    \n"
     ]
    }
   ],
   "source": [
    "from cognibench.testing import BatchTest\n",
    "print('BatchTest documentation')\n",
    "print('-----------------------------')\n",
    "print(BatchTest.__doc__)"
   ]
  },
  {
   "cell_type": "markdown",
   "metadata": {},
   "source": [
    "## Batch Tests With Splitting Functionality\n",
    "By default, `cognibench` testing classes uses the same samples for both model optimization and prediction generation. However, this behaviour can be easily modified by overriding `get_fitting_observations_single` and `get_testing_observations_single` methods, which is exactly what `BatchTestWithSplit` class does. If you want to use separate samples for model fitting and prediction generation, you can use `BatchTestWithSplit` class."
   ]
  },
  {
   "cell_type": "code",
   "execution_count": 5,
   "metadata": {},
   "outputs": [
    {
     "name": "stdout",
     "output_type": "stream",
     "text": [
      "BatchTestWithSplit documentation\n",
      "-----------------------------\n",
      "\n",
      "    Testing class that allows specifying training and testing samples separately for each subject. This is in contrast\n",
      "    to the standard :class:`CNBTest` class where models are optimized and tested on the same samples (which is common\n",
      "    practice for psychophysiological models).\n",
      "    \n"
     ]
    }
   ],
   "source": [
    "from cognibench.testing import BatchTestWithSplit\n",
    "print('BatchTestWithSplit documentation')\n",
    "print('-----------------------------')\n",
    "print(BatchTestWithSplit.__doc__)"
   ]
  },
  {
   "cell_type": "markdown",
   "metadata": {},
   "source": [
    "## Implementing Your Own Testing Logic\n",
    "In case various testing manners provided by `cognibench` does not satisfy your requirements, you can implement your own testing logic by subclassing from `CNBTest` class and defining how a single-subject model should be tested. This has the benefit that your class will automatically have multi-subject testing functionality, as well. If you want to follow this route, please look at the implementation of the above concrete test classes which is found in `cognibench/testing/tests.py`."
   ]
  }
 ],
 "metadata": {
  "kernelspec": {
   "display_name": "Python [conda env:ldmunit]",
   "language": "python",
   "name": "conda-env-ldmunit-py"
  },
  "language_info": {
   "codemirror_mode": {
    "name": "ipython",
    "version": 3
   },
   "file_extension": ".py",
   "mimetype": "text/x-python",
   "name": "python",
   "nbconvert_exporter": "python",
   "pygments_lexer": "ipython3",
   "version": "3.6.8"
  }
 },
 "nbformat": 4,
 "nbformat_minor": 2
}
