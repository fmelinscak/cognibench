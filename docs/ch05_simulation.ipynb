{
 "cells": [
  {
   "cell_type": "markdown",
   "metadata": {},
   "source": [
    "## Action and Observation Spaces\n",
    "Certain types of action and observation spaces may be required by tests. For example, `ldmunit.capabilities.DiscreteObservation` is a capability that requires a model to operate on discrete observation spaces. A test that has `ldmunit.capabilities.DiscreteObservation` in its `required_capabilities` variable may do checks specific to a discrete observation space. We would like to note two items here\n",
    "1. `ldmunit.capabilities.DiscreteObservation` defines and at the same time provides a default implementation of discrete observation interface using `gym.spaces.Discrete`. However, this can be changed by creating a subclass of `ldmunit.capabilities.DiscreteObservation` and providing your own discrete observation space implementations.\n",
    "2. Currently, there are no example tests that require a certain type of action or observation space. Hence, we don't provide any example code here."
   ]
  }
 ],
 "metadata": {
  "kernelspec": {
   "display_name": "Python [conda env:ldmunit]",
   "language": "python",
   "name": "conda-env-ldmunit-py"
  },
  "language_info": {
   "codemirror_mode": {
    "name": "ipython",
    "version": 3
   },
   "file_extension": ".py",
   "mimetype": "text/x-python",
   "name": "python",
   "nbconvert_exporter": "python",
   "pygments_lexer": "ipython3",
   "version": "3.6.8"
  }
 },
 "nbformat": 4,
 "nbformat_minor": 2
}
