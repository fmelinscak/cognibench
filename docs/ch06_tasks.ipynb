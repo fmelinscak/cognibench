{
 "cells": [
  {
   "cell_type": "markdown",
   "metadata": {},
   "source": [
    "# Chapter 6: Tasks\n",
    "`ldmunit` provides implementations of model recovery and parameter recovery tasks. Here we shortly explain these two tasks and show simple example code and results."
   ]
  },
  {
   "cell_type": "code",
   "execution_count": 1,
   "metadata": {},
   "outputs": [],
   "source": [
    "import sciunit\n",
    "from os import getcwd\n",
    "from ldmunit.models.decision_making import NWSLSModel, RWCKModel, RWModel\n",
    "from ldmunit.tasks import model_recovery, param_recovery\n",
    "from ldmunit.testing import InteractiveTest\n",
    "from ldmunit.scores import NLLScore\n",
    "from ldmunit.utils import partialclass\n",
    "from ldmunit.envs import BanditEnv\n",
    "sciunit.settings['CWD'] = getcwd()"
   ]
  },
  {
   "cell_type": "markdown",
   "metadata": {},
   "source": [
    "## Model Recovery\n",
    "Model recovery is the task of generating simulated data from a sequence of models, from one at a time, and then testing all the models in this sequence against this data to see which models fits best. If we have `N` models, this task generates `N * N` many score values, `N` score values for each of the simulated data from the corresponding model. This allows us to represents the results succinctly as a score matrix. `ldmunit` provides `ldmunit.tasks.model_recovery` function for this purpose, which we demonstrate below:"
   ]
  },
  {
   "cell_type": "code",
   "execution_count": 2,
   "metadata": {
    "scrolled": true
   },
   "outputs": [
    {
     "name": "stderr",
     "output_type": "stream",
     "text": [
      "01-29-20 11:44 ldmunit      INFO     model_recovery : Simulating model NWSLSModel against env BanditEnv\n",
      "01-29-20 11:44 ldmunit      INFO     model_recovery : Simulating model RWCKModel against env BanditEnv\n",
      "01-29-20 11:44 ldmunit      INFO     model_recovery : Simulating model RWModel against env BanditEnv\n"
     ]
    },
    {
     "data": {
      "text/html": [
       "Executing test <i>Ground truth: NWSLSModel</i> on model <i>NWSLSModel</i>... "
      ],
      "text/plain": [
       "<IPython.core.display.HTML object>"
      ]
     },
     "metadata": {},
     "output_type": "display_data"
    },
    {
     "name": "stderr",
     "output_type": "stream",
     "text": [
      "01-29-20 11:44 ldmunit      INFO     Ground truth: NWSLSModel : Optimizing NWSLSModel model...\n"
     ]
    },
    {
     "data": {
      "text/html": [
       "Score is <a style=\"color: rgb(99,188,98)\">69.7</a>\n"
      ],
      "text/plain": [
       "<IPython.core.display.HTML object>"
      ]
     },
     "metadata": {},
     "output_type": "display_data"
    },
    {
     "data": {
      "text/html": [
       "Executing test <i>Ground truth: RWCKModel</i> on model <i>NWSLSModel</i>... "
      ],
      "text/plain": [
       "<IPython.core.display.HTML object>"
      ]
     },
     "metadata": {},
     "output_type": "display_data"
    },
    {
     "name": "stderr",
     "output_type": "stream",
     "text": [
      "01-29-20 11:44 ldmunit      INFO     Ground truth: RWCKModel : Optimizing NWSLSModel model...\n"
     ]
    },
    {
     "data": {
      "text/html": [
       "Score is <a style=\"color: rgb(122,198,101)\">120</a>\n"
      ],
      "text/plain": [
       "<IPython.core.display.HTML object>"
      ]
     },
     "metadata": {},
     "output_type": "display_data"
    },
    {
     "data": {
      "text/html": [
       "Executing test <i>Ground truth: RWModel</i> on model <i>NWSLSModel</i>... "
      ],
      "text/plain": [
       "<IPython.core.display.HTML object>"
      ]
     },
     "metadata": {},
     "output_type": "display_data"
    },
    {
     "name": "stderr",
     "output_type": "stream",
     "text": [
      "01-29-20 11:44 ldmunit      INFO     Ground truth: RWModel : Optimizing NWSLSModel model...\n"
     ]
    },
    {
     "data": {
      "text/html": [
       "Score is <a style=\"color: rgb(122,198,101)\">118</a>\n"
      ],
      "text/plain": [
       "<IPython.core.display.HTML object>"
      ]
     },
     "metadata": {},
     "output_type": "display_data"
    },
    {
     "data": {
      "text/html": [
       "Executing test <i>Ground truth: NWSLSModel</i> on model <i>RWCKModel</i>... "
      ],
      "text/plain": [
       "<IPython.core.display.HTML object>"
      ]
     },
     "metadata": {},
     "output_type": "display_data"
    },
    {
     "name": "stderr",
     "output_type": "stream",
     "text": [
      "01-29-20 11:44 ldmunit      INFO     Ground truth: NWSLSModel : Optimizing RWCKModel model...\n"
     ]
    },
    {
     "data": {
      "text/html": [
       "Score is <a style=\"color: rgb(114,195,100)\">104</a>\n"
      ],
      "text/plain": [
       "<IPython.core.display.HTML object>"
      ]
     },
     "metadata": {},
     "output_type": "display_data"
    },
    {
     "data": {
      "text/html": [
       "Executing test <i>Ground truth: RWCKModel</i> on model <i>RWCKModel</i>... "
      ],
      "text/plain": [
       "<IPython.core.display.HTML object>"
      ]
     },
     "metadata": {},
     "output_type": "display_data"
    },
    {
     "name": "stderr",
     "output_type": "stream",
     "text": [
      "01-29-20 11:44 ldmunit      INFO     Ground truth: RWCKModel : Optimizing RWCKModel model...\n"
     ]
    },
    {
     "data": {
      "text/html": [
       "Score is <a style=\"color: rgb(114,195,100)\">103</a>\n"
      ],
      "text/plain": [
       "<IPython.core.display.HTML object>"
      ]
     },
     "metadata": {},
     "output_type": "display_data"
    },
    {
     "data": {
      "text/html": [
       "Executing test <i>Ground truth: RWModel</i> on model <i>RWCKModel</i>... "
      ],
      "text/plain": [
       "<IPython.core.display.HTML object>"
      ]
     },
     "metadata": {},
     "output_type": "display_data"
    },
    {
     "name": "stderr",
     "output_type": "stream",
     "text": [
      "01-29-20 11:44 ldmunit      INFO     Ground truth: RWModel : Optimizing RWCKModel model...\n"
     ]
    },
    {
     "data": {
      "text/html": [
       "Score is <a style=\"color: rgb(114,195,100)\">104</a>\n"
      ],
      "text/plain": [
       "<IPython.core.display.HTML object>"
      ]
     },
     "metadata": {},
     "output_type": "display_data"
    },
    {
     "data": {
      "text/html": [
       "Executing test <i>Ground truth: NWSLSModel</i> on model <i>RWModel</i>... "
      ],
      "text/plain": [
       "<IPython.core.display.HTML object>"
      ]
     },
     "metadata": {},
     "output_type": "display_data"
    },
    {
     "name": "stderr",
     "output_type": "stream",
     "text": [
      "01-29-20 11:44 ldmunit      INFO     Ground truth: NWSLSModel : Optimizing RWModel model...\n"
     ]
    },
    {
     "data": {
      "text/html": [
       "Score is <a style=\"color: rgb(114,195,100)\">104</a>\n"
      ],
      "text/plain": [
       "<IPython.core.display.HTML object>"
      ]
     },
     "metadata": {},
     "output_type": "display_data"
    },
    {
     "data": {
      "text/html": [
       "Executing test <i>Ground truth: RWCKModel</i> on model <i>RWModel</i>... "
      ],
      "text/plain": [
       "<IPython.core.display.HTML object>"
      ]
     },
     "metadata": {},
     "output_type": "display_data"
    },
    {
     "name": "stderr",
     "output_type": "stream",
     "text": [
      "01-29-20 11:44 ldmunit      INFO     Ground truth: RWCKModel : Optimizing RWModel model...\n"
     ]
    },
    {
     "data": {
      "text/html": [
       "Score is <a style=\"color: rgb(114,195,100)\">103</a>\n"
      ],
      "text/plain": [
       "<IPython.core.display.HTML object>"
      ]
     },
     "metadata": {},
     "output_type": "display_data"
    },
    {
     "data": {
      "text/html": [
       "Executing test <i>Ground truth: RWModel</i> on model <i>RWModel</i>... "
      ],
      "text/plain": [
       "<IPython.core.display.HTML object>"
      ]
     },
     "metadata": {},
     "output_type": "display_data"
    },
    {
     "name": "stderr",
     "output_type": "stream",
     "text": [
      "01-29-20 11:44 ldmunit      INFO     Ground truth: RWModel : Optimizing RWModel model...\n"
     ]
    },
    {
     "data": {
      "text/html": [
       "Score is <a style=\"color: rgb(114,195,100)\">104</a>\n"
      ],
      "text/plain": [
       "<IPython.core.display.HTML object>"
      ]
     },
     "metadata": {},
     "output_type": "display_data"
    },
    {
     "data": {
      "text/html": [
       "<div>\n",
       "<style scoped>\n",
       "    .dataframe tbody tr th:only-of-type {\n",
       "        vertical-align: middle;\n",
       "    }\n",
       "\n",
       "    .dataframe tbody tr th {\n",
       "        vertical-align: top;\n",
       "    }\n",
       "\n",
       "    .dataframe thead th {\n",
       "        text-align: right;\n",
       "    }\n",
       "</style>\n",
       "<table border=\"1\" class=\"dataframe\">\n",
       "  <thead>\n",
       "    <tr style=\"text-align: right;\">\n",
       "      <th></th>\n",
       "      <th>Ground truth: NWSLSModel</th>\n",
       "      <th>Ground truth: RWCKModel</th>\n",
       "      <th>Ground truth: RWModel</th>\n",
       "    </tr>\n",
       "  </thead>\n",
       "  <tbody>\n",
       "    <tr>\n",
       "      <th>NWSLSModel</th>\n",
       "      <td>69.7</td>\n",
       "      <td>120</td>\n",
       "      <td>118</td>\n",
       "    </tr>\n",
       "    <tr>\n",
       "      <th>RWCKModel</th>\n",
       "      <td>104</td>\n",
       "      <td>103</td>\n",
       "      <td>104</td>\n",
       "    </tr>\n",
       "    <tr>\n",
       "      <th>RWModel</th>\n",
       "      <td>104</td>\n",
       "      <td>103</td>\n",
       "      <td>104</td>\n",
       "    </tr>\n",
       "  </tbody>\n",
       "</table>\n",
       "</div>"
      ],
      "text/plain": [
       "           Ground truth: NWSLSModel Ground truth: RWCKModel  \\\n",
       "NWSLSModel                     69.7                     120   \n",
       "RWCKModel                       104                     103   \n",
       "RWModel                         104                     103   \n",
       "\n",
       "           Ground truth: RWModel  \n",
       "NWSLSModel                   118  \n",
       "RWCKModel                    104  \n",
       "RWModel                      104  "
      ]
     },
     "metadata": {},
     "output_type": "display_data"
    }
   ],
   "source": [
    "p_dist = [0.2, 0.5, 0.3, 0.1]\n",
    "n_action = len(p_dist)\n",
    "env = BanditEnv(p_dist=p_dist)\n",
    "test_cls = partialclass(InteractiveTest, score_type=partialclass(NLLScore, min_score=0, max_score=1e3))\n",
    "test_suite, score_matrix = model_recovery(\n",
    "    [NWSLSModel(n_action=n_action, n_obs=1), RWCKModel(n_action=n_action, n_obs=1), RWModel(n_action=n_action, n_obs=1)],\n",
    "    env,\n",
    "    test_cls,\n",
    "    n_trials=75,\n",
    "    seed=42\n",
    ")\n",
    "display(score_matrix)"
   ]
  },
  {
   "cell_type": "markdown",
   "metadata": {},
   "source": [
    "## Parameter Recovery\n",
    "Parameter recovery is the task of simulating data from a given model with a sequence of parameter settings, one at a time, and then fitting the model on the generated data to see if the fitted parameter models are similar to the ones used to generate the data in the first place. Since the fits are subject to randomness, data simulation and model fitting is performed multiple times for a single parameter setting. Therefore, if we have `K` parameter settings and we perform `T` fits for each setting, we will have `K * T` many fitted parameter values as the result of this task. `ldmunit` offers parameter recovery implementation with `ldmunit.tasks.parameter_recovery` function, which we demonstrate below:"
   ]
  },
  {
   "cell_type": "code",
   "execution_count": 4,
   "metadata": {},
   "outputs": [
    {
     "name": "stderr",
     "output_type": "stream",
     "text": [
      "01-29-20 11:45 ldmunit      INFO     param_recovery: Recovering parameters with index 0\n",
      "01-29-20 11:45 ldmunit      INFO     param_recovery: Recovering parameters with index 1\n",
      "01-29-20 11:45 ldmunit      INFO     param_recovery: Recovering parameters with index 2\n"
     ]
    },
    {
     "name": "stdout",
     "output_type": "stream",
     "text": [
      "Original setting: {'epsilon': 0}\n",
      "Fitted results\n",
      "[{'epsilon': 0.8999999999999999}, {'epsilon': 1.7999999999999998}, {'epsilon': 2.6999999999999993}]\n",
      "\n",
      "Original setting: {'epsilon': 2}\n",
      "Fitted results\n",
      "[{'epsilon': 1.1500000000000004}, {'epsilon': 2.05}, {'epsilon': 2.6999999999999993}]\n",
      "\n",
      "Original setting: {'epsilon': 3}\n",
      "Fitted results\n",
      "[{'epsilon': 0.00075}, {'epsilon': 3.075}, {'epsilon': 2.3000000000000007}]\n",
      "\n"
     ]
    }
   ],
   "source": [
    "param_settings = [\n",
    "    {'epsilon': 0},\n",
    "    {'epsilon': 2},\n",
    "    {'epsilon': 3}\n",
    "]\n",
    "results = param_recovery(\n",
    "    param_settings,\n",
    "    NWSLSModel(n_action=n_action, n_obs=1), \n",
    "    env,\n",
    "    n_runs=3,\n",
    "    n_trials=75,\n",
    ")\n",
    "for setting, its_results in zip(param_settings, results):\n",
    "    print('Original setting:', setting)\n",
    "    print('Fitted results')\n",
    "    print(its_results)\n",
    "    print()"
   ]
  }
 ],
 "metadata": {
  "kernelspec": {
   "display_name": "Python [conda env:ldmunit]",
   "language": "python",
   "name": "conda-env-ldmunit-py"
  },
  "language_info": {
   "codemirror_mode": {
    "name": "ipython",
    "version": 3
   },
   "file_extension": ".py",
   "mimetype": "text/x-python",
   "name": "python",
   "nbconvert_exporter": "python",
   "pygments_lexer": "ipython3",
   "version": "3.6.8"
  }
 },
 "nbformat": 4,
 "nbformat_minor": 2
}
