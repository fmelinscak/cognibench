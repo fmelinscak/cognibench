{
 "cells": [
  {
   "cell_type": "code",
   "execution_count": 1,
   "metadata": {},
   "outputs": [],
   "source": [
    "import sys\n",
    "from os.path import join as pathjoin\n",
    "from os import getcwd\n",
    "sys.path.append(pathjoin('..', 'src'))\n",
    "from ldmunit.models import decision_making, associative_learning\n",
    "from ldmunit.models.utils import multi_from_single_interactive\n",
    "from ldmunit.tests import NLLTest, BICTest\n",
    "import sciunit\n",
    "sciunit.settings['CWD'] = getcwd()\n",
    "DATA_PATH = pathjoin('..', 'data')\n",
    "\n",
    "from read_example_data import get_simulation_data, get_model_params"
   ]
  },
  {
   "cell_type": "markdown",
   "metadata": {},
   "source": [
    "## Decision Making"
   ]
  },
  {
   "cell_type": "code",
   "execution_count": 3,
   "metadata": {},
   "outputs": [],
   "source": [
    "MultiRWCKModel = multi_from_single_interactive(decision_making.RWCKModel)\n",
    "MultiNWSLSModel = multi_from_single_interactive(decision_making.NWSLSModel)\n",
    "MultiRandomRespondModel = multi_from_single_interactive(decision_making.RandomRespondModel)"
   ]
  },
  {
   "cell_type": "code",
   "execution_count": 5,
   "metadata": {},
   "outputs": [],
   "source": [
    "rwck = get_simulation_data(pathjoin(DATA_PATH, 'multi-rwck.csv'), 3)\n",
    "nll_rwck = NLLTest(name='RWCK sim', observation=rwck)\n",
    "\n",
    "rr = get_simulation_data(pathjoin(DATA_PATH, 'multi-random-responding.csv'), 3)\n",
    "nll_rr = NLLTest(name='RR sim', observation=rr)\n",
    "\n",
    "nwsls = get_simulation_data(pathjoin(DATA_PATH,'multi-nwsls.csv'), 3)\n",
    "nll_nwsls = NLLTest(name='NWSLS sim', observation=nwsls)"
   ]
  },
  {
   "cell_type": "code",
   "execution_count": 7,
   "metadata": {},
   "outputs": [],
   "source": [
    "nll_suite = sciunit.TestSuite([nll_rwck, nll_rr, nll_nwsls], name=\"NLL suite\")"
   ]
  },
  {
   "cell_type": "code",
   "execution_count": 11,
   "metadata": {},
   "outputs": [],
   "source": [
    "n_action = 3\n",
    "n_obs = 3\n",
    "\n",
    "param_list = get_model_params(pathjoin(DATA_PATH, 'multi-rwck_prior.csv'))\n",
    "multi_rwck = MultiRWCKModel(param_list, n_action=n_action, n_obs=n_obs)\n",
    "multi_rwck.name = \"rwck\"\n",
    "\n",
    "param_list = get_model_params(pathjoin(DATA_PATH, 'multi-random-responding_prior.csv'))\n",
    "multi_rr = MultiRandomRespondModel(param_list, n_action=n_action, n_obs=n_obs)\n",
    "multi_rr.name = \"rr\"\n",
    "\n",
    "param_list = get_model_params(pathjoin(DATA_PATH,'multi-nwsls_prior.csv'))\n",
    "multi_nwsls = MultiNWSLSModel(param_list, n_action=n_action, n_obs=n_obs)\n",
    "multi_nwsls.name = 'nwsls'"
   ]
  },
  {
   "cell_type": "code",
   "execution_count": 12,
   "metadata": {
    "scrolled": true
   },
   "outputs": [
    {
     "data": {
      "text/html": [
       "Executing test <i>RWCK sim</i> on model <i>rwck</i>... "
      ],
      "text/plain": [
       "<IPython.core.display.HTML object>"
      ]
     },
     "metadata": {},
     "output_type": "display_data"
    },
    {
     "data": {
      "text/html": [
       "Score is <a style=\"color: rgb(205,234,131)\">325</a>\n"
      ],
      "text/plain": [
       "<IPython.core.display.HTML object>"
      ]
     },
     "metadata": {},
     "output_type": "display_data"
    },
    {
     "data": {
      "text/html": [
       "Executing test <i>RR sim</i> on model <i>rwck</i>... "
      ],
      "text/plain": [
       "<IPython.core.display.HTML object>"
      ]
     },
     "metadata": {},
     "output_type": "display_data"
    },
    {
     "data": {
      "text/html": [
       "Score is <a style=\"color: rgb(207,235,133)\">330</a>\n"
      ],
      "text/plain": [
       "<IPython.core.display.HTML object>"
      ]
     },
     "metadata": {},
     "output_type": "display_data"
    },
    {
     "data": {
      "text/html": [
       "Executing test <i>NWSLS sim</i> on model <i>rwck</i>... "
      ],
      "text/plain": [
       "<IPython.core.display.HTML object>"
      ]
     },
     "metadata": {},
     "output_type": "display_data"
    },
    {
     "data": {
      "text/html": [
       "Score is <a style=\"color: rgb(189,227,121)\">282</a>\n"
      ],
      "text/plain": [
       "<IPython.core.display.HTML object>"
      ]
     },
     "metadata": {},
     "output_type": "display_data"
    },
    {
     "data": {
      "text/html": [
       "Executing test <i>RWCK sim</i> on model <i>rr</i>... "
      ],
      "text/plain": [
       "<IPython.core.display.HTML object>"
      ]
     },
     "metadata": {},
     "output_type": "display_data"
    },
    {
     "data": {
      "text/html": [
       "Score is <a style=\"color: rgb(223,242,147)\">381</a>\n"
      ],
      "text/plain": [
       "<IPython.core.display.HTML object>"
      ]
     },
     "metadata": {},
     "output_type": "display_data"
    },
    {
     "data": {
      "text/html": [
       "Executing test <i>RR sim</i> on model <i>rr</i>... "
      ],
      "text/plain": [
       "<IPython.core.display.HTML object>"
      ]
     },
     "metadata": {},
     "output_type": "display_data"
    },
    {
     "data": {
      "text/html": [
       "Score is <a style=\"color: rgb(197,231,126)\">301</a>\n"
      ],
      "text/plain": [
       "<IPython.core.display.HTML object>"
      ]
     },
     "metadata": {},
     "output_type": "display_data"
    },
    {
     "data": {
      "text/html": [
       "Executing test <i>NWSLS sim</i> on model <i>rr</i>... "
      ],
      "text/plain": [
       "<IPython.core.display.HTML object>"
      ]
     },
     "metadata": {},
     "output_type": "display_data"
    },
    {
     "data": {
      "text/html": [
       "Score is <a style=\"color: rgb(220,241,143)\">372</a>\n"
      ],
      "text/plain": [
       "<IPython.core.display.HTML object>"
      ]
     },
     "metadata": {},
     "output_type": "display_data"
    },
    {
     "data": {
      "text/html": [
       "Executing test <i>RWCK sim</i> on model <i>nwsls</i>... "
      ],
      "text/plain": [
       "<IPython.core.display.HTML object>"
      ]
     },
     "metadata": {},
     "output_type": "display_data"
    },
    {
     "data": {
      "text/html": [
       "Score is <a style=\"color: rgb(249,253,182)\">476</a>\n"
      ],
      "text/plain": [
       "<IPython.core.display.HTML object>"
      ]
     },
     "metadata": {},
     "output_type": "display_data"
    },
    {
     "data": {
      "text/html": [
       "Executing test <i>RR sim</i> on model <i>nwsls</i>... "
      ],
      "text/plain": [
       "<IPython.core.display.HTML object>"
      ]
     },
     "metadata": {},
     "output_type": "display_data"
    },
    {
     "data": {
      "text/html": [
       "Score is <a style=\"color: rgb(255,251,184)\">521</a>\n"
      ],
      "text/plain": [
       "<IPython.core.display.HTML object>"
      ]
     },
     "metadata": {},
     "output_type": "display_data"
    },
    {
     "data": {
      "text/html": [
       "Executing test <i>NWSLS sim</i> on model <i>nwsls</i>... "
      ],
      "text/plain": [
       "<IPython.core.display.HTML object>"
      ]
     },
     "metadata": {},
     "output_type": "display_data"
    },
    {
     "data": {
      "text/html": [
       "Score is <a style=\"color: rgb(155,212,105)\">191</a>\n"
      ],
      "text/plain": [
       "<IPython.core.display.HTML object>"
      ]
     },
     "metadata": {},
     "output_type": "display_data"
    },
    {
     "data": {
      "text/html": [
       "<html><body><div>\n",
       "<style scoped=\"\">\n",
       "    .dataframe tbody tr th:only-of-type {\n",
       "        vertical-align: middle;\n",
       "    }\n",
       "\n",
       "    .dataframe tbody tr th {\n",
       "        vertical-align: top;\n",
       "    }\n",
       "\n",
       "    .dataframe thead th {\n",
       "        text-align: right;\n",
       "    }\n",
       "</style>\n",
       "<table border=\"1\" class=\"dataframe\" id=\"2370995919798551431\">\n",
       "<thead>\n",
       "<tr style=\"text-align: right;\">\n",
       "<th></th>\n",
       "<th title=\"\n",
       "    Perform interactive test on models that produce a log pdf/pmf as their\n",
       "    predictions. Negative log-likelihood (NLL) function is used as the score.\n",
       "    \">RWCK sim</th>\n",
       "<th title=\"\n",
       "    Perform interactive test on models that produce a log pdf/pmf as their\n",
       "    predictions. Negative log-likelihood (NLL) function is used as the score.\n",
       "    \">RR sim</th>\n",
       "<th title=\"\n",
       "    Perform interactive test on models that produce a log pdf/pmf as their\n",
       "    predictions. Negative log-likelihood (NLL) function is used as the score.\n",
       "    \">NWSLS sim</th>\n",
       "</tr>\n",
       "</thead>\n",
       "<tbody>\n",
       "<tr>\n",
       "<th title=\"Rescorla-Wagner Choice Kernel model implementation. Random variable for a given stimulus i is computed using ith row of Q matrix (Q_i), ith row of CK matrix (CK_i) and weights: &gt;&gt;&gt; logits = beta * Q_i + beta_c * CK_i &gt;&gt;&gt; probs = softmax(logits)\">rwck</th>\n",
       "<td style=\"background-color: rgb(205,234,131);\" title=\"No description available\">325</td>\n",
       "<td style=\"background-color: rgb(207,235,133);\" title=\"No description available\">330</td>\n",
       "<td style=\"background-color: rgb(189,227,121);\" title=\"No description available\">282</td>\n",
       "</tr>\n",
       "<tr>\n",
       "<th title=\"Random respond model that predicts random actions for any kind of observation.\">rr</th>\n",
       "<td style=\"background-color: rgb(223,242,147);\" title=\"No description available\">381</td>\n",
       "<td style=\"background-color: rgb(197,231,126);\" title=\"No description available\">301</td>\n",
       "<td style=\"background-color: rgb(220,241,143);\" title=\"No description available\">372</td>\n",
       "</tr>\n",
       "<tr>\n",
       "<th title=\"Noisy-win-stay-lose-shift model implementation.\">nwsls</th>\n",
       "<td style=\"background-color: rgb(249,253,182);\" title=\"No description available\">476</td>\n",
       "<td style=\"background-color: rgb(255,251,184);\" title=\"No description available\">521</td>\n",
       "<td style=\"background-color: rgb(155,212,105);\" title=\"No description available\">191</td>\n",
       "</tr>\n",
       "</tbody>\n",
       "</table>\n",
       "</div></body></html>"
      ],
      "text/plain": [
       "      RWCK sim RR sim NWSLS sim\n",
       "rwck       325    330       282\n",
       "rr         381    301       372\n",
       "nwsls      476    521       191"
      ]
     },
     "execution_count": 12,
     "metadata": {},
     "output_type": "execute_result"
    }
   ],
   "source": [
    "nll_suite.judge([multi_rwck, multi_rr, multi_nwsls])"
   ]
  },
  {
   "cell_type": "markdown",
   "metadata": {},
   "source": [
    "## Associative Learning"
   ]
  },
  {
   "cell_type": "code",
   "execution_count": 13,
   "metadata": {},
   "outputs": [],
   "source": [
    "MultiKrwNormModel = multi_from_single_interactive(associative_learning.KrwNormModel)\n",
    "MultiBetaBinomialModel = multi_from_single_interactive(associative_learning.BetaBinomialModel)\n",
    "MultiLSSPDModel = multi_from_single_interactive(associative_learning.LSSPDModel)"
   ]
  },
  {
   "cell_type": "code",
   "execution_count": 15,
   "metadata": {},
   "outputs": [],
   "source": [
    "krw_norm = get_simulation_data(pathjoin(DATA_PATH, 'multi-krw_norm.csv'), 3, True)\n",
    "bic_krw_norm = BICTest(name=\"krw_norm sim\", observation=krw_norm)\n",
    "\n",
    "lsspd = get_simulation_data(pathjoin(DATA_PATH, 'multi-lsspd.csv'), 3, True)\n",
    "bic_lsspd = BICTest(name='lsspd sim', observation=lsspd)\n",
    "\n",
    "bb = get_simulation_data(pathjoin(DATA_PATH, 'multi-beta_binomial.csv'), 3, True)\n",
    "bic_bb = BICTest(name='Beta Binomial sim', observation=bb)"
   ]
  },
  {
   "cell_type": "code",
   "execution_count": 17,
   "metadata": {},
   "outputs": [],
   "source": [
    "bic_al_suite = sciunit.TestSuite([bic_krw_norm, bic_lsspd, bic_bb], name=\"BIC suite for associative learning\")"
   ]
  },
  {
   "cell_type": "code",
   "execution_count": 18,
   "metadata": {},
   "outputs": [],
   "source": [
    "param_list = get_model_params(pathjoin(DATA_PATH, 'multi-krw_norm_prior.csv'))\n",
    "multi_krw_norm = MultiKrwNormModel(param_list, n_obs=4)\n",
    "multi_krw_norm.name = \"krw_norm\"\n",
    "\n",
    "param_list = get_model_params(pathjoin(DATA_PATH, 'multi-lsspd_prior.csv'))\n",
    "multi_lsspd = MultiLSSPDModel(param_list, n_obs=4)\n",
    "multi_lsspd.name = \"lsspd\"\n",
    "\n",
    "param_list = get_model_params(pathjoin(DATA_PATH, 'multi-beta_binomial_prior.csv'))\n",
    "multi_bb = MultiBetaBinomialModel(param_list, n_obs=4)\n",
    "multi_bb.name = \"bb\""
   ]
  },
  {
   "cell_type": "code",
   "execution_count": 19,
   "metadata": {
    "scrolled": true
   },
   "outputs": [
    {
     "data": {
      "text/html": [
       "Executing test <i>krw_norm sim</i> on model <i>krw_norm</i>... "
      ],
      "text/plain": [
       "<IPython.core.display.HTML object>"
      ]
     },
     "metadata": {},
     "output_type": "display_data"
    },
    {
     "data": {
      "text/html": [
       "Score is <a style=\"color: rgb(230,78,52)\">2.37e+03</a>\n"
      ],
      "text/plain": [
       "<IPython.core.display.HTML object>"
      ]
     },
     "metadata": {},
     "output_type": "display_data"
    },
    {
     "data": {
      "text/html": [
       "Executing test <i>lsspd sim</i> on model <i>krw_norm</i>... "
      ],
      "text/plain": [
       "<IPython.core.display.HTML object>"
      ]
     },
     "metadata": {},
     "output_type": "display_data"
    },
    {
     "data": {
      "text/html": [
       "Score is <a style=\"color: rgb(230,78,52)\">7.43e+16</a>\n"
      ],
      "text/plain": [
       "<IPython.core.display.HTML object>"
      ]
     },
     "metadata": {},
     "output_type": "display_data"
    },
    {
     "data": {
      "text/html": [
       "Executing test <i>Beta Binomial sim</i> on model <i>krw_norm</i>... "
      ],
      "text/plain": [
       "<IPython.core.display.HTML object>"
      ]
     },
     "metadata": {},
     "output_type": "display_data"
    },
    {
     "data": {
      "text/html": [
       "Score is <a style=\"color: rgb(230,78,52)\">3.86e+03</a>\n"
      ],
      "text/plain": [
       "<IPython.core.display.HTML object>"
      ]
     },
     "metadata": {},
     "output_type": "display_data"
    },
    {
     "data": {
      "text/html": [
       "Executing test <i>krw_norm sim</i> on model <i>lsspd</i>... "
      ],
      "text/plain": [
       "<IPython.core.display.HTML object>"
      ]
     },
     "metadata": {},
     "output_type": "display_data"
    },
    {
     "data": {
      "text/html": [
       "Score is <a style=\"color: rgb(230,78,52)\">2.62e+03</a>\n"
      ],
      "text/plain": [
       "<IPython.core.display.HTML object>"
      ]
     },
     "metadata": {},
     "output_type": "display_data"
    },
    {
     "data": {
      "text/html": [
       "Executing test <i>lsspd sim</i> on model <i>lsspd</i>... "
      ],
      "text/plain": [
       "<IPython.core.display.HTML object>"
      ]
     },
     "metadata": {},
     "output_type": "display_data"
    },
    {
     "data": {
      "text/html": [
       "Score is <a style=\"color: rgb(230,78,52)\">1.3e+16</a>\n"
      ],
      "text/plain": [
       "<IPython.core.display.HTML object>"
      ]
     },
     "metadata": {},
     "output_type": "display_data"
    },
    {
     "data": {
      "text/html": [
       "Executing test <i>Beta Binomial sim</i> on model <i>lsspd</i>... "
      ],
      "text/plain": [
       "<IPython.core.display.HTML object>"
      ]
     },
     "metadata": {},
     "output_type": "display_data"
    },
    {
     "data": {
      "text/html": [
       "Score is <a style=\"color: rgb(230,78,52)\">2.77e+03</a>\n"
      ],
      "text/plain": [
       "<IPython.core.display.HTML object>"
      ]
     },
     "metadata": {},
     "output_type": "display_data"
    },
    {
     "data": {
      "text/html": [
       "Executing test <i>krw_norm sim</i> on model <i>bb</i>... "
      ],
      "text/plain": [
       "<IPython.core.display.HTML object>"
      ]
     },
     "metadata": {},
     "output_type": "display_data"
    },
    {
     "data": {
      "text/html": [
       "Score is <a style=\"color: rgb(230,78,52)\">2.12e+03</a>\n"
      ],
      "text/plain": [
       "<IPython.core.display.HTML object>"
      ]
     },
     "metadata": {},
     "output_type": "display_data"
    },
    {
     "data": {
      "text/html": [
       "Executing test <i>lsspd sim</i> on model <i>bb</i>... "
      ],
      "text/plain": [
       "<IPython.core.display.HTML object>"
      ]
     },
     "metadata": {},
     "output_type": "display_data"
    },
    {
     "data": {
      "text/html": [
       "Score is <a style=\"color: rgb(230,78,52)\">2e+16</a>\n"
      ],
      "text/plain": [
       "<IPython.core.display.HTML object>"
      ]
     },
     "metadata": {},
     "output_type": "display_data"
    },
    {
     "data": {
      "text/html": [
       "Executing test <i>Beta Binomial sim</i> on model <i>bb</i>... "
      ],
      "text/plain": [
       "<IPython.core.display.HTML object>"
      ]
     },
     "metadata": {},
     "output_type": "display_data"
    },
    {
     "data": {
      "text/html": [
       "Score is <a style=\"color: rgb(230,78,52)\">2.09e+03</a>\n"
      ],
      "text/plain": [
       "<IPython.core.display.HTML object>"
      ]
     },
     "metadata": {},
     "output_type": "display_data"
    },
    {
     "data": {
      "text/html": [
       "<html><body><div>\n",
       "<style scoped=\"\">\n",
       "    .dataframe tbody tr th:only-of-type {\n",
       "        vertical-align: middle;\n",
       "    }\n",
       "\n",
       "    .dataframe tbody tr th {\n",
       "        vertical-align: top;\n",
       "    }\n",
       "\n",
       "    .dataframe thead th {\n",
       "        text-align: right;\n",
       "    }\n",
       "</style>\n",
       "<table border=\"1\" class=\"dataframe\" id=\"-2527393025835555559\">\n",
       "<thead>\n",
       "<tr style=\"text-align: right;\">\n",
       "<th></th>\n",
       "<th title=\"\n",
       "    Perform interactive test on models that produce a log pdf/pmf as their\n",
       "    predictions. Bayesian Information Criterion (BIC) function is used as the score.\n",
       "    \">krw_norm sim</th>\n",
       "<th title=\"\n",
       "    Perform interactive test on models that produce a log pdf/pmf as their\n",
       "    predictions. Bayesian Information Criterion (BIC) function is used as the score.\n",
       "    \">lsspd sim</th>\n",
       "<th title=\"\n",
       "    Perform interactive test on models that produce a log pdf/pmf as their\n",
       "    predictions. Bayesian Information Criterion (BIC) function is used as the score.\n",
       "    \">Beta Binomial sim</th>\n",
       "</tr>\n",
       "</thead>\n",
       "<tbody>\n",
       "<tr>\n",
       "<th title=\"Kalman Rescorla-Wagner model implementation.\">krw_norm</th>\n",
       "<td style=\"background-color: rgb(230,78,52);\" title=\"No description available\">2.37e+03</td>\n",
       "<td style=\"background-color: rgb(230,78,52);\" title=\"No description available\">7.43e+16</td>\n",
       "<td style=\"background-color: rgb(230,78,52);\" title=\"No description available\">3.86e+03</td>\n",
       "</tr>\n",
       "<tr>\n",
       "<th title=\"LSSPD model implementation.\">lsspd</th>\n",
       "<td style=\"background-color: rgb(230,78,52);\" title=\"No description available\">2.62e+03</td>\n",
       "<td style=\"background-color: rgb(230,78,52);\" title=\"No description available\">1.3e+16</td>\n",
       "<td style=\"background-color: rgb(230,78,52);\" title=\"No description available\">2.77e+03</td>\n",
       "</tr>\n",
       "<tr>\n",
       "<th title=\"Interactive beta-binomial model implementation. Occurence and non-occurence counts are stored in variables a and b, respectively. Reward is calculated as &gt;&gt;&gt; mu = mean(Beta(a, b)) &gt;&gt;&gt; h  = entropy(Beta(a, b)) &gt;&gt;&gt; reward = intercept + slope * np.dot(stimulus, (mix_coef * mu  + (1 - mix_coef) * entropy)) Observation is a normal random variable: &gt;&gt;&gt; observation = Normal(reward, sigma)\">bb</th>\n",
       "<td style=\"background-color: rgb(230,78,52);\" title=\"No description available\">2.12e+03</td>\n",
       "<td style=\"background-color: rgb(230,78,52);\" title=\"No description available\">2e+16</td>\n",
       "<td style=\"background-color: rgb(230,78,52);\" title=\"No description available\">2.09e+03</td>\n",
       "</tr>\n",
       "</tbody>\n",
       "</table>\n",
       "</div></body></html>"
      ],
      "text/plain": [
       "         krw_norm sim lsspd sim Beta Binomial sim\n",
       "krw_norm     2.37e+03  7.43e+16          3.86e+03\n",
       "lsspd        2.62e+03   1.3e+16          2.77e+03\n",
       "bb           2.12e+03     2e+16          2.09e+03"
      ]
     },
     "execution_count": 19,
     "metadata": {},
     "output_type": "execute_result"
    }
   ],
   "source": [
    "bic_al_suite.judge([multi_krw_norm, multi_lsspd, multi_bb])"
   ]
  }
 ],
 "metadata": {
  "kernelspec": {
   "display_name": "Python [conda env:ldmunit]",
   "language": "python",
   "name": "conda-env-ldmunit-py"
  },
  "language_info": {
   "codemirror_mode": {
    "name": "ipython",
    "version": 3
   },
   "file_extension": ".py",
   "mimetype": "text/x-python",
   "name": "python",
   "nbconvert_exporter": "python",
   "pygments_lexer": "ipython3",
   "version": "3.6.8"
  }
 },
 "nbformat": 4,
 "nbformat_minor": 2
}
