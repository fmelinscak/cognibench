{
 "cells": [
  {
   "cell_type": "markdown",
   "metadata": {},
   "source": [
    "# Chapter 4: Complete Example\n",
    "In this chapter, we show two complete examples\n",
    "1. comparing three decision making models using negative log-likelihood on simulated data\n",
    "2. comparing three associative learning models using Bayesian Information Criterion on simulated data"
   ]
  },
  {
   "cell_type": "markdown",
   "metadata": {},
   "source": [
    "## Imports"
   ]
  },
  {
   "cell_type": "code",
   "execution_count": 1,
   "metadata": {},
   "outputs": [],
   "source": [
    "from ldmunit.models import decision_making, associative_learning\n",
    "from ldmunit.models.utils import multi_from_single_cls\n",
    "from ldmunit.testing import InteractiveTest\n",
    "from ldmunit.scores import NLLScore, BICScore\n",
    "from ldmunit.utils import partialclass\n",
    "\n",
    "from os.path import join as pathjoin\n",
    "from os import getcwd\n",
    "import sciunit\n",
    "sciunit.settings['CWD'] = getcwd()\n",
    "DATA_PATH = 'data'\n",
    "\n",
    "from read_example_data import get_simulation_data, get_model_params\n",
    "\n",
    "N_SUBJECTS = 3"
   ]
  },
  {
   "cell_type": "markdown",
   "metadata": {},
   "source": [
    "## Negative Log-likelihood Tests\n",
    "First we define the test objects. Each test object will test against a different simulated data we read from the filesystem. A couple of things to note:\n",
    "\n",
    "1. We define the tests to be multi-subject tests, and later use multi-subject models\n",
    "2. Any type of score can be passed in runtime. Here, we also need to define lower and upper bounds for the score objects."
   ]
  },
  {
   "cell_type": "code",
   "execution_count": 2,
   "metadata": {},
   "outputs": [],
   "source": [
    "nll_test_rwck_data = InteractiveTest(\n",
    "    multi_subject=True,\n",
    "    name='RWCK NLL Test',\n",
    "    observation=get_simulation_data(pathjoin(DATA_PATH, 'multi-rwck.csv'), N_SUBJECTS),\n",
    "    score_type=partialclass(NLLScore, min_score=0, max_score=1e4),\n",
    ")\n",
    "\n",
    "nll_test_rr_data = InteractiveTest(\n",
    "    multi_subject=True,\n",
    "    name='RR NLL Test',\n",
    "    observation=get_simulation_data(pathjoin(DATA_PATH, 'multi-random-responding.csv'), N_SUBJECTS),\n",
    "    score_type=partialclass(NLLScore, min_score=0, max_score=1e4),\n",
    ")\n",
    "\n",
    "nll_test_nwsls_data = InteractiveTest(\n",
    "    multi_subject=True,\n",
    "    name='NWSLS NLL Test',\n",
    "    observation=get_simulation_data(pathjoin(DATA_PATH, 'multi-nwsls.csv'), N_SUBJECTS),\n",
    "    score_type=partialclass(NLLScore, min_score=0, max_score=1e4),\n",
    ")"
   ]
  },
  {
   "cell_type": "markdown",
   "metadata": {},
   "source": [
    "## Decision Making Models\n",
    "Then we define multi-subject models, which can easily be created from single-subject models using a utility function we provide."
   ]
  },
  {
   "cell_type": "code",
   "execution_count": 3,
   "metadata": {},
   "outputs": [],
   "source": [
    "MultiRWCKModel = multi_from_single_cls(decision_making.RWCKModel)\n",
    "MultiNWSLSModel = multi_from_single_cls(decision_making.NWSLSModel)\n",
    "MultiRandomRespondModel = multi_from_single_cls(decision_making.RandomRespondModel)\n",
    "\n",
    "n_action = 3\n",
    "n_obs = 3\n",
    "\n",
    "multi_rwck = MultiRWCKModel(n_subj=N_SUBJECTS, n_action=n_action, n_obs=n_obs, seed=42)\n",
    "multi_rr = MultiRandomRespondModel(n_subj=N_SUBJECTS, n_action=n_action, n_obs=n_obs, seed=42)\n",
    "multi_nwsls = MultiNWSLSModel(n_subj=N_SUBJECTS, n_action=n_action, n_obs=n_obs, seed=42)"
   ]
  },
  {
   "cell_type": "markdown",
   "metadata": {},
   "source": [
    "## Run Test Suite"
   ]
  },
  {
   "cell_type": "code",
   "execution_count": 4,
   "metadata": {
    "scrolled": true
   },
   "outputs": [
    {
     "data": {
      "text/html": [
       "Executing test <i>RWCK NLL Test</i> on model <i>RWCKModel</i>... "
      ],
      "text/plain": [
       "<IPython.core.display.HTML object>"
      ]
     },
     "metadata": {},
     "output_type": "display_data"
    },
    {
     "name": "stderr",
     "output_type": "stream",
     "text": [
      "01-29-20 11:45 ldmunit      INFO     RWCK NLL Test : Optimizing RWCKModel model...\n"
     ]
    },
    {
     "data": {
      "text/html": [
       "Score is <a style=\"color: rgb(66,172,90)\">110</a>\n"
      ],
      "text/plain": [
       "<IPython.core.display.HTML object>"
      ]
     },
     "metadata": {},
     "output_type": "display_data"
    },
    {
     "data": {
      "text/html": [
       "Executing test <i>RR NLL Test</i> on model <i>RWCKModel</i>... "
      ],
      "text/plain": [
       "<IPython.core.display.HTML object>"
      ]
     },
     "metadata": {},
     "output_type": "display_data"
    },
    {
     "name": "stderr",
     "output_type": "stream",
     "text": [
      "01-29-20 11:45 ldmunit      INFO     RR NLL Test : Optimizing RWCKModel model...\n"
     ]
    },
    {
     "data": {
      "text/html": [
       "Score is <a style=\"color: rgb(66,172,90)\">111</a>\n"
      ],
      "text/plain": [
       "<IPython.core.display.HTML object>"
      ]
     },
     "metadata": {},
     "output_type": "display_data"
    },
    {
     "data": {
      "text/html": [
       "Executing test <i>NWSLS NLL Test</i> on model <i>RWCKModel</i>... "
      ],
      "text/plain": [
       "<IPython.core.display.HTML object>"
      ]
     },
     "metadata": {},
     "output_type": "display_data"
    },
    {
     "name": "stderr",
     "output_type": "stream",
     "text": [
      "01-29-20 11:45 ldmunit      INFO     NWSLS NLL Test : Optimizing RWCKModel model...\n"
     ]
    },
    {
     "data": {
      "text/html": [
       "Score is <a style=\"color: rgb(66,172,90)\">108</a>\n"
      ],
      "text/plain": [
       "<IPython.core.display.HTML object>"
      ]
     },
     "metadata": {},
     "output_type": "display_data"
    },
    {
     "data": {
      "text/html": [
       "Executing test <i>RWCK NLL Test</i> on model <i>RandomRespondModel</i>... "
      ],
      "text/plain": [
       "<IPython.core.display.HTML object>"
      ]
     },
     "metadata": {},
     "output_type": "display_data"
    },
    {
     "name": "stderr",
     "output_type": "stream",
     "text": [
      "01-29-20 11:45 ldmunit      INFO     RWCK NLL Test : Optimizing RandomRespondModel model...\n"
     ]
    },
    {
     "data": {
      "text/html": [
       "Score is <a style=\"color: rgb(66,172,90)\">110</a>\n"
      ],
      "text/plain": [
       "<IPython.core.display.HTML object>"
      ]
     },
     "metadata": {},
     "output_type": "display_data"
    },
    {
     "data": {
      "text/html": [
       "Executing test <i>RR NLL Test</i> on model <i>RandomRespondModel</i>... "
      ],
      "text/plain": [
       "<IPython.core.display.HTML object>"
      ]
     },
     "metadata": {},
     "output_type": "display_data"
    },
    {
     "name": "stderr",
     "output_type": "stream",
     "text": [
      "01-29-20 11:45 ldmunit      INFO     RR NLL Test : Optimizing RandomRespondModel model...\n"
     ]
    },
    {
     "data": {
      "text/html": [
       "Score is <a style=\"color: rgb(66,172,90)\">109</a>\n"
      ],
      "text/plain": [
       "<IPython.core.display.HTML object>"
      ]
     },
     "metadata": {},
     "output_type": "display_data"
    },
    {
     "data": {
      "text/html": [
       "Executing test <i>NWSLS NLL Test</i> on model <i>RandomRespondModel</i>... "
      ],
      "text/plain": [
       "<IPython.core.display.HTML object>"
      ]
     },
     "metadata": {},
     "output_type": "display_data"
    },
    {
     "name": "stderr",
     "output_type": "stream",
     "text": [
      "01-29-20 11:45 ldmunit      INFO     NWSLS NLL Test : Optimizing RandomRespondModel model...\n"
     ]
    },
    {
     "data": {
      "text/html": [
       "Score is <a style=\"color: rgb(66,172,90)\">109</a>\n"
      ],
      "text/plain": [
       "<IPython.core.display.HTML object>"
      ]
     },
     "metadata": {},
     "output_type": "display_data"
    },
    {
     "data": {
      "text/html": [
       "Executing test <i>RWCK NLL Test</i> on model <i>NWSLSModel</i>... "
      ],
      "text/plain": [
       "<IPython.core.display.HTML object>"
      ]
     },
     "metadata": {},
     "output_type": "display_data"
    },
    {
     "name": "stderr",
     "output_type": "stream",
     "text": [
      "01-29-20 11:45 ldmunit      INFO     RWCK NLL Test : Optimizing NWSLSModel model...\n"
     ]
    },
    {
     "data": {
      "text/html": [
       "Score is <a style=\"color: rgb(69,173,91)\">115</a>\n"
      ],
      "text/plain": [
       "<IPython.core.display.HTML object>"
      ]
     },
     "metadata": {},
     "output_type": "display_data"
    },
    {
     "data": {
      "text/html": [
       "Executing test <i>RR NLL Test</i> on model <i>NWSLSModel</i>... "
      ],
      "text/plain": [
       "<IPython.core.display.HTML object>"
      ]
     },
     "metadata": {},
     "output_type": "display_data"
    },
    {
     "name": "stderr",
     "output_type": "stream",
     "text": [
      "01-29-20 11:45 ldmunit      INFO     RR NLL Test : Optimizing NWSLSModel model...\n"
     ]
    },
    {
     "data": {
      "text/html": [
       "Score is <a style=\"color: rgb(69,173,91)\">116</a>\n"
      ],
      "text/plain": [
       "<IPython.core.display.HTML object>"
      ]
     },
     "metadata": {},
     "output_type": "display_data"
    },
    {
     "data": {
      "text/html": [
       "Executing test <i>NWSLS NLL Test</i> on model <i>NWSLSModel</i>... "
      ],
      "text/plain": [
       "<IPython.core.display.HTML object>"
      ]
     },
     "metadata": {},
     "output_type": "display_data"
    },
    {
     "name": "stderr",
     "output_type": "stream",
     "text": [
      "01-29-20 11:45 ldmunit      INFO     NWSLS NLL Test : Optimizing NWSLSModel model...\n"
     ]
    },
    {
     "data": {
      "text/html": [
       "Score is <a style=\"color: rgb(66,172,90)\">74.8</a>\n"
      ],
      "text/plain": [
       "<IPython.core.display.HTML object>"
      ]
     },
     "metadata": {},
     "output_type": "display_data"
    },
    {
     "data": {
      "text/html": [
       "<div>\n",
       "<style scoped>\n",
       "    .dataframe tbody tr th:only-of-type {\n",
       "        vertical-align: middle;\n",
       "    }\n",
       "\n",
       "    .dataframe tbody tr th {\n",
       "        vertical-align: top;\n",
       "    }\n",
       "\n",
       "    .dataframe thead th {\n",
       "        text-align: right;\n",
       "    }\n",
       "</style>\n",
       "<table border=\"1\" class=\"dataframe\">\n",
       "  <thead>\n",
       "    <tr style=\"text-align: right;\">\n",
       "      <th></th>\n",
       "      <th>RWCK NLL Test</th>\n",
       "      <th>RR NLL Test</th>\n",
       "      <th>NWSLS NLL Test</th>\n",
       "    </tr>\n",
       "  </thead>\n",
       "  <tbody>\n",
       "    <tr>\n",
       "      <th>RWCKModel</th>\n",
       "      <td>110</td>\n",
       "      <td>111</td>\n",
       "      <td>108</td>\n",
       "    </tr>\n",
       "    <tr>\n",
       "      <th>RandomRespondModel</th>\n",
       "      <td>110</td>\n",
       "      <td>109</td>\n",
       "      <td>109</td>\n",
       "    </tr>\n",
       "    <tr>\n",
       "      <th>NWSLSModel</th>\n",
       "      <td>115</td>\n",
       "      <td>116</td>\n",
       "      <td>74.8</td>\n",
       "    </tr>\n",
       "  </tbody>\n",
       "</table>\n",
       "</div>"
      ],
      "text/plain": [
       "                   RWCK NLL Test RR NLL Test NWSLS NLL Test\n",
       "RWCKModel                    110         111            108\n",
       "RandomRespondModel           110         109            109\n",
       "NWSLSModel                   115         116           74.8"
      ]
     },
     "execution_count": 4,
     "metadata": {},
     "output_type": "execute_result"
    }
   ],
   "source": [
    "nll_suite = sciunit.TestSuite([nll_test_rwck_data, nll_test_rr_data, nll_test_nwsls_data], name=\"NLL suite\")\n",
    "nll_suite.judge([multi_rwck, multi_rr, multi_nwsls])"
   ]
  },
  {
   "cell_type": "markdown",
   "metadata": {},
   "source": [
    "## BIC Tests"
   ]
  },
  {
   "cell_type": "code",
   "execution_count": 5,
   "metadata": {},
   "outputs": [],
   "source": [
    "def bic_kwargs_fn(model, obs, pred):\n",
    "    return {\"n_model_params\": model.n_params(), \"n_samples\": len(obs[\"stimuli\"])}\n",
    "\n",
    "bic_test_krw_data = InteractiveTest(\n",
    "    multi_subject=True,\n",
    "    name='KRW BIC Test',\n",
    "    observation=get_simulation_data(pathjoin(DATA_PATH, 'multi-krw_norm.csv'), N_SUBJECTS, True),\n",
    "    score_type=partialclass(BICScore, min_score=0, max_score=1e4),\n",
    "    fn_kwargs_for_score=bic_kwargs_fn\n",
    ")\n",
    "\n",
    "bic_test_lsspd_data = InteractiveTest(\n",
    "    multi_subject=True,\n",
    "    name='LSSPD BIC Test',\n",
    "    observation=get_simulation_data(pathjoin(DATA_PATH, 'multi-lsspd.csv'), N_SUBJECTS, True),\n",
    "    score_type=partialclass(BICScore, min_score=0, max_score=1e4),\n",
    "    fn_kwargs_for_score=bic_kwargs_fn\n",
    ")\n",
    "\n",
    "bic_test_bb_data = InteractiveTest(\n",
    "    multi_subject=True,\n",
    "    name='BetaBinomial BIC Test',\n",
    "    observation=get_simulation_data(pathjoin(DATA_PATH, 'multi-beta_binomial.csv'), N_SUBJECTS, True),\n",
    "    score_type=partialclass(BICScore, min_score=0, max_score=1e4),\n",
    "    fn_kwargs_for_score=bic_kwargs_fn\n",
    ")"
   ]
  },
  {
   "cell_type": "markdown",
   "metadata": {},
   "source": [
    "## Associative Learning Models"
   ]
  },
  {
   "cell_type": "code",
   "execution_count": 6,
   "metadata": {},
   "outputs": [],
   "source": [
    "MultiKrwNormModel = multi_from_single_cls(associative_learning.KrwNormModel)\n",
    "MultiBetaBinomialModel = multi_from_single_cls(associative_learning.BetaBinomialModel)\n",
    "MultiLSSPDModel = multi_from_single_cls(associative_learning.LSSPDModel)\n",
    "\n",
    "multi_krw_norm = MultiKrwNormModel(n_subj=N_SUBJECTS, n_obs=4, seed=42)\n",
    "multi_lsspd = MultiLSSPDModel(n_subj=N_SUBJECTS, n_obs=4, seed=42)\n",
    "multi_bb = MultiBetaBinomialModel(n_subj=N_SUBJECTS, n_obs=4, seed=42)"
   ]
  },
  {
   "cell_type": "markdown",
   "metadata": {},
   "source": [
    "## Run Test Suite"
   ]
  },
  {
   "cell_type": "code",
   "execution_count": 7,
   "metadata": {
    "scrolled": true
   },
   "outputs": [
    {
     "data": {
      "text/html": [
       "Executing test <i>KRW BIC Test</i> on model <i>KrwNorm</i>... "
      ],
      "text/plain": [
       "<IPython.core.display.HTML object>"
      ]
     },
     "metadata": {},
     "output_type": "display_data"
    },
    {
     "name": "stderr",
     "output_type": "stream",
     "text": [
      "01-29-20 11:45 ldmunit      INFO     KRW BIC Test : Optimizing KrwNorm model...\n"
     ]
    },
    {
     "data": {
      "text/html": [
       "Score is <a style=\"color: rgb(104,190,99)\">805</a>\n"
      ],
      "text/plain": [
       "<IPython.core.display.HTML object>"
      ]
     },
     "metadata": {},
     "output_type": "display_data"
    },
    {
     "data": {
      "text/html": [
       "Executing test <i>LSSPD BIC Test</i> on model <i>KrwNorm</i>... "
      ],
      "text/plain": [
       "<IPython.core.display.HTML object>"
      ]
     },
     "metadata": {},
     "output_type": "display_data"
    },
    {
     "name": "stderr",
     "output_type": "stream",
     "text": [
      "01-29-20 11:46 ldmunit      INFO     LSSPD BIC Test : Optimizing KrwNorm model...\n"
     ]
    },
    {
     "data": {
      "text/html": [
       "Score is <a style=\"color: rgb(109,193,100)\">893</a>\n"
      ],
      "text/plain": [
       "<IPython.core.display.HTML object>"
      ]
     },
     "metadata": {},
     "output_type": "display_data"
    },
    {
     "data": {
      "text/html": [
       "Executing test <i>BetaBinomial BIC Test</i> on model <i>KrwNorm</i>... "
      ],
      "text/plain": [
       "<IPython.core.display.HTML object>"
      ]
     },
     "metadata": {},
     "output_type": "display_data"
    },
    {
     "name": "stderr",
     "output_type": "stream",
     "text": [
      "01-29-20 11:46 ldmunit      INFO     BetaBinomial BIC Test : Optimizing KrwNorm model...\n"
     ]
    },
    {
     "data": {
      "text/html": [
       "Score is <a style=\"color: rgb(114,195,100)\">1e+03</a>\n"
      ],
      "text/plain": [
       "<IPython.core.display.HTML object>"
      ]
     },
     "metadata": {},
     "output_type": "display_data"
    },
    {
     "data": {
      "text/html": [
       "Executing test <i>KRW BIC Test</i> on model <i>LSSPD</i>... "
      ],
      "text/plain": [
       "<IPython.core.display.HTML object>"
      ]
     },
     "metadata": {},
     "output_type": "display_data"
    },
    {
     "name": "stderr",
     "output_type": "stream",
     "text": [
      "01-29-20 11:46 ldmunit      INFO     KRW BIC Test : Optimizing LSSPD model...\n"
     ]
    },
    {
     "data": {
      "text/html": [
       "Score is <a style=\"color: rgb(127,200,102)\">1.3e+03</a>\n"
      ],
      "text/plain": [
       "<IPython.core.display.HTML object>"
      ]
     },
     "metadata": {},
     "output_type": "display_data"
    },
    {
     "data": {
      "text/html": [
       "Executing test <i>LSSPD BIC Test</i> on model <i>LSSPD</i>... "
      ],
      "text/plain": [
       "<IPython.core.display.HTML object>"
      ]
     },
     "metadata": {},
     "output_type": "display_data"
    },
    {
     "name": "stderr",
     "output_type": "stream",
     "text": [
      "01-29-20 11:46 ldmunit      INFO     LSSPD BIC Test : Optimizing LSSPD model...\n"
     ]
    },
    {
     "data": {
      "text/html": [
       "Score is <a style=\"color: rgb(127,200,102)\">1.32e+03</a>\n"
      ],
      "text/plain": [
       "<IPython.core.display.HTML object>"
      ]
     },
     "metadata": {},
     "output_type": "display_data"
    },
    {
     "data": {
      "text/html": [
       "Executing test <i>BetaBinomial BIC Test</i> on model <i>LSSPD</i>... "
      ],
      "text/plain": [
       "<IPython.core.display.HTML object>"
      ]
     },
     "metadata": {},
     "output_type": "display_data"
    },
    {
     "name": "stderr",
     "output_type": "stream",
     "text": [
      "01-29-20 11:46 ldmunit      INFO     BetaBinomial BIC Test : Optimizing LSSPD model...\n"
     ]
    },
    {
     "data": {
      "text/html": [
       "Score is <a style=\"color: rgb(137,205,103)\">1.55e+03</a>\n"
      ],
      "text/plain": [
       "<IPython.core.display.HTML object>"
      ]
     },
     "metadata": {},
     "output_type": "display_data"
    },
    {
     "data": {
      "text/html": [
       "Executing test <i>KRW BIC Test</i> on model <i>Beta Binomial</i>... "
      ],
      "text/plain": [
       "<IPython.core.display.HTML object>"
      ]
     },
     "metadata": {},
     "output_type": "display_data"
    },
    {
     "name": "stderr",
     "output_type": "stream",
     "text": [
      "01-29-20 11:47 ldmunit      INFO     KRW BIC Test : Optimizing Beta Binomial model...\n"
     ]
    },
    {
     "data": {
      "text/html": [
       "Score is <a style=\"color: rgb(104,190,99)\">808</a>\n"
      ],
      "text/plain": [
       "<IPython.core.display.HTML object>"
      ]
     },
     "metadata": {},
     "output_type": "display_data"
    },
    {
     "data": {
      "text/html": [
       "Executing test <i>LSSPD BIC Test</i> on model <i>Beta Binomial</i>... "
      ],
      "text/plain": [
       "<IPython.core.display.HTML object>"
      ]
     },
     "metadata": {},
     "output_type": "display_data"
    },
    {
     "name": "stderr",
     "output_type": "stream",
     "text": [
      "01-29-20 11:48 ldmunit      INFO     LSSPD BIC Test : Optimizing Beta Binomial model...\n"
     ]
    },
    {
     "data": {
      "text/html": [
       "Score is <a style=\"color: rgb(109,193,100)\">910</a>\n"
      ],
      "text/plain": [
       "<IPython.core.display.HTML object>"
      ]
     },
     "metadata": {},
     "output_type": "display_data"
    },
    {
     "data": {
      "text/html": [
       "Executing test <i>BetaBinomial BIC Test</i> on model <i>Beta Binomial</i>... "
      ],
      "text/plain": [
       "<IPython.core.display.HTML object>"
      ]
     },
     "metadata": {},
     "output_type": "display_data"
    },
    {
     "name": "stderr",
     "output_type": "stream",
     "text": [
      "01-29-20 11:49 ldmunit      INFO     BetaBinomial BIC Test : Optimizing Beta Binomial model...\n"
     ]
    },
    {
     "data": {
      "text/html": [
       "Score is <a style=\"color: rgb(107,191,99)\">859</a>\n"
      ],
      "text/plain": [
       "<IPython.core.display.HTML object>"
      ]
     },
     "metadata": {},
     "output_type": "display_data"
    },
    {
     "data": {
      "text/html": [
       "<div>\n",
       "<style scoped>\n",
       "    .dataframe tbody tr th:only-of-type {\n",
       "        vertical-align: middle;\n",
       "    }\n",
       "\n",
       "    .dataframe tbody tr th {\n",
       "        vertical-align: top;\n",
       "    }\n",
       "\n",
       "    .dataframe thead th {\n",
       "        text-align: right;\n",
       "    }\n",
       "</style>\n",
       "<table border=\"1\" class=\"dataframe\">\n",
       "  <thead>\n",
       "    <tr style=\"text-align: right;\">\n",
       "      <th></th>\n",
       "      <th>KRW BIC Test</th>\n",
       "      <th>LSSPD BIC Test</th>\n",
       "      <th>BetaBinomial BIC Test</th>\n",
       "    </tr>\n",
       "  </thead>\n",
       "  <tbody>\n",
       "    <tr>\n",
       "      <th>KrwNorm</th>\n",
       "      <td>805</td>\n",
       "      <td>893</td>\n",
       "      <td>1e+03</td>\n",
       "    </tr>\n",
       "    <tr>\n",
       "      <th>LSSPD</th>\n",
       "      <td>1.3e+03</td>\n",
       "      <td>1.32e+03</td>\n",
       "      <td>1.55e+03</td>\n",
       "    </tr>\n",
       "    <tr>\n",
       "      <th>Beta Binomial</th>\n",
       "      <td>808</td>\n",
       "      <td>910</td>\n",
       "      <td>859</td>\n",
       "    </tr>\n",
       "  </tbody>\n",
       "</table>\n",
       "</div>"
      ],
      "text/plain": [
       "              KRW BIC Test LSSPD BIC Test BetaBinomial BIC Test\n",
       "KrwNorm                805            893                 1e+03\n",
       "LSSPD              1.3e+03       1.32e+03              1.55e+03\n",
       "Beta Binomial          808            910                   859"
      ]
     },
     "execution_count": 7,
     "metadata": {},
     "output_type": "execute_result"
    }
   ],
   "source": [
    "bic_al_suite = sciunit.TestSuite([bic_test_krw_data, bic_test_lsspd_data, bic_test_bb_data], name=\"BIC suite for associative learning\")\n",
    "bic_al_suite.judge([multi_krw_norm, multi_lsspd, multi_bb])"
   ]
  }
 ],
 "metadata": {
  "kernelspec": {
   "display_name": "Python [conda env:ldmunit]",
   "language": "python",
   "name": "conda-env-ldmunit-py"
  },
  "language_info": {
   "codemirror_mode": {
    "name": "ipython",
    "version": 3
   },
   "file_extension": ".py",
   "mimetype": "text/x-python",
   "name": "python",
   "nbconvert_exporter": "python",
   "pygments_lexer": "ipython3",
   "version": "3.6.8"
  }
 },
 "nbformat": 4,
 "nbformat_minor": 2
}
