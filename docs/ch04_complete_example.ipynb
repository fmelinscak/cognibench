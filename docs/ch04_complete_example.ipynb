{
 "cells": [
  {
   "cell_type": "markdown",
   "metadata": {},
   "source": [
    "# Chapter 4: Complete Example\n",
    "In this chapter, we show two complete examples\n",
    "1. comparing three decision making models using negative log-likelihood on simulated data\n",
    "2. comparing three associative learning models using Bayesian Information Criterion on simulated data"
   ]
  },
  {
   "cell_type": "markdown",
   "metadata": {},
   "source": [
    "## Imports"
   ]
  },
  {
   "cell_type": "code",
   "execution_count": 1,
   "metadata": {},
   "outputs": [],
   "source": [
    "from ldmunit.models import decision_making, associative_learning\n",
    "from ldmunit.models.utils import multi_from_single_cls\n",
    "from ldmunit.testing import InteractiveTest\n",
    "from ldmunit.scores import NLLScore, BICScore\n",
    "from ldmunit.utils import partialclass\n",
    "\n",
    "from os.path import join as pathjoin\n",
    "from os import getcwd\n",
    "import sciunit\n",
    "sciunit.settings['CWD'] = getcwd()\n",
    "DATA_PATH = 'data'\n",
    "\n",
    "from read_example_data import get_simulation_data, get_model_params\n",
    "\n",
    "N_SUBJECTS = 3"
   ]
  },
  {
   "cell_type": "markdown",
   "metadata": {},
   "source": [
    "## Negative Log-likelihood Tests\n",
    "First we define the test objects. Each test object will test against a different simulated data we read from the filesystem. A couple of things to note:\n",
    "\n",
    "1. We define the tests to be multi-subject tests, and later use multi-subject models\n",
    "2. Any type of score can be passed in runtime. Here, we also need to define lower and upper bounds for the score objects."
   ]
  },
  {
   "cell_type": "code",
   "execution_count": 2,
   "metadata": {},
   "outputs": [],
   "source": [
    "nll_test_rwck_data = InteractiveTest(\n",
    "    multi_subject=True,\n",
    "    name='RWCK NLL Test',\n",
    "    observation=get_simulation_data(pathjoin(DATA_PATH, 'multi-rwck.csv'), N_SUBJECTS),\n",
    "    score_type=partialclass(NLLScore, min_score=0, max_score=1e4),\n",
    ")\n",
    "\n",
    "nll_test_rr_data = InteractiveTest(\n",
    "    multi_subject=True,\n",
    "    name='RR NLL Test',\n",
    "    observation=get_simulation_data(pathjoin(DATA_PATH, 'multi-random-responding.csv'), N_SUBJECTS),\n",
    "    score_type=partialclass(NLLScore, min_score=0, max_score=1e4),\n",
    ")\n",
    "\n",
    "nll_test_nwsls_data = InteractiveTest(\n",
    "    multi_subject=True,\n",
    "    name='NWSLS NLL Test',\n",
    "    observation=get_simulation_data(pathjoin(DATA_PATH, 'multi-nwsls.csv'), N_SUBJECTS),\n",
    "    score_type=partialclass(NLLScore, min_score=0, max_score=1e4),\n",
    ")"
   ]
  },
  {
   "cell_type": "markdown",
   "metadata": {},
   "source": [
    "## Decision Making Models\n",
    "Then we define multi-subject models, which can easily be created from single-subject models using a utility function we provide."
   ]
  },
  {
   "cell_type": "code",
   "execution_count": 3,
   "metadata": {},
   "outputs": [],
   "source": [
    "MultiRWCKModel = multi_from_single_cls(decision_making.RWCKModel)\n",
    "MultiNWSLSModel = multi_from_single_cls(decision_making.NWSLSModel)\n",
    "MultiRandomRespondModel = multi_from_single_cls(decision_making.RandomRespondModel)\n",
    "\n",
    "n_action = 3\n",
    "n_obs = 3\n",
    "\n",
    "multi_rwck = MultiRWCKModel(n_subj=N_SUBJECTS, n_action=n_action, n_obs=n_obs)\n",
    "multi_rr = MultiRandomRespondModel(n_subj=N_SUBJECTS, n_action=n_action, n_obs=n_obs)\n",
    "multi_nwsls = MultiNWSLSModel(n_subj=N_SUBJECTS, n_action=n_action, n_obs=n_obs)"
   ]
  },
  {
   "cell_type": "markdown",
   "metadata": {},
   "source": [
    "## Run Test Suite"
   ]
  },
  {
   "cell_type": "code",
   "execution_count": 4,
   "metadata": {
    "scrolled": true
   },
   "outputs": [
    {
     "data": {
      "text/html": [
       "Executing test <i>RWCK NLL Test</i> on model <i>RWCKModel</i>... "
      ],
      "text/plain": [
       "<IPython.core.display.HTML object>"
      ]
     },
     "metadata": {},
     "output_type": "display_data"
    },
    {
     "name": "stderr",
     "output_type": "stream",
     "text": [
      "01-20-20 13:29 ldmunit      INFO     RWCK NLL Test : Optimizing RWCKModel model...\n"
     ]
    },
    {
     "data": {
      "text/html": [
       "Score is <a style=\"color: rgb(66,172,90)\">111</a>\n"
      ],
      "text/plain": [
       "<IPython.core.display.HTML object>"
      ]
     },
     "metadata": {},
     "output_type": "display_data"
    },
    {
     "data": {
      "text/html": [
       "Executing test <i>RR NLL Test</i> on model <i>RWCKModel</i>... "
      ],
      "text/plain": [
       "<IPython.core.display.HTML object>"
      ]
     },
     "metadata": {},
     "output_type": "display_data"
    },
    {
     "name": "stderr",
     "output_type": "stream",
     "text": [
      "01-20-20 13:29 ldmunit      INFO     RR NLL Test : Optimizing RWCKModel model...\n"
     ]
    },
    {
     "data": {
      "text/html": [
       "Score is <a style=\"color: rgb(69,173,91)\">118</a>\n"
      ],
      "text/plain": [
       "<IPython.core.display.HTML object>"
      ]
     },
     "metadata": {},
     "output_type": "display_data"
    },
    {
     "data": {
      "text/html": [
       "Executing test <i>NWSLS NLL Test</i> on model <i>RWCKModel</i>... "
      ],
      "text/plain": [
       "<IPython.core.display.HTML object>"
      ]
     },
     "metadata": {},
     "output_type": "display_data"
    },
    {
     "name": "stderr",
     "output_type": "stream",
     "text": [
      "01-20-20 13:29 ldmunit      INFO     NWSLS NLL Test : Optimizing RWCKModel model...\n"
     ]
    },
    {
     "data": {
      "text/html": [
       "Score is <a style=\"color: rgb(66,172,90)\">109</a>\n"
      ],
      "text/plain": [
       "<IPython.core.display.HTML object>"
      ]
     },
     "metadata": {},
     "output_type": "display_data"
    },
    {
     "data": {
      "text/html": [
       "Executing test <i>RWCK NLL Test</i> on model <i>RandomRespondModel</i>... "
      ],
      "text/plain": [
       "<IPython.core.display.HTML object>"
      ]
     },
     "metadata": {},
     "output_type": "display_data"
    },
    {
     "name": "stderr",
     "output_type": "stream",
     "text": [
      "01-20-20 13:29 ldmunit      INFO     RWCK NLL Test : Optimizing RandomRespondModel model...\n"
     ]
    },
    {
     "data": {
      "text/html": [
       "Score is <a style=\"color: rgb(69,173,91)\">126</a>\n"
      ],
      "text/plain": [
       "<IPython.core.display.HTML object>"
      ]
     },
     "metadata": {},
     "output_type": "display_data"
    },
    {
     "data": {
      "text/html": [
       "Executing test <i>RR NLL Test</i> on model <i>RandomRespondModel</i>... "
      ],
      "text/plain": [
       "<IPython.core.display.HTML object>"
      ]
     },
     "metadata": {},
     "output_type": "display_data"
    },
    {
     "name": "stderr",
     "output_type": "stream",
     "text": [
      "01-20-20 13:29 ldmunit      INFO     RR NLL Test : Optimizing RandomRespondModel model...\n"
     ]
    },
    {
     "data": {
      "text/html": [
       "Score is <a style=\"color: rgb(66,172,90)\">111</a>\n"
      ],
      "text/plain": [
       "<IPython.core.display.HTML object>"
      ]
     },
     "metadata": {},
     "output_type": "display_data"
    },
    {
     "data": {
      "text/html": [
       "Executing test <i>NWSLS NLL Test</i> on model <i>RandomRespondModel</i>... "
      ],
      "text/plain": [
       "<IPython.core.display.HTML object>"
      ]
     },
     "metadata": {},
     "output_type": "display_data"
    },
    {
     "name": "stderr",
     "output_type": "stream",
     "text": [
      "01-20-20 13:29 ldmunit      INFO     NWSLS NLL Test : Optimizing RandomRespondModel model...\n"
     ]
    },
    {
     "data": {
      "text/html": [
       "Score is <a style=\"color: rgb(69,173,91)\">125</a>\n"
      ],
      "text/plain": [
       "<IPython.core.display.HTML object>"
      ]
     },
     "metadata": {},
     "output_type": "display_data"
    },
    {
     "data": {
      "text/html": [
       "Executing test <i>RWCK NLL Test</i> on model <i>NWSLSModel</i>... "
      ],
      "text/plain": [
       "<IPython.core.display.HTML object>"
      ]
     },
     "metadata": {},
     "output_type": "display_data"
    },
    {
     "name": "stderr",
     "output_type": "stream",
     "text": [
      "01-20-20 13:29 ldmunit      INFO     RWCK NLL Test : Optimizing NWSLSModel model...\n",
      "/home/eozd/anaconda3/envs/ldmunit/lib/python3.6/site-packages/scipy/stats/_distn_infrastructure.py:2808: RuntimeWarning: divide by zero encountered in log\n",
      "  return log(self._pmf(k, *args))\n"
     ]
    },
    {
     "data": {
      "text/html": [
       "Score is <a style=\"color: rgb(84,181,94)\">416</a>\n"
      ],
      "text/plain": [
       "<IPython.core.display.HTML object>"
      ]
     },
     "metadata": {},
     "output_type": "display_data"
    },
    {
     "data": {
      "text/html": [
       "Executing test <i>RR NLL Test</i> on model <i>NWSLSModel</i>... "
      ],
      "text/plain": [
       "<IPython.core.display.HTML object>"
      ]
     },
     "metadata": {},
     "output_type": "display_data"
    },
    {
     "name": "stderr",
     "output_type": "stream",
     "text": [
      "01-20-20 13:29 ldmunit      INFO     RR NLL Test : Optimizing NWSLSModel model...\n"
     ]
    },
    {
     "data": {
      "text/html": [
       "Score is <a style=\"color: rgb(69,173,91)\">116</a>\n"
      ],
      "text/plain": [
       "<IPython.core.display.HTML object>"
      ]
     },
     "metadata": {},
     "output_type": "display_data"
    },
    {
     "data": {
      "text/html": [
       "Executing test <i>NWSLS NLL Test</i> on model <i>NWSLSModel</i>... "
      ],
      "text/plain": [
       "<IPython.core.display.HTML object>"
      ]
     },
     "metadata": {},
     "output_type": "display_data"
    },
    {
     "name": "stderr",
     "output_type": "stream",
     "text": [
      "01-20-20 13:29 ldmunit      INFO     NWSLS NLL Test : Optimizing NWSLSModel model...\n"
     ]
    },
    {
     "data": {
      "text/html": [
       "Score is <a style=\"color: rgb(69,173,91)\">128</a>\n"
      ],
      "text/plain": [
       "<IPython.core.display.HTML object>"
      ]
     },
     "metadata": {},
     "output_type": "display_data"
    },
    {
     "data": {
      "text/html": [
       "<html><body><div>\n",
       "<style scoped=\"\">\n",
       "    .dataframe tbody tr th:only-of-type {\n",
       "        vertical-align: middle;\n",
       "    }\n",
       "\n",
       "    .dataframe tbody tr th {\n",
       "        vertical-align: top;\n",
       "    }\n",
       "\n",
       "    .dataframe thead th {\n",
       "        text-align: right;\n",
       "    }\n",
       "</style>\n",
       "<table border=\"1\" class=\"dataframe\" id=\"7175153883906321908\">\n",
       "<thead>\n",
       "<tr style=\"text-align: right;\">\n",
       "<th></th>\n",
       "<th title=\"\n",
       "    Perform interactive tests by feeding the input samples (stimuli, rewards, actions) one at a time and updating the\n",
       "    model after each sample with the corresponding reward.\n",
       "    \">RWCK NLL Test</th>\n",
       "<th title=\"\n",
       "    Perform interactive tests by feeding the input samples (stimuli, rewards, actions) one at a time and updating the\n",
       "    model after each sample with the corresponding reward.\n",
       "    \">RR NLL Test</th>\n",
       "<th title=\"\n",
       "    Perform interactive tests by feeding the input samples (stimuli, rewards, actions) one at a time and updating the\n",
       "    model after each sample with the corresponding reward.\n",
       "    \">NWSLS NLL Test</th>\n",
       "</tr>\n",
       "</thead>\n",
       "<tbody>\n",
       "<tr>\n",
       "<th title=\"Rescorla-Wagner choice kernel model implementation using RWCK agent implementation as the underlying agent equations.\">RWCKModel</th>\n",
       "<td style=\"background-color: rgb(66,172,90);\" title=\"No description available\">111</td>\n",
       "<td style=\"background-color: rgb(69,173,91);\" title=\"No description available\">118</td>\n",
       "<td style=\"background-color: rgb(66,172,90);\" title=\"No description available\">109</td>\n",
       "</tr>\n",
       "<tr>\n",
       "<th title=\"Random respond model implementation.\">RandomRespondModel</th>\n",
       "<td style=\"background-color: rgb(69,173,91);\" title=\"No description available\">126</td>\n",
       "<td style=\"background-color: rgb(66,172,90);\" title=\"No description available\">111</td>\n",
       "<td style=\"background-color: rgb(69,173,91);\" title=\"No description available\">125</td>\n",
       "</tr>\n",
       "<tr>\n",
       "<th title=\"Noisy-win-stay-lose-shift model implementation.\">NWSLSModel</th>\n",
       "<td style=\"background-color: rgb(84,181,94);\" title=\"No description available\">416</td>\n",
       "<td style=\"background-color: rgb(69,173,91);\" title=\"No description available\">116</td>\n",
       "<td style=\"background-color: rgb(69,173,91);\" title=\"No description available\">128</td>\n",
       "</tr>\n",
       "</tbody>\n",
       "</table>\n",
       "</div></body></html>"
      ],
      "text/plain": [
       "                   RWCK NLL Test RR NLL Test NWSLS NLL Test\n",
       "RWCKModel                    111         118            109\n",
       "RandomRespondModel           126         111            125\n",
       "NWSLSModel                   416         116            128"
      ]
     },
     "execution_count": 4,
     "metadata": {},
     "output_type": "execute_result"
    }
   ],
   "source": [
    "nll_suite = sciunit.TestSuite([nll_test_rwck_data, nll_test_rr_data, nll_test_nwsls_data], name=\"NLL suite\")\n",
    "nll_suite.judge([multi_rwck, multi_rr, multi_nwsls])"
   ]
  },
  {
   "cell_type": "markdown",
   "metadata": {},
   "source": [
    "## BIC Tests"
   ]
  },
  {
   "cell_type": "code",
   "execution_count": 5,
   "metadata": {},
   "outputs": [],
   "source": [
    "def bic_kwargs_fn(model, obs, pred):\n",
    "    return {\"n_model_params\": model.n_params(), \"n_samples\": len(obs[\"stimuli\"])}\n",
    "\n",
    "bic_test_krw_data = InteractiveTest(\n",
    "    multi_subject=True,\n",
    "    name='RWCK BIC Test',\n",
    "    observation=get_simulation_data(pathjoin(DATA_PATH, 'multi-krw_norm.csv'), N_SUBJECTS, True),\n",
    "    score_type=partialclass(BICScore, min_score=0, max_score=1e4),\n",
    "    fn_kwargs_for_score=bic_kwargs_fn\n",
    ")\n",
    "\n",
    "bic_test_lsspd_data = InteractiveTest(\n",
    "    multi_subject=True,\n",
    "    name='LSSPD BIC Test',\n",
    "    observation=get_simulation_data(pathjoin(DATA_PATH, 'multi-lsspd.csv'), N_SUBJECTS, True),\n",
    "    score_type=partialclass(BICScore, min_score=0, max_score=1e4),\n",
    "    fn_kwargs_for_score=bic_kwargs_fn\n",
    ")\n",
    "\n",
    "bic_test_bb_data = InteractiveTest(\n",
    "    multi_subject=True,\n",
    "    name='BetaBinomial BIC Test',\n",
    "    observation=get_simulation_data(pathjoin(DATA_PATH, 'multi-beta_binomial.csv'), N_SUBJECTS, True),\n",
    "    score_type=partialclass(BICScore, min_score=0, max_score=1e4),\n",
    "    fn_kwargs_for_score=bic_kwargs_fn\n",
    ")"
   ]
  },
  {
   "cell_type": "markdown",
   "metadata": {},
   "source": [
    "## Associative Learning Models"
   ]
  },
  {
   "cell_type": "code",
   "execution_count": 6,
   "metadata": {},
   "outputs": [],
   "source": [
    "MultiKrwNormModel = multi_from_single_cls(associative_learning.KrwNormModel)\n",
    "MultiBetaBinomialModel = multi_from_single_cls(associative_learning.BetaBinomialModel)\n",
    "MultiLSSPDModel = multi_from_single_cls(associative_learning.LSSPDModel)\n",
    "\n",
    "multi_krw_norm = MultiKrwNormModel(n_subj=N_SUBJECTS, n_obs=4)\n",
    "multi_lsspd = MultiLSSPDModel(n_subj=N_SUBJECTS, n_obs=4)\n",
    "multi_bb = MultiBetaBinomialModel(n_subj=N_SUBJECTS, n_obs=4)"
   ]
  },
  {
   "cell_type": "markdown",
   "metadata": {},
   "source": [
    "## Run Test Suite"
   ]
  },
  {
   "cell_type": "code",
   "execution_count": 7,
   "metadata": {
    "scrolled": true
   },
   "outputs": [
    {
     "data": {
      "text/html": [
       "Executing test <i>RWCK BIC Test</i> on model <i>KrwNorm</i>... "
      ],
      "text/plain": [
       "<IPython.core.display.HTML object>"
      ]
     },
     "metadata": {},
     "output_type": "display_data"
    },
    {
     "name": "stderr",
     "output_type": "stream",
     "text": [
      "01-20-20 13:34 ldmunit      INFO     RWCK BIC Test : Optimizing KrwNorm model...\n"
     ]
    },
    {
     "data": {
      "text/html": [
       "Score is <a style=\"color: rgb(230,78,52)\">6.06e+05</a>\n"
      ],
      "text/plain": [
       "<IPython.core.display.HTML object>"
      ]
     },
     "metadata": {},
     "output_type": "display_data"
    },
    {
     "data": {
      "text/html": [
       "Executing test <i>LSSPD BIC Test</i> on model <i>KrwNorm</i>... "
      ],
      "text/plain": [
       "<IPython.core.display.HTML object>"
      ]
     },
     "metadata": {},
     "output_type": "display_data"
    },
    {
     "name": "stderr",
     "output_type": "stream",
     "text": [
      "01-20-20 13:34 ldmunit      INFO     LSSPD BIC Test : Optimizing KrwNorm model...\n"
     ]
    },
    {
     "data": {
      "text/html": [
       "Score is <a style=\"color: rgb(122,198,101)\">1.17e+03</a>\n"
      ],
      "text/plain": [
       "<IPython.core.display.HTML object>"
      ]
     },
     "metadata": {},
     "output_type": "display_data"
    },
    {
     "data": {
      "text/html": [
       "Executing test <i>BetaBinomial BIC Test</i> on model <i>KrwNorm</i>... "
      ],
      "text/plain": [
       "<IPython.core.display.HTML object>"
      ]
     },
     "metadata": {},
     "output_type": "display_data"
    },
    {
     "name": "stderr",
     "output_type": "stream",
     "text": [
      "01-20-20 13:34 ldmunit      INFO     BetaBinomial BIC Test : Optimizing KrwNorm model...\n"
     ]
    },
    {
     "data": {
      "text/html": [
       "Score is <a style=\"color: rgb(130,201,102)\">1.35e+03</a>\n"
      ],
      "text/plain": [
       "<IPython.core.display.HTML object>"
      ]
     },
     "metadata": {},
     "output_type": "display_data"
    },
    {
     "data": {
      "text/html": [
       "Executing test <i>RWCK BIC Test</i> on model <i>LSSPD</i>... "
      ],
      "text/plain": [
       "<IPython.core.display.HTML object>"
      ]
     },
     "metadata": {},
     "output_type": "display_data"
    },
    {
     "name": "stderr",
     "output_type": "stream",
     "text": [
      "01-20-20 13:35 ldmunit      INFO     RWCK BIC Test : Optimizing LSSPD model...\n"
     ]
    },
    {
     "data": {
      "text/html": [
       "Score is <a style=\"color: rgb(125,199,101)\">1.26e+03</a>\n"
      ],
      "text/plain": [
       "<IPython.core.display.HTML object>"
      ]
     },
     "metadata": {},
     "output_type": "display_data"
    },
    {
     "data": {
      "text/html": [
       "Executing test <i>LSSPD BIC Test</i> on model <i>LSSPD</i>... "
      ],
      "text/plain": [
       "<IPython.core.display.HTML object>"
      ]
     },
     "metadata": {},
     "output_type": "display_data"
    },
    {
     "name": "stderr",
     "output_type": "stream",
     "text": [
      "01-20-20 13:35 ldmunit      INFO     LSSPD BIC Test : Optimizing LSSPD model...\n"
     ]
    },
    {
     "data": {
      "text/html": [
       "Score is <a style=\"color: rgb(112,194,100)\">964</a>\n"
      ],
      "text/plain": [
       "<IPython.core.display.HTML object>"
      ]
     },
     "metadata": {},
     "output_type": "display_data"
    },
    {
     "data": {
      "text/html": [
       "Executing test <i>BetaBinomial BIC Test</i> on model <i>LSSPD</i>... "
      ],
      "text/plain": [
       "<IPython.core.display.HTML object>"
      ]
     },
     "metadata": {},
     "output_type": "display_data"
    },
    {
     "name": "stderr",
     "output_type": "stream",
     "text": [
      "01-20-20 13:35 ldmunit      INFO     BetaBinomial BIC Test : Optimizing LSSPD model...\n"
     ]
    },
    {
     "data": {
      "text/html": [
       "Score is <a style=\"color: rgb(230,78,52)\">2.22e+04</a>\n"
      ],
      "text/plain": [
       "<IPython.core.display.HTML object>"
      ]
     },
     "metadata": {},
     "output_type": "display_data"
    },
    {
     "data": {
      "text/html": [
       "Executing test <i>RWCK BIC Test</i> on model <i>Beta Binomial</i>... "
      ],
      "text/plain": [
       "<IPython.core.display.HTML object>"
      ]
     },
     "metadata": {},
     "output_type": "display_data"
    },
    {
     "name": "stderr",
     "output_type": "stream",
     "text": [
      "01-20-20 13:35 ldmunit      INFO     RWCK BIC Test : Optimizing Beta Binomial model...\n"
     ]
    },
    {
     "data": {
      "text/html": [
       "Score is <a style=\"color: rgb(114,195,100)\">1.03e+03</a>\n"
      ],
      "text/plain": [
       "<IPython.core.display.HTML object>"
      ]
     },
     "metadata": {},
     "output_type": "display_data"
    },
    {
     "data": {
      "text/html": [
       "Executing test <i>LSSPD BIC Test</i> on model <i>Beta Binomial</i>... "
      ],
      "text/plain": [
       "<IPython.core.display.HTML object>"
      ]
     },
     "metadata": {},
     "output_type": "display_data"
    },
    {
     "name": "stderr",
     "output_type": "stream",
     "text": [
      "01-20-20 13:37 ldmunit      INFO     LSSPD BIC Test : Optimizing Beta Binomial model...\n"
     ]
    },
    {
     "data": {
      "text/html": [
       "Score is <a style=\"color: rgb(230,78,52)\">1.17e+04</a>\n"
      ],
      "text/plain": [
       "<IPython.core.display.HTML object>"
      ]
     },
     "metadata": {},
     "output_type": "display_data"
    },
    {
     "data": {
      "text/html": [
       "Executing test <i>BetaBinomial BIC Test</i> on model <i>Beta Binomial</i>... "
      ],
      "text/plain": [
       "<IPython.core.display.HTML object>"
      ]
     },
     "metadata": {},
     "output_type": "display_data"
    },
    {
     "name": "stderr",
     "output_type": "stream",
     "text": [
      "01-20-20 13:38 ldmunit      INFO     BetaBinomial BIC Test : Optimizing Beta Binomial model...\n"
     ]
    },
    {
     "data": {
      "text/html": [
       "Score is <a style=\"color: rgb(125,199,101)\">1.23e+03</a>\n"
      ],
      "text/plain": [
       "<IPython.core.display.HTML object>"
      ]
     },
     "metadata": {},
     "output_type": "display_data"
    },
    {
     "data": {
      "text/html": [
       "<html><body><div>\n",
       "<style scoped=\"\">\n",
       "    .dataframe tbody tr th:only-of-type {\n",
       "        vertical-align: middle;\n",
       "    }\n",
       "\n",
       "    .dataframe tbody tr th {\n",
       "        vertical-align: top;\n",
       "    }\n",
       "\n",
       "    .dataframe thead th {\n",
       "        text-align: right;\n",
       "    }\n",
       "</style>\n",
       "<table border=\"1\" class=\"dataframe\" id=\"-2833757560062209044\">\n",
       "<thead>\n",
       "<tr style=\"text-align: right;\">\n",
       "<th></th>\n",
       "<th title=\"\n",
       "    Perform interactive tests by feeding the input samples (stimuli, rewards, actions) one at a time and updating the\n",
       "    model after each sample with the corresponding reward.\n",
       "    \">RWCK BIC Test</th>\n",
       "<th title=\"\n",
       "    Perform interactive tests by feeding the input samples (stimuli, rewards, actions) one at a time and updating the\n",
       "    model after each sample with the corresponding reward.\n",
       "    \">LSSPD BIC Test</th>\n",
       "<th title=\"\n",
       "    Perform interactive tests by feeding the input samples (stimuli, rewards, actions) one at a time and updating the\n",
       "    model after each sample with the corresponding reward.\n",
       "    \">BetaBinomial BIC Test</th>\n",
       "</tr>\n",
       "</thead>\n",
       "<tbody>\n",
       "<tr>\n",
       "<th title=\"Kalman Rescorla-Wagner model implementation.\">KrwNorm</th>\n",
       "<td style=\"background-color: rgb(230,78,52);\" title=\"No description available\">6.06e+05</td>\n",
       "<td style=\"background-color: rgb(122,198,101);\" title=\"No description available\">1.17e+03</td>\n",
       "<td style=\"background-color: rgb(130,201,102);\" title=\"No description available\">1.35e+03</td>\n",
       "</tr>\n",
       "<tr>\n",
       "<th title=\"LSSPD (Rescorla Wagner Pearce Hall, RWPH) model implementation.\">LSSPD</th>\n",
       "<td style=\"background-color: rgb(125,199,101);\" title=\"No description available\">1.26e+03</td>\n",
       "<td style=\"background-color: rgb(112,194,100);\" title=\"No description available\">964</td>\n",
       "<td style=\"background-color: rgb(230,78,52);\" title=\"No description available\">2.22e+04</td>\n",
       "</tr>\n",
       "<tr>\n",
       "<th title=\"Beta-binomial model implementation.\">Beta Binomial</th>\n",
       "<td style=\"background-color: rgb(114,195,100);\" title=\"No description available\">1.03e+03</td>\n",
       "<td style=\"background-color: rgb(230,78,52);\" title=\"No description available\">1.17e+04</td>\n",
       "<td style=\"background-color: rgb(125,199,101);\" title=\"No description available\">1.23e+03</td>\n",
       "</tr>\n",
       "</tbody>\n",
       "</table>\n",
       "</div></body></html>"
      ],
      "text/plain": [
       "              RWCK BIC Test LSSPD BIC Test BetaBinomial BIC Test\n",
       "KrwNorm            6.06e+05       1.17e+03              1.35e+03\n",
       "LSSPD              1.26e+03            964              2.22e+04\n",
       "Beta Binomial      1.03e+03       1.17e+04              1.23e+03"
      ]
     },
     "execution_count": 7,
     "metadata": {},
     "output_type": "execute_result"
    }
   ],
   "source": [
    "bic_al_suite = sciunit.TestSuite([bic_test_krw_data, bic_test_lsspd_data, bic_test_bb_data], name=\"BIC suite for associative learning\")\n",
    "bic_al_suite.judge([multi_krw_norm, multi_lsspd, multi_bb])"
   ]
  }
 ],
 "metadata": {
  "kernelspec": {
   "display_name": "Python [conda env:ldmunit]",
   "language": "python",
   "name": "conda-env-ldmunit-py"
  },
  "language_info": {
   "codemirror_mode": {
    "name": "ipython",
    "version": 3
   },
   "file_extension": ".py",
   "mimetype": "text/x-python",
   "name": "python",
   "nbconvert_exporter": "python",
   "pygments_lexer": "ipython3",
   "version": "3.6.8"
  }
 },
 "nbformat": 4,
 "nbformat_minor": 2
}
