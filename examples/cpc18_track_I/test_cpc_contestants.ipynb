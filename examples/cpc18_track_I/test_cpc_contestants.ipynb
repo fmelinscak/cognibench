{
 "cells": [
  {
   "cell_type": "code",
   "execution_count": 1,
   "metadata": {},
   "outputs": [],
   "source": [
    "from os import getcwd\n",
    "import pandas as pd\n",
    "import numpy as np\n",
    "import time\n",
    "from ldmunit.testing.tests import MSETest, MAETest, CrossEntropyTest\n",
    "from ldmunit.models import CACO\n",
    "from ldmunit.capabilities import Interactive\n",
    "from sciunit import TestSuite\n",
    "from sciunit import settings as sciunit_settings\n",
    "\n",
    "from model_defs import BEASTsdPython, BEASTsdOctave, BEASTsdR\n",
    "\n",
    "sciunit_settings[\"CWD\"] = getcwd()"
   ]
  },
  {
   "cell_type": "code",
   "execution_count": 2,
   "metadata": {},
   "outputs": [],
   "source": [
    "def get_models(python_model_IDs, octave_model_IDs, r_model_IDs):\n",
    "    folder_fmt = 'beastsd_contestant_{}'\n",
    "    model_name_fmt = 'Contestant {} ({})'\n",
    "    python_models = [\n",
    "        BEASTsdPython(\n",
    "            import_base_path=folder_fmt.format(i), name=model_name_fmt.format(i, 'Python')\n",
    "        )\n",
    "        for i in python_model_IDs\n",
    "    ]\n",
    "    octave_models = [\n",
    "        BEASTsdOctave(\n",
    "            import_base_path=folder_fmt.format(i), name=model_name_fmt.format(i, 'Octave')\n",
    "        )\n",
    "        for i in octave_model_IDs\n",
    "    ]\n",
    "    r_models = [\n",
    "       BEASTsdR(\n",
    "           import_base_path=folder_fmt.format(i), name=model_name_fmt.format(i, 'R')\n",
    "       )\n",
    "       for i in r_model_IDs\n",
    "    ]\n",
    "    return python_models + octave_models + r_models"
   ]
  },
  {
   "cell_type": "code",
   "execution_count": 3,
   "metadata": {},
   "outputs": [],
   "source": [
    "Data = pd.read_csv(\"CPC18_EstSet.csv\")\n",
    "stimuli = Data[\n",
    "    [\n",
    "        \"Ha\",\n",
    "        \"pHa\",\n",
    "        \"La\",\n",
    "        \"LotShapeA\",\n",
    "        \"LotNumA\",\n",
    "        \"Hb\",\n",
    "        \"pHb\",\n",
    "        \"Lb\",\n",
    "        \"LotShapeB\",\n",
    "        \"LotNumB\",\n",
    "        \"Amb\",\n",
    "        \"Corr\",\n",
    "    ]\n",
    "].values\n",
    "actions = Data[[\"B.1\", \"B.2\", \"B.3\", \"B.4\", \"B.5\"]].values\n",
    "obs_dict = {\"stimuli\": stimuli, \"actions\": actions}\n",
    "\n",
    "# prepare models\n",
    "python_model_IDs = [0]\n",
    "octave_model_IDs = [1]\n",
    "r_model_IDs = [2]\n",
    "models = get_models(python_model_IDs, octave_model_IDs, r_model_IDs)\n",
    "\n",
    "# prepare tests\n",
    "suite = TestSuite(\n",
    "    [\n",
    "        MSETest(name=\"MSE Test\", observation=obs_dict),\n",
    "        MAETest(name=\"MAE Test\", observation=obs_dict),\n",
    "        CrossEntropyTest(name=\"Cross Entropy Test\", observation=obs_dict, eps=1e-9),\n",
    "    ],\n",
    "    name=\"Batch test suite\",\n",
    ")"
   ]
  },
  {
   "cell_type": "code",
   "execution_count": 4,
   "metadata": {},
   "outputs": [
    {
     "data": {
      "text/html": [
       "Executing test <i>MSE Test</i> on model <i>Contestant 0 (Python)</i>... "
      ],
      "text/plain": [
       "<IPython.core.display.HTML object>"
      ]
     },
     "metadata": {},
     "output_type": "display_data"
    },
    {
     "data": {
      "text/html": [
       "Score is <a style=\"color: rgb(140,206,103)\">0.16</a>\n"
      ],
      "text/plain": [
       "<IPython.core.display.HTML object>"
      ]
     },
     "metadata": {},
     "output_type": "display_data"
    },
    {
     "data": {
      "text/html": [
       "Executing test <i>MAE Test</i> on model <i>Contestant 0 (Python)</i>... "
      ],
      "text/plain": [
       "<IPython.core.display.HTML object>"
      ]
     },
     "metadata": {},
     "output_type": "display_data"
    },
    {
     "data": {
      "text/html": [
       "Score is <a style=\"color: rgb(205,234,131)\">0.322</a>\n"
      ],
      "text/plain": [
       "<IPython.core.display.HTML object>"
      ]
     },
     "metadata": {},
     "output_type": "display_data"
    },
    {
     "data": {
      "text/html": [
       "Executing test <i>Cross Entropy Test</i> on model <i>Contestant 0 (Python)</i>... "
      ],
      "text/plain": [
       "<IPython.core.display.HTML object>"
      ]
     },
     "metadata": {},
     "output_type": "display_data"
    },
    {
     "data": {
      "text/html": [
       "Score is <a style=\"color: rgb(230,78,52)\">319</a>\n"
      ],
      "text/plain": [
       "<IPython.core.display.HTML object>"
      ]
     },
     "metadata": {},
     "output_type": "display_data"
    },
    {
     "data": {
      "text/html": [
       "Executing test <i>MSE Test</i> on model <i>Contestant 1 (Octave)</i>... "
      ],
      "text/plain": [
       "<IPython.core.display.HTML object>"
      ]
     },
     "metadata": {},
     "output_type": "display_data"
    },
    {
     "data": {
      "text/html": [
       "Score is <a style=\"color: rgb(142,207,103)\">0.165</a>\n"
      ],
      "text/plain": [
       "<IPython.core.display.HTML object>"
      ]
     },
     "metadata": {},
     "output_type": "display_data"
    },
    {
     "data": {
      "text/html": [
       "Executing test <i>MAE Test</i> on model <i>Contestant 1 (Octave)</i>... "
      ],
      "text/plain": [
       "<IPython.core.display.HTML object>"
      ]
     },
     "metadata": {},
     "output_type": "display_data"
    },
    {
     "data": {
      "text/html": [
       "Score is <a style=\"color: rgb(205,234,131)\">0.324</a>\n"
      ],
      "text/plain": [
       "<IPython.core.display.HTML object>"
      ]
     },
     "metadata": {},
     "output_type": "display_data"
    },
    {
     "data": {
      "text/html": [
       "Executing test <i>Cross Entropy Test</i> on model <i>Contestant 1 (Octave)</i>... "
      ],
      "text/plain": [
       "<IPython.core.display.HTML object>"
      ]
     },
     "metadata": {},
     "output_type": "display_data"
    },
    {
     "data": {
      "text/html": [
       "Score is <a style=\"color: rgb(230,78,52)\">318</a>\n"
      ],
      "text/plain": [
       "<IPython.core.display.HTML object>"
      ]
     },
     "metadata": {},
     "output_type": "display_data"
    },
    {
     "data": {
      "text/html": [
       "Executing test <i>MSE Test</i> on model <i>Contestant 2 (R)</i>... "
      ],
      "text/plain": [
       "<IPython.core.display.HTML object>"
      ]
     },
     "metadata": {},
     "output_type": "display_data"
    },
    {
     "data": {
      "text/html": [
       "Score is <a style=\"color: rgb(142,207,103)\">0.161</a>\n"
      ],
      "text/plain": [
       "<IPython.core.display.HTML object>"
      ]
     },
     "metadata": {},
     "output_type": "display_data"
    },
    {
     "data": {
      "text/html": [
       "Executing test <i>MAE Test</i> on model <i>Contestant 2 (R)</i>... "
      ],
      "text/plain": [
       "<IPython.core.display.HTML object>"
      ]
     },
     "metadata": {},
     "output_type": "display_data"
    },
    {
     "data": {
      "text/html": [
       "Score is <a style=\"color: rgb(205,234,131)\">0.326</a>\n"
      ],
      "text/plain": [
       "<IPython.core.display.HTML object>"
      ]
     },
     "metadata": {},
     "output_type": "display_data"
    },
    {
     "data": {
      "text/html": [
       "Executing test <i>Cross Entropy Test</i> on model <i>Contestant 2 (R)</i>... "
      ],
      "text/plain": [
       "<IPython.core.display.HTML object>"
      ]
     },
     "metadata": {},
     "output_type": "display_data"
    },
    {
     "data": {
      "text/html": [
       "Score is <a style=\"color: rgb(230,78,52)\">315</a>\n"
      ],
      "text/plain": [
       "<IPython.core.display.HTML object>"
      ]
     },
     "metadata": {},
     "output_type": "display_data"
    },
    {
     "data": {
      "text/html": [
       "<html><body><div>\n",
       "<style scoped=\"\">\n",
       "    .dataframe tbody tr th:only-of-type {\n",
       "        vertical-align: middle;\n",
       "    }\n",
       "\n",
       "    .dataframe tbody tr th {\n",
       "        vertical-align: top;\n",
       "    }\n",
       "\n",
       "    .dataframe thead th {\n",
       "        text-align: right;\n",
       "    }\n",
       "</style>\n",
       "<table border=\"1\" class=\"dataframe\" id=\"-6921968166911069088\">\n",
       "<thead>\n",
       "<tr style=\"text-align: right;\">\n",
       "<th></th>\n",
       "<th title=\"\n",
       "    Perform batch test on models that produce a real-valued numpy array as its\n",
       "    predictions. Each prediction is compared to its ground truth using squared error,\n",
       "    and the final score is computed as the mean squared error.\n",
       "    \">MSE Test</th>\n",
       "<th title=\"\n",
       "    Perform batch test on models that produce a real-valued numpy array as its\n",
       "    predictions. Each prediction is compared to its ground truth using absolute error,\n",
       "    and the final score is computed as the mean absolute error.\n",
       "    \">MAE Test</th>\n",
       "<th title=\"\n",
       "    Perform batch test on models that produce a real-valued probability numpy array as its\n",
       "    predictions, meaning each element of the array must be in the range [0, 1].\n",
       "    The score for one sample is computed as the cross entropy loss H(ground, pred) where ground is the\n",
       "    ground truth probability vector and pred is the prediction vector output by the model. The final\n",
       "    score is computed as the mean of these individual cross entropy losses.\n",
       "    \">Cross Entropy Test</th>\n",
       "</tr>\n",
       "</thead>\n",
       "<tbody>\n",
       "<tr>\n",
       "<th title=\"No description available\">Contestant 0 (Python)</th>\n",
       "<td style=\"background-color: rgb(140,206,103);\" title=\"No description available\">0.16</td>\n",
       "<td style=\"background-color: rgb(205,234,131);\" title=\"No description available\">0.322</td>\n",
       "<td style=\"background-color: rgb(230,78,52);\" title=\"No description available\">319</td>\n",
       "</tr>\n",
       "<tr>\n",
       "<th title=\"No description available\">Contestant 1 (Octave)</th>\n",
       "<td style=\"background-color: rgb(142,207,103);\" title=\"No description available\">0.165</td>\n",
       "<td style=\"background-color: rgb(205,234,131);\" title=\"No description available\">0.324</td>\n",
       "<td style=\"background-color: rgb(230,78,52);\" title=\"No description available\">318</td>\n",
       "</tr>\n",
       "<tr>\n",
       "<th title=\"No description available\">Contestant 2 (R)</th>\n",
       "<td style=\"background-color: rgb(142,207,103);\" title=\"No description available\">0.161</td>\n",
       "<td style=\"background-color: rgb(205,234,131);\" title=\"No description available\">0.326</td>\n",
       "<td style=\"background-color: rgb(230,78,52);\" title=\"No description available\">315</td>\n",
       "</tr>\n",
       "</tbody>\n",
       "</table>\n",
       "</div></body></html>"
      ],
      "text/plain": [
       "                      MSE Test MAE Test Cross Entropy Test\n",
       "Contestant 0 (Python)     0.16    0.322                319\n",
       "Contestant 1 (Octave)    0.165    0.324                318\n",
       "Contestant 2 (R)         0.161    0.326                315"
      ]
     },
     "execution_count": 4,
     "metadata": {},
     "output_type": "execute_result"
    }
   ],
   "source": [
    "suite.judge(models)"
   ]
  }
 ],
 "metadata": {
  "kernelspec": {
   "display_name": "Python [conda env:ldmunit]",
   "language": "python",
   "name": "conda-env-ldmunit-py"
  },
  "language_info": {
   "codemirror_mode": {
    "name": "ipython",
    "version": 3
   },
   "file_extension": ".py",
   "mimetype": "text/x-python",
   "name": "python",
   "nbconvert_exporter": "python",
   "pygments_lexer": "ipython3",
   "version": "3.6.8"
  }
 },
 "nbformat": 4,
 "nbformat_minor": 2
}
