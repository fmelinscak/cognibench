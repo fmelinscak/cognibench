{
 "cells": [
  {
   "cell_type": "code",
   "execution_count": 34,
   "metadata": {},
   "outputs": [],
   "source": [
    "import pandas as pd\n",
    "import numpy as np"
   ]
  },
  {
   "cell_type": "code",
   "execution_count": 35,
   "metadata": {},
   "outputs": [],
   "source": [
    "raw = pd.read_csv(\"/Users/holliswang/Desktop/sel_trial_data.csv\", header=0)"
   ]
  },
  {
   "cell_type": "code",
   "execution_count": 41,
   "metadata": {},
   "outputs": [],
   "source": [
    "US = {'LH': np.array([1,0,0]), 'M': np.array([0,1,0]), 'HL': np.array([0,0,1])}\n",
    "CS = {'m': 0, 'p': 1}"
   ]
  },
  {
   "cell_type": "code",
   "execution_count": 190,
   "metadata": {},
   "outputs": [
    {
     "data": {
      "text/plain": [
       "120"
      ]
     },
     "execution_count": 190,
     "metadata": {},
     "output_type": "execute_result"
    }
   ],
   "source": [
    "a = sub_1['stimulus'].map(US)\n",
    "a.size\n",
    "# sub_1['test'] = np.array(list(a)).reshape(120, 3) # error\n",
    "# np.reshape(np.array(list(1)), (120,3))"
   ]
  },
  {
   "cell_type": "code",
   "execution_count": 42,
   "metadata": {},
   "outputs": [],
   "source": [
    "sub_1 = raw[raw['sub_id'] == 'LCP001'].iloc[:,[4,5,6]]"
   ]
  },
  {
   "cell_type": "code",
   "execution_count": 246,
   "metadata": {},
   "outputs": [],
   "source": [
    "# sub_1['outcome'].replace(CS, inplace=True)\n",
    "# sub_1['stimulus'].replace(US, inplace=True)\n",
    "sub_1['stimulus_trans'] = sub_1['stimulus'].map(US)\n",
    "sub_1['outcome_trans'] = sub_1['outcome'].map(CS)"
   ]
  },
  {
   "cell_type": "code",
   "execution_count": 250,
   "metadata": {},
   "outputs": [
    {
     "data": {
      "text/plain": [
       "array([array([1, 0, 0]), array([0, 1, 0]), array([0, 0, 1]),\n",
       "       array([1, 0, 0]), array([0, 1, 0]), array([0, 1, 0]),\n",
       "       array([1, 0, 0]), array([0, 1, 0]), array([0, 0, 1]),\n",
       "       array([1, 0, 0]), array([1, 0, 0]), array([1, 0, 0]),\n",
       "       array([0, 1, 0]), array([1, 0, 0]), array([1, 0, 0]),\n",
       "       array([0, 0, 1]), array([0, 1, 0]), array([0, 1, 0]),\n",
       "       array([0, 1, 0]), array([0, 0, 1]), array([0, 1, 0]),\n",
       "       array([0, 1, 0]), array([0, 0, 1]), array([1, 0, 0]),\n",
       "       array([0, 1, 0]), array([0, 0, 1]), array([0, 1, 0]),\n",
       "       array([0, 0, 1]), array([0, 0, 1]), array([0, 1, 0]),\n",
       "       array([0, 1, 0]), array([0, 0, 1]), array([0, 1, 0]),\n",
       "       array([0, 1, 0]), array([0, 1, 0]), array([0, 0, 1]),\n",
       "       array([0, 1, 0]), array([0, 1, 0]), array([1, 0, 0]),\n",
       "       array([0, 1, 0]), array([0, 0, 1]), array([0, 0, 1]),\n",
       "       array([1, 0, 0]), array([0, 1, 0]), array([0, 1, 0]),\n",
       "       array([0, 1, 0]), array([0, 1, 0]), array([0, 0, 1]),\n",
       "       array([0, 1, 0]), array([0, 1, 0]), array([0, 1, 0]),\n",
       "       array([1, 0, 0]), array([0, 1, 0]), array([0, 1, 0]),\n",
       "       array([1, 0, 0]), array([0, 1, 0]), array([0, 1, 0]),\n",
       "       array([0, 0, 1]), array([0, 1, 0]), array([0, 0, 1]),\n",
       "       array([1, 0, 0]), array([0, 0, 1]), array([1, 0, 0]),\n",
       "       array([0, 1, 0]), array([0, 0, 1]), array([1, 0, 0]),\n",
       "       array([0, 1, 0]), array([0, 1, 0]), array([0, 0, 1]),\n",
       "       array([0, 0, 1]), array([0, 1, 0]), array([0, 1, 0]),\n",
       "       array([0, 0, 1]), array([1, 0, 0]), array([1, 0, 0]),\n",
       "       array([1, 0, 0]), array([0, 1, 0]), array([1, 0, 0]),\n",
       "       array([0, 1, 0]), array([0, 1, 0]), array([1, 0, 0]),\n",
       "       array([1, 0, 0]), array([0, 0, 1]), array([0, 1, 0]),\n",
       "       array([0, 1, 0]), array([0, 1, 0]), array([0, 0, 1]),\n",
       "       array([0, 1, 0]), array([0, 0, 1]), array([1, 0, 0]),\n",
       "       array([0, 0, 1]), array([0, 1, 0]), array([0, 1, 0]),\n",
       "       array([0, 1, 0]), array([0, 1, 0]), array([0, 0, 1]),\n",
       "       array([0, 1, 0]), array([0, 1, 0]), array([1, 0, 0]),\n",
       "       array([0, 1, 0]), array([1, 0, 0]), array([0, 0, 1]),\n",
       "       array([0, 1, 0]), array([1, 0, 0]), array([0, 0, 1]),\n",
       "       array([0, 1, 0]), array([0, 1, 0]), array([0, 1, 0]),\n",
       "       array([1, 0, 0]), array([0, 1, 0]), array([0, 1, 0]),\n",
       "       array([0, 1, 0]), array([0, 1, 0]), array([0, 0, 1]),\n",
       "       array([0, 1, 0]), array([1, 0, 0]), array([1, 0, 0]),\n",
       "       array([1, 0, 0]), array([0, 0, 1]), array([0, 0, 1])], dtype=object)"
      ]
     },
     "execution_count": 250,
     "metadata": {},
     "output_type": "execute_result"
    }
   ],
   "source": [
    "sub_1['stimulus_trans'].values"
   ]
  },
  {
   "cell_type": "code",
   "execution_count": 193,
   "metadata": {},
   "outputs": [
    {
     "data": {
      "text/plain": [
       "120"
      ]
     },
     "execution_count": 193,
     "metadata": {},
     "output_type": "execute_result"
    }
   ],
   "source": [
    "stimulus.size"
   ]
  },
  {
   "cell_type": "code",
   "execution_count": 173,
   "metadata": {},
   "outputs": [
    {
     "name": "stdout",
     "output_type": "stream",
     "text": [
      "  stimulus outcome  resp_rating_cont stimulus_trans  outcome_trans\n",
      "0       LH       m             21.20      [1, 0, 0]              0\n",
      "1        M       p             49.36      [0, 1, 0]              1\n",
      "2       HL       p             50.00      [0, 0, 1]              1\n",
      "3       LH       m             19.92      [1, 0, 0]              0\n",
      "4        M       p             75.60      [0, 1, 0]              1\n",
      "(120,)\n"
     ]
    }
   ],
   "source": [
    "print(sub_1.head(5))\n",
    "print(sub_1['stimulus_trans'].shape)"
   ]
  },
  {
   "cell_type": "code",
   "execution_count": 131,
   "metadata": {},
   "outputs": [],
   "source": [
    "def softmax(x, beta):\n",
    "    return np.exp(x * beta) / np.sum(np.exp(x * beta), axis=0)"
   ]
  },
  {
   "cell_type": "code",
   "execution_count": 243,
   "metadata": {},
   "outputs": [
    {
     "data": {
      "text/plain": [
       "array([135.85020934, 125.64698458, 135.63120637])"
      ]
     },
     "execution_count": 243,
     "metadata": {},
     "output_type": "execute_result"
    }
   ],
   "source": [
    "outcome = sub_1['outcome_trans'] # reward/US\n",
    "stimulus = sub_1['stimulus_trans'] # stimulus/CS\n",
    "\n",
    "q = np.zeros((stimulus.size, stimulus[0].size)) #\n",
    "alpha = 0.5\n",
    "beta = 0.5\n",
    "\n",
    "def calculate_weight(q, alpha, outcome, stimulus):\n",
    "    for i in range(1,q.shape[0]):\n",
    "        q[i] = q[i-1] + alpha * (outcome[i-1] * stimulus[i-1] - q[i-1])\n",
    "    return q\n",
    "    \n",
    "q_t = calculate_weight(q, alpha, outcome, stimulus)\n",
    "q_pdf = np.apply_along_axis(softmax, 1, q_t, beta) # transformed weights into density by softmax\n",
    "q_ll = -np.log(q_pdf).sum(axis=0)\n",
    "\n",
    "q_ll"
   ]
  },
  {
   "cell_type": "code",
   "execution_count": 240,
   "metadata": {},
   "outputs": [
    {
     "data": {
      "text/plain": [
       "1"
      ]
     },
     "execution_count": 240,
     "metadata": {},
     "output_type": "execute_result"
    }
   ],
   "source": [
    "b = np.random.randint(0,10, 4)\n",
    "b[2].size"
   ]
  },
  {
   "cell_type": "code",
   "execution_count": 233,
   "metadata": {},
   "outputs": [],
   "source": [
    "import time\n",
    "test = np.random.normal(0,1,(10000,1000))"
   ]
  },
  {
   "cell_type": "code",
   "execution_count": 235,
   "metadata": {},
   "outputs": [
    {
     "name": "stdout",
     "output_type": "stream",
     "text": [
      "3 s ± 43.8 ms per loop (mean ± std. dev. of 7 runs, 1 loop each)\n"
     ]
    }
   ],
   "source": [
    "def foo(x):\n",
    "    return x**2\n",
    "\n",
    "foo_v = np.vectorize(foo)\n",
    "# print(foo_v(test)[0])\n",
    "%timeit foo_v(test)"
   ]
  },
  {
   "cell_type": "code",
   "execution_count": 236,
   "metadata": {},
   "outputs": [
    {
     "name": "stdout",
     "output_type": "stream",
     "text": [
      "71.9 ms ± 2.12 ms per loop (mean ± std. dev. of 7 runs, 10 loops each)\n"
     ]
    }
   ],
   "source": [
    "# print(np.apply_along_axis(foo, 1, test)[0])\n",
    "%timeit np.apply_along_axis(foo, 1, test)"
   ]
  }
 ],
 "metadata": {
  "kernelspec": {
   "display_name": "Python [conda env:testing-ldmm]",
   "language": "python",
   "name": "conda-env-testing-ldmm-py"
  },
  "language_info": {
   "codemirror_mode": {
    "name": "ipython",
    "version": 3
   },
   "file_extension": ".py",
   "mimetype": "text/x-python",
   "name": "python",
   "nbconvert_exporter": "python",
   "pygments_lexer": "ipython3",
   "version": "3.6.8"
  }
 },
 "nbformat": 4,
 "nbformat_minor": 2
}
