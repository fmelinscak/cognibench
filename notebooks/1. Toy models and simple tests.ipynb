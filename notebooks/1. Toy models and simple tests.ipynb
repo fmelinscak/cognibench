{
 "cells": [
  {
   "cell_type": "code",
   "execution_count": 1,
   "metadata": {},
   "outputs": [],
   "source": [
    "%load_ext autoreload\n",
    "%autoreload 2 # autoreload all modules"
   ]
  },
  {
   "cell_type": "code",
   "execution_count": 2,
   "metadata": {},
   "outputs": [],
   "source": [
    "%matplotlib inline\n",
    "import sys\n",
    "import numpy as np\n",
    "import sciunit\n",
    "\n",
    "from sciunit.models.examples import ConstModel # model always predicts a fixed const\n",
    "from sciunit.capabilities import ProducesNumber\n",
    "\n",
    "sys.path.append(\"../\")"
   ]
  },
  {
   "cell_type": "markdown",
   "metadata": {},
   "source": [
    "Importing self-defined module and functions"
   ]
  },
  {
   "cell_type": "code",
   "execution_count": 3,
   "metadata": {},
   "outputs": [],
   "source": [
    "from src.ldmunit.models.poisson import PoissonModel\n",
    "from src.ldmunit.scores import MSEScore\n",
    "from src.ldmunit.scores import NLLScore\n",
    "from src.ldmunit.capabilities import ProducesLoglikelihood"
   ]
  },
  {
   "cell_type": "markdown",
   "metadata": {},
   "source": [
    "## Stimulate datasets"
   ]
  },
  {
   "cell_type": "code",
   "execution_count": 4,
   "metadata": {},
   "outputs": [],
   "source": [
    "observation_0 = {'value': np.random.randint(1, 100, size = (100,))} # random integers\n",
    "observation_1 = {'value': np.random.poisson(9, size = (100,))} # Poisson with lambda = 9\n",
    "observation_2 = {'value': np.random.poisson(10, size = (100,))}\n",
    "observation_3 = {'value': np.random.poisson(11, size = (100,))}"
   ]
  },
  {
   "cell_type": "markdown",
   "metadata": {},
   "source": [
    "## Import the models classes for comparsion"
   ]
  },
  {
   "cell_type": "code",
   "execution_count": 5,
   "metadata": {},
   "outputs": [],
   "source": [
    "poi_10 = PoissonModel(10, name=\"Poisson 10\")\n",
    "const_37 = ConstModel(37, name=\"Constant 37\")"
   ]
  },
  {
   "cell_type": "markdown",
   "metadata": {},
   "source": [
    "## Create test class\n",
    "\n",
    "Return the mean-sqaured-error (MSE) from a model of `ProducesNumber` capability"
   ]
  },
  {
   "cell_type": "code",
   "execution_count": 6,
   "metadata": {},
   "outputs": [],
   "source": [
    "class MSETest(sciunit.Test):\n",
    "    \"\"\"Returns the MSE score for each model\"\"\"   \n",
    "    \n",
    "    required_capabilities = (ProducesNumber,) # The one capability required for a model to take this test.  \n",
    "    score_type = MSEScore # This test's 'judge' method will return a BooleanScore.  \n",
    "    \n",
    "    def validate_observation(self, observation):\n",
    "        if type(observation) is not dict:\n",
    "            raise ObservationError(\"Observation must be a python dictionary\")\n",
    "        if 'value' not in observation:\n",
    "            raise ObservationError(\"Observation must contain a 'value' entry\")\n",
    "        \n",
    "    def generate_prediction(self, model):\n",
    "        \"\"\"Generate predictions\n",
    "        \"\"\"\n",
    "        return model.produce_number()\n",
    "    \n",
    "    def compute_score(self, observation, prediction):\n",
    "        score = MSEScore.compute(observation, prediction)\n",
    "        score.description = (\"A MSE score\")\n",
    "        return score"
   ]
  },
  {
   "cell_type": "code",
   "execution_count": 7,
   "metadata": {},
   "outputs": [
    {
     "data": {
      "text/plain": [
       "MSE = 8.854"
      ]
     },
     "execution_count": 7,
     "metadata": {},
     "output_type": "execute_result"
    }
   ],
   "source": [
    "mse_test_0 = MSETest(observation_0, name='random integers from 1:100')\n",
    "mse_test_0.judge(const_37)"
   ]
  },
  {
   "cell_type": "markdown",
   "metadata": {},
   "source": [
    "## Test data/matrix\n",
    "\n",
    "When tested againest certain model, each test instance equipped with a `judge` function with returns the correspounding score type (Ratio, Boolean, Float, ...)\n",
    "\n",
    "Multiple test instances can be initialized as such. `TestSuite` class also provides a wrapper-like functionality in multiple test instances.\n",
    "\n",
    "Similarly, `judge` can be called on `TestSuite` instances for multiple testing against a __single__ model, which returns a score matrix"
   ]
  },
  {
   "cell_type": "code",
   "execution_count": 8,
   "metadata": {},
   "outputs": [
    {
     "data": {
      "text/html": [
       "Executing test <i>random integers from 1:100</i> on model <i>Constant 37</i>... "
      ],
      "text/plain": [
       "<IPython.core.display.HTML object>"
      ]
     },
     "metadata": {},
     "output_type": "display_data"
    },
    {
     "data": {
      "text/html": [
       "Score is <a style=\"color: rgb(0,104,55)\">MSE = 8.854</a>\n"
      ],
      "text/plain": [
       "<IPython.core.display.HTML object>"
      ]
     },
     "metadata": {},
     "output_type": "display_data"
    },
    {
     "data": {
      "text/html": [
       "Executing test <i>lambda: 9, poisson</i> on model <i>Constant 37</i>... "
      ],
      "text/plain": [
       "<IPython.core.display.HTML object>"
      ]
     },
     "metadata": {},
     "output_type": "display_data"
    },
    {
     "data": {
      "text/html": [
       "Score is <a style=\"color: rgb(0,104,55)\">MSE = 7.895</a>\n"
      ],
      "text/plain": [
       "<IPython.core.display.HTML object>"
      ]
     },
     "metadata": {},
     "output_type": "display_data"
    },
    {
     "data": {
      "text/html": [
       "Executing test <i>lambda: 10, poisson</i> on model <i>Constant 37</i>... "
      ],
      "text/plain": [
       "<IPython.core.display.HTML object>"
      ]
     },
     "metadata": {},
     "output_type": "display_data"
    },
    {
     "data": {
      "text/html": [
       "Score is <a style=\"color: rgb(0,104,55)\">MSE = 7.370</a>\n"
      ],
      "text/plain": [
       "<IPython.core.display.HTML object>"
      ]
     },
     "metadata": {},
     "output_type": "display_data"
    },
    {
     "data": {
      "text/html": [
       "Executing test <i>lambda: 11, poisson</i> on model <i>Constant 37</i>... "
      ],
      "text/plain": [
       "<IPython.core.display.HTML object>"
      ]
     },
     "metadata": {},
     "output_type": "display_data"
    },
    {
     "data": {
      "text/html": [
       "Score is <a style=\"color: rgb(0,104,55)\">MSE = 6.829</a>\n"
      ],
      "text/plain": [
       "<IPython.core.display.HTML object>"
      ]
     },
     "metadata": {},
     "output_type": "display_data"
    },
    {
     "data": {
      "text/html": [
       "<html><body><div>\n",
       "<style scoped=\"\">\n",
       "    .dataframe tbody tr th:only-of-type {\n",
       "        vertical-align: middle;\n",
       "    }\n",
       "\n",
       "    .dataframe tbody tr th {\n",
       "        vertical-align: top;\n",
       "    }\n",
       "\n",
       "    .dataframe thead th {\n",
       "        text-align: right;\n",
       "    }\n",
       "</style>\n",
       "<table border=\"1\" class=\"dataframe\" id=\"-5009031202287884573\">\n",
       "<thead>\n",
       "<tr style=\"text-align: right;\">\n",
       "<th></th>\n",
       "<th title=\"Returns the MSE score for each model\">random integers from 1:100</th>\n",
       "<th title=\"Returns the MSE score for each model\">lambda: 9, poisson</th>\n",
       "<th title=\"Returns the MSE score for each model\">lambda: 10, poisson</th>\n",
       "<th title=\"Returns the MSE score for each model\">lambda: 11, poisson</th>\n",
       "</tr>\n",
       "</thead>\n",
       "<tbody>\n",
       "<tr>\n",
       "<th title=\"A model that always produces a constant number as output.\">Constant 37</th>\n",
       "<td style=\"background-color: rgb(0,104,55);\" title=\"A MSE score\">MSE = 8.854</td>\n",
       "<td style=\"background-color: rgb(0,104,55);\" title=\"A MSE score\">MSE = 7.895</td>\n",
       "<td style=\"background-color: rgb(0,104,55);\" title=\"A MSE score\">MSE = 7.370</td>\n",
       "<td style=\"background-color: rgb(0,104,55);\" title=\"A MSE score\">MSE = 6.829</td>\n",
       "</tr>\n",
       "</tbody>\n",
       "</table>\n",
       "</div></body></html>"
      ],
      "text/plain": [
       "            random integers from 1:100 lambda: 9, poisson lambda: 10, poisson  \\\n",
       "Constant 37                MSE = 8.854        MSE = 7.895         MSE = 7.370   \n",
       "\n",
       "            lambda: 11, poisson  \n",
       "Constant 37         MSE = 6.829  "
      ]
     },
     "execution_count": 8,
     "metadata": {},
     "output_type": "execute_result"
    }
   ],
   "source": [
    "mse_test_1 = MSETest(observation_1, name='lambda: 9, poisson')\n",
    "mse_test_2 = MSETest(observation_2, name='lambda: 10, poisson')\n",
    "mse_test_3 = MSETest(observation_3, name='lambda: 11, poisson')\n",
    "\n",
    "\n",
    "mse_test_suite = sciunit.TestSuite([mse_test_0, mse_test_1, mse_test_2, mse_test_3], name=\"MSE test suite\")\n",
    "mse_test_suite.judge(const_37)"
   ]
  },
  {
   "cell_type": "markdown",
   "metadata": {},
   "source": [
    "### A single test aginst different models\n",
    "Analogously, a __single__ test instance or a test suite can be tested across different model."
   ]
  },
  {
   "cell_type": "code",
   "execution_count": 9,
   "metadata": {},
   "outputs": [
    {
     "data": {
      "text/html": [
       "Executing test <i>random integers from 1:100</i> on model <i>Constant 37</i>... "
      ],
      "text/plain": [
       "<IPython.core.display.HTML object>"
      ]
     },
     "metadata": {},
     "output_type": "display_data"
    },
    {
     "data": {
      "text/html": [
       "Score is <a style=\"color: rgb(0,104,55)\">MSE = 8.854</a>\n"
      ],
      "text/plain": [
       "<IPython.core.display.HTML object>"
      ]
     },
     "metadata": {},
     "output_type": "display_data"
    },
    {
     "data": {
      "text/html": [
       "Executing test <i>lambda: 9, poisson</i> on model <i>Constant 37</i>... "
      ],
      "text/plain": [
       "<IPython.core.display.HTML object>"
      ]
     },
     "metadata": {},
     "output_type": "display_data"
    },
    {
     "data": {
      "text/html": [
       "Score is <a style=\"color: rgb(0,104,55)\">MSE = 7.895</a>\n"
      ],
      "text/plain": [
       "<IPython.core.display.HTML object>"
      ]
     },
     "metadata": {},
     "output_type": "display_data"
    },
    {
     "data": {
      "text/html": [
       "Executing test <i>lambda: 10, poisson</i> on model <i>Constant 37</i>... "
      ],
      "text/plain": [
       "<IPython.core.display.HTML object>"
      ]
     },
     "metadata": {},
     "output_type": "display_data"
    },
    {
     "data": {
      "text/html": [
       "Score is <a style=\"color: rgb(0,104,55)\">MSE = 7.370</a>\n"
      ],
      "text/plain": [
       "<IPython.core.display.HTML object>"
      ]
     },
     "metadata": {},
     "output_type": "display_data"
    },
    {
     "data": {
      "text/html": [
       "Executing test <i>lambda: 11, poisson</i> on model <i>Constant 37</i>... "
      ],
      "text/plain": [
       "<IPython.core.display.HTML object>"
      ]
     },
     "metadata": {},
     "output_type": "display_data"
    },
    {
     "data": {
      "text/html": [
       "Score is <a style=\"color: rgb(0,104,55)\">MSE = 6.829</a>\n"
      ],
      "text/plain": [
       "<IPython.core.display.HTML object>"
      ]
     },
     "metadata": {},
     "output_type": "display_data"
    },
    {
     "data": {
      "text/html": [
       "Executing test <i>random integers from 1:100</i> on model <i>Constant 9</i>... "
      ],
      "text/plain": [
       "<IPython.core.display.HTML object>"
      ]
     },
     "metadata": {},
     "output_type": "display_data"
    },
    {
     "data": {
      "text/html": [
       "Score is <a style=\"color: rgb(0,104,55)\">MSE = 22.059</a>\n"
      ],
      "text/plain": [
       "<IPython.core.display.HTML object>"
      ]
     },
     "metadata": {},
     "output_type": "display_data"
    },
    {
     "data": {
      "text/html": [
       "Executing test <i>lambda: 9, poisson</i> on model <i>Constant 9</i>... "
      ],
      "text/plain": [
       "<IPython.core.display.HTML object>"
      ]
     },
     "metadata": {},
     "output_type": "display_data"
    },
    {
     "data": {
      "text/html": [
       "Score is <a style=\"color: rgb(245,114,69)\">MSE = 0.089</a>\n"
      ],
      "text/plain": [
       "<IPython.core.display.HTML object>"
      ]
     },
     "metadata": {},
     "output_type": "display_data"
    },
    {
     "data": {
      "text/html": [
       "Executing test <i>lambda: 10, poisson</i> on model <i>Constant 9</i>... "
      ],
      "text/plain": [
       "<IPython.core.display.HTML object>"
      ]
     },
     "metadata": {},
     "output_type": "display_data"
    },
    {
     "data": {
      "text/html": [
       "Score is <a style=\"color: rgb(246,122,73)\">MSE = 0.101</a>\n"
      ],
      "text/plain": [
       "<IPython.core.display.HTML object>"
      ]
     },
     "metadata": {},
     "output_type": "display_data"
    },
    {
     "data": {
      "text/html": [
       "Executing test <i>lambda: 11, poisson</i> on model <i>Constant 9</i>... "
      ],
      "text/plain": [
       "<IPython.core.display.HTML object>"
      ]
     },
     "metadata": {},
     "output_type": "display_data"
    },
    {
     "data": {
      "text/html": [
       "Score is <a style=\"color: rgb(249,142,82)\">MSE = 0.148</a>\n"
      ],
      "text/plain": [
       "<IPython.core.display.HTML object>"
      ]
     },
     "metadata": {},
     "output_type": "display_data"
    },
    {
     "data": {
      "text/html": [
       "Executing test <i>random integers from 1:100</i> on model <i>Constant 10</i>... "
      ],
      "text/plain": [
       "<IPython.core.display.HTML object>"
      ]
     },
     "metadata": {},
     "output_type": "display_data"
    },
    {
     "data": {
      "text/html": [
       "Score is <a style=\"color: rgb(0,104,55)\">MSE = 21.317</a>\n"
      ],
      "text/plain": [
       "<IPython.core.display.HTML object>"
      ]
     },
     "metadata": {},
     "output_type": "display_data"
    },
    {
     "data": {
      "text/html": [
       "Executing test <i>lambda: 9, poisson</i> on model <i>Constant 10</i>... "
      ],
      "text/plain": [
       "<IPython.core.display.HTML object>"
      ]
     },
     "metadata": {},
     "output_type": "display_data"
    },
    {
     "data": {
      "text/html": [
       "Score is <a style=\"color: rgb(246,119,71)\">MSE = 0.097</a>\n"
      ],
      "text/plain": [
       "<IPython.core.display.HTML object>"
      ]
     },
     "metadata": {},
     "output_type": "display_data"
    },
    {
     "data": {
      "text/html": [
       "Executing test <i>lambda: 10, poisson</i> on model <i>Constant 10</i>... "
      ],
      "text/plain": [
       "<IPython.core.display.HTML object>"
      ]
     },
     "metadata": {},
     "output_type": "display_data"
    },
    {
     "data": {
      "text/html": [
       "Score is <a style=\"color: rgb(246,117,70)\">MSE = 0.091</a>\n"
      ],
      "text/plain": [
       "<IPython.core.display.HTML object>"
      ]
     },
     "metadata": {},
     "output_type": "display_data"
    },
    {
     "data": {
      "text/html": [
       "Executing test <i>lambda: 11, poisson</i> on model <i>Constant 10</i>... "
      ],
      "text/plain": [
       "<IPython.core.display.HTML object>"
      ]
     },
     "metadata": {},
     "output_type": "display_data"
    },
    {
     "data": {
      "text/html": [
       "Score is <a style=\"color: rgb(247,127,75)\">MSE = 0.116</a>\n"
      ],
      "text/plain": [
       "<IPython.core.display.HTML object>"
      ]
     },
     "metadata": {},
     "output_type": "display_data"
    },
    {
     "data": {
      "text/html": [
       "<html><body><div>\n",
       "<style scoped=\"\">\n",
       "    .dataframe tbody tr th:only-of-type {\n",
       "        vertical-align: middle;\n",
       "    }\n",
       "\n",
       "    .dataframe tbody tr th {\n",
       "        vertical-align: top;\n",
       "    }\n",
       "\n",
       "    .dataframe thead th {\n",
       "        text-align: right;\n",
       "    }\n",
       "</style>\n",
       "<table border=\"1\" class=\"dataframe\" id=\"6092660196942209509\">\n",
       "<thead>\n",
       "<tr style=\"text-align: right;\">\n",
       "<th></th>\n",
       "<th title=\"Returns the MSE score for each model\">random integers from 1:100</th>\n",
       "<th title=\"Returns the MSE score for each model\">lambda: 9, poisson</th>\n",
       "<th title=\"Returns the MSE score for each model\">lambda: 10, poisson</th>\n",
       "<th title=\"Returns the MSE score for each model\">lambda: 11, poisson</th>\n",
       "</tr>\n",
       "</thead>\n",
       "<tbody>\n",
       "<tr>\n",
       "<th title=\"A model that always produces a constant number as output.\">Constant 37</th>\n",
       "<td style=\"background-color: rgb(0,104,55);\" title=\"A MSE score\">MSE = 8.854</td>\n",
       "<td style=\"background-color: rgb(0,104,55);\" title=\"A MSE score\">MSE = 7.895</td>\n",
       "<td style=\"background-color: rgb(0,104,55);\" title=\"A MSE score\">MSE = 7.370</td>\n",
       "<td style=\"background-color: rgb(0,104,55);\" title=\"A MSE score\">MSE = 6.829</td>\n",
       "</tr>\n",
       "<tr>\n",
       "<th title=\"A model that always produces a constant number as output.\">Constant 9</th>\n",
       "<td style=\"background-color: rgb(0,104,55);\" title=\"A MSE score\">MSE = 22.059</td>\n",
       "<td style=\"background-color: rgb(245,114,69);\" title=\"A MSE score\">MSE = 0.089</td>\n",
       "<td style=\"background-color: rgb(246,122,73);\" title=\"A MSE score\">MSE = 0.101</td>\n",
       "<td style=\"background-color: rgb(249,142,82);\" title=\"A MSE score\">MSE = 0.148</td>\n",
       "</tr>\n",
       "<tr>\n",
       "<th title=\"A model that always produces a constant number as output.\">Constant 10</th>\n",
       "<td style=\"background-color: rgb(0,104,55);\" title=\"A MSE score\">MSE = 21.317</td>\n",
       "<td style=\"background-color: rgb(246,119,71);\" title=\"A MSE score\">MSE = 0.097</td>\n",
       "<td style=\"background-color: rgb(246,117,70);\" title=\"A MSE score\">MSE = 0.091</td>\n",
       "<td style=\"background-color: rgb(247,127,75);\" title=\"A MSE score\">MSE = 0.116</td>\n",
       "</tr>\n",
       "</tbody>\n",
       "</table>\n",
       "</div></body></html>"
      ],
      "text/plain": [
       "            random integers from 1:100 lambda: 9, poisson lambda: 10, poisson  \\\n",
       "Constant 37                MSE = 8.854        MSE = 7.895         MSE = 7.370   \n",
       "Constant 9                MSE = 22.059        MSE = 0.089         MSE = 0.101   \n",
       "Constant 10               MSE = 21.317        MSE = 0.097         MSE = 0.091   \n",
       "\n",
       "            lambda: 11, poisson  \n",
       "Constant 37         MSE = 6.829  \n",
       "Constant 9          MSE = 0.148  \n",
       "Constant 10         MSE = 0.116  "
      ]
     },
     "execution_count": 9,
     "metadata": {},
     "output_type": "execute_result"
    }
   ],
   "source": [
    "const_9 = ConstModel(9, name=\"Constant 9\")\n",
    "const_10 = ConstModel(10, name=\"Constant 10\")\n",
    "\n",
    "mse_test_suite.judge([const_37, const_9, const_10])"
   ]
  },
  {
   "cell_type": "markdown",
   "metadata": {},
   "source": [
    "## Test for negative log-likelihood\n",
    "\n",
    "A model of `ProducesLoglikelihood` is required"
   ]
  },
  {
   "cell_type": "code",
   "execution_count": 10,
   "metadata": {},
   "outputs": [],
   "source": [
    "class NLLTest(sciunit.Test):\n",
    "\n",
    "    required_capabilities = (ProducesLoglikelihood, )\n",
    "    score_type = NLLScore\n",
    " \n",
    "    def generate_prediction(self, model):\n",
    "        return model.produce_loglikelihood()\n",
    "    \n",
    "    def compute_score(self, observation, prediction):\n",
    "        score = NLLScore.compute(observation, prediction)\n",
    "        return score"
   ]
  },
  {
   "cell_type": "code",
   "execution_count": 11,
   "metadata": {},
   "outputs": [],
   "source": [
    "from src.ldmunit.models.poisson import PoissonAltModel\n",
    "pos_10_alt = PoissonAltModel(10, name=\"Poisson 10 (alt)\")"
   ]
  },
  {
   "cell_type": "code",
   "execution_count": 12,
   "metadata": {},
   "outputs": [],
   "source": [
    "log_poi_test_0 = NLLTest(observation_0, name='random integers from 1:100')\n",
    "log_poi_test_1 = NLLTest(observation_1, name='lambda: 9, poisson')\n",
    "log_poi_test_2 = NLLTest(observation_2, name='lambda: 10, poisson')\n",
    "log_poi_test_3 = NLLTest(observation_3, name='lambda: 11, poisson')"
   ]
  },
  {
   "cell_type": "code",
   "execution_count": 13,
   "metadata": {},
   "outputs": [
    {
     "data": {
      "text/plain": [
       "A negative log likelihood = -1307.190"
      ]
     },
     "execution_count": 13,
     "metadata": {},
     "output_type": "execute_result"
    }
   ],
   "source": [
    "log_poi_test_2.judge(pos_10_alt)"
   ]
  },
  {
   "cell_type": "code",
   "execution_count": 14,
   "metadata": {},
   "outputs": [
    {
     "data": {
      "text/html": [
       "Executing test <i>random integers from 1:100</i> on model <i>Poisson 10 (alt)</i>... "
      ],
      "text/plain": [
       "<IPython.core.display.HTML object>"
      ]
     },
     "metadata": {},
     "output_type": "display_data"
    },
    {
     "data": {
      "text/html": [
       "Score is <a style=\"color: rgb(165,0,38)\">A negative log likelihood = -9725.441</a>\n"
      ],
      "text/plain": [
       "<IPython.core.display.HTML object>"
      ]
     },
     "metadata": {},
     "output_type": "display_data"
    },
    {
     "data": {
      "text/html": [
       "Executing test <i>lambda: 9, poisson</i> on model <i>Poisson 10 (alt)</i>... "
      ],
      "text/plain": [
       "<IPython.core.display.HTML object>"
      ]
     },
     "metadata": {},
     "output_type": "display_data"
    },
    {
     "data": {
      "text/html": [
       "Score is <a style=\"color: rgb(165,0,38)\">A negative log likelihood = -1086.142</a>\n"
      ],
      "text/plain": [
       "<IPython.core.display.HTML object>"
      ]
     },
     "metadata": {},
     "output_type": "display_data"
    },
    {
     "data": {
      "text/html": [
       "Executing test <i>lambda: 10, poisson</i> on model <i>Poisson 10 (alt)</i>... "
      ],
      "text/plain": [
       "<IPython.core.display.HTML object>"
      ]
     },
     "metadata": {},
     "output_type": "display_data"
    },
    {
     "data": {
      "text/html": [
       "Score is <a style=\"color: rgb(165,0,38)\">A negative log likelihood = -1307.190</a>\n"
      ],
      "text/plain": [
       "<IPython.core.display.HTML object>"
      ]
     },
     "metadata": {},
     "output_type": "display_data"
    },
    {
     "data": {
      "text/html": [
       "Executing test <i>lambda: 11, poisson</i> on model <i>Poisson 10 (alt)</i>... "
      ],
      "text/plain": [
       "<IPython.core.display.HTML object>"
      ]
     },
     "metadata": {},
     "output_type": "display_data"
    },
    {
     "data": {
      "text/html": [
       "Score is <a style=\"color: rgb(165,0,38)\">A negative log likelihood = -1548.962</a>\n"
      ],
      "text/plain": [
       "<IPython.core.display.HTML object>"
      ]
     },
     "metadata": {},
     "output_type": "display_data"
    },
    {
     "data": {
      "text/html": [
       "<html><body><div>\n",
       "<style scoped=\"\">\n",
       "    .dataframe tbody tr th:only-of-type {\n",
       "        vertical-align: middle;\n",
       "    }\n",
       "\n",
       "    .dataframe tbody tr th {\n",
       "        vertical-align: top;\n",
       "    }\n",
       "\n",
       "    .dataframe thead th {\n",
       "        text-align: right;\n",
       "    }\n",
       "</style>\n",
       "<table border=\"1\" class=\"dataframe\" id=\"-8363356672120748606\">\n",
       "<thead>\n",
       "<tr style=\"text-align: right;\">\n",
       "<th></th>\n",
       "<th title>random integers from 1:100</th>\n",
       "<th title>lambda: 9, poisson</th>\n",
       "<th title>lambda: 10, poisson</th>\n",
       "<th title>lambda: 11, poisson</th>\n",
       "</tr>\n",
       "</thead>\n",
       "<tbody>\n",
       "<tr>\n",
       "<th title=\"A alternative way to represent Poisson model.\">Poisson 10 (alt)</th>\n",
       "<td style=\"background-color: rgb(165,0,38);\" title=\"A negative log-likelihood score.\n",
       "\">A negative log likelihood = -9725.441</td>\n",
       "<td style=\"background-color: rgb(165,0,38);\" title=\"A negative log-likelihood score.\n",
       "\">A negative log likelihood = -1086.142</td>\n",
       "<td style=\"background-color: rgb(165,0,38);\" title=\"A negative log-likelihood score.\n",
       "\">A negative log likelihood = -1307.190</td>\n",
       "<td style=\"background-color: rgb(165,0,38);\" title=\"A negative log-likelihood score.\n",
       "\">A negative log likelihood = -1548.962</td>\n",
       "</tr>\n",
       "</tbody>\n",
       "</table>\n",
       "</div></body></html>"
      ],
      "text/plain": [
       "                             random integers from 1:100  \\\n",
       "Poisson 10 (alt)  A negative log likelihood = -9725.441   \n",
       "\n",
       "                                     lambda: 9, poisson  \\\n",
       "Poisson 10 (alt)  A negative log likelihood = -1086.142   \n",
       "\n",
       "                                    lambda: 10, poisson  \\\n",
       "Poisson 10 (alt)  A negative log likelihood = -1307.190   \n",
       "\n",
       "                                    lambda: 11, poisson  \n",
       "Poisson 10 (alt)  A negative log likelihood = -1548.962  "
      ]
     },
     "execution_count": 14,
     "metadata": {},
     "output_type": "execute_result"
    }
   ],
   "source": [
    "log_test_suite = sciunit.TestSuite([log_poi_test_0, log_poi_test_1, log_poi_test_2, log_poi_test_3])\n",
    "log_test_suite.judge(pos_10_alt)"
   ]
  }
 ],
 "metadata": {
  "kernelspec": {
   "display_name": "Python [conda env:testing-ldmm]",
   "language": "python",
   "name": "conda-env-testing-ldmm-py"
  },
  "language_info": {
   "codemirror_mode": {
    "name": "ipython",
    "version": 3
   },
   "file_extension": ".py",
   "mimetype": "text/x-python",
   "name": "python",
   "nbconvert_exporter": "python",
   "pygments_lexer": "ipython3",
   "version": "3.6.8"
  }
 },
 "nbformat": 4,
 "nbformat_minor": 2
}
