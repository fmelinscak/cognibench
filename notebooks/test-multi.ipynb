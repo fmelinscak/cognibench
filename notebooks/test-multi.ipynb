{
 "cells": [
  {
   "cell_type": "code",
   "execution_count": 1,
   "metadata": {},
   "outputs": [],
   "source": [
    "%load_ext autoreload\n",
    "%autoreload 2"
   ]
  },
  {
   "cell_type": "code",
   "execution_count": 2,
   "metadata": {},
   "outputs": [],
   "source": [
    "import sys\n",
    "sys.path.append(\"../\") # go to parent dir\n",
    "import gym\n",
    "from gym import spaces\n",
    "import numpy as np\n",
    "import sciunit\n",
    "import scipy"
   ]
  },
  {
   "cell_type": "markdown",
   "metadata": {},
   "source": [
    "## Env for decision making"
   ]
  },
  {
   "cell_type": "code",
   "execution_count": 3,
   "metadata": {},
   "outputs": [],
   "source": [
    "from src.ldmunit.bandit import BanditEnv, BanditAssociateEnv\n",
    "from src.ldmunit.models import decision_making, associative_learning\n",
    "from src.ldmunit.models.utils import loglike, train_with_obs, simulate"
   ]
  },
  {
   "cell_type": "markdown",
   "metadata": {},
   "source": [
    "## Decision Marking"
   ]
  },
  {
   "cell_type": "code",
   "execution_count": 4,
   "metadata": {},
   "outputs": [],
   "source": [
    "n_action = 2\n",
    "n_obs = 3\n",
    "n_trials = 100\n",
    "env = BanditEnv([0.3, 0.7, 0.1])"
   ]
  },
  {
   "cell_type": "code",
   "execution_count": 5,
   "metadata": {},
   "outputs": [
    {
     "name": "stdout",
     "output_type": "stream",
     "text": [
      "The log-likelihood:    -66.676\n",
      "[0.8 0. ]\n"
     ]
    }
   ],
   "source": [
    "# print(\"testing for random responding\")\n",
    "paras = {'bias': 0.8, 'action_bias': 0}\n",
    "\n",
    "model = decision_making.RandomRespondModel(n_action, n_obs, paras)\n",
    "stimuli, rewards, actions = simulate(env, model, n_trials)\n",
    "a = loglike(model, stimuli, rewards, actions)\n",
    "print(\"The log-likelihood: {:10.5}\".format(a))\n",
    "\n",
    "opt = train_with_obs(model, stimuli, rewards, actions)\n",
    "if opt.success:\n",
    "    print(opt.x)\n",
    "else:\n",
    "    print(opt)"
   ]
  },
  {
   "cell_type": "code",
   "execution_count": 6,
   "metadata": {},
   "outputs": [
    {
     "name": "stdout",
     "output_type": "stream",
     "text": [
      "testing for noisy-win-stay-lose-shift\n",
      "The log-likelihood:    -55.135\n",
      "[0.5]\n"
     ]
    }
   ],
   "source": [
    "print(\"testing for noisy-win-stay-lose-shift\")\n",
    "paras = {'epsilon': 0.5}\n",
    "\n",
    "model = decision_making.NWSLSModel(n_action, n_obs, paras)\n",
    "stimuli, rewards, actions = simulate(env, model, n_trials)\n",
    "a = loglike(model, stimuli, rewards, actions)\n",
    "print(\"The log-likelihood: {:10.5}\".format(a))\n",
    "\n",
    "opt = train_with_obs(model, stimuli, rewards, actions)\n",
    "if opt.success:\n",
    "    print(opt.x)\n",
    "else:\n",
    "    print(opt)"
   ]
  },
  {
   "cell_type": "code",
   "execution_count": 7,
   "metadata": {},
   "outputs": [
    {
     "name": "stdout",
     "output_type": "stream",
     "text": [
      "testing for RWCK\n",
      "The log-likelihood:    -67.689\n",
      "[0.123 0.5   0.5   0.5   0.5  ]\n"
     ]
    }
   ],
   "source": [
    "print(\"testing for RWCK\")\n",
    "paras = {'w0': 0.1, 'alpha': 0.5, 'alpha_c': 0.5, 'beta': 0.5, 'beta_c': 0.5}\n",
    "\n",
    "model = decision_making.RWCKModel(n_action, n_obs, paras=paras)\n",
    "stimuli, rewards, actions = simulate(env, model, 100)\n",
    "fixed = {'w0': 0.123}\n",
    "a = loglike(model, stimuli, rewards, actions)\n",
    "print(\"The log-likelihood: {:10.5}\".format(a))\n",
    "\n",
    "opt = train_with_obs(model, stimuli, rewards, actions, fixed)\n",
    "if opt.success:\n",
    "    print(opt.x)\n",
    "else:\n",
    "    print(opt)"
   ]
  },
  {
   "cell_type": "code",
   "execution_count": 8,
   "metadata": {},
   "outputs": [
    {
     "name": "stdout",
     "output_type": "stream",
     "text": [
      "(<class 'src.ldmunit.models.decision_making.base.DADO'>,)\n",
      "0\n"
     ]
    }
   ],
   "source": [
    "from src.ldmunit.models.utils import MultiMeta, multi_from_single\n",
    "\n",
    "param_list = [{'epsilon': 0.5}] * 10\n",
    "MultiNWSLS = multi_from_single(decision_making.NWSLSModel, 'MultiNWSLS')\n",
    "models = MultiNWSLS(param_list, n_action=2, n_obs=5)\n",
    "\n",
    "print(MultiNWSLS.__bases__)\n",
    "print(models.act(2,2))"
   ]
  },
  {
   "cell_type": "markdown",
   "metadata": {},
   "source": [
    "\n",
    "## Associate learning"
   ]
  },
  {
   "cell_type": "code",
   "execution_count": 9,
   "metadata": {},
   "outputs": [
    {
     "name": "stdout",
     "output_type": "stream",
     "text": [
      "testing for RwNormModel\n",
      "The log-likelihood:    -78.051\n",
      "[0.123 0.5   0.5   0.5   0.5  ]\n"
     ]
    }
   ],
   "source": [
    "print(\"testing for RwNormModel\")\n",
    "paras = {'w0': 0.123, 'alpha': 0.5, 'sigma': 0.5, 'b0': 0.5, 'b1': 0.5}\n",
    "\n",
    "model = associative_learning.RwNormModel(n_obs, paras)\n",
    "env = BanditAssociateEnv([0.3, 0.7, 0.8])\n",
    "stimuli, rewards, actions = simulate(env, model, n_trials)\n",
    "a = loglike(model, stimuli, rewards, actions)\n",
    "print(\"The log-likelihood: {:10.5}\".format(a))\n",
    "if opt.success:\n",
    "    print(opt.x)\n",
    "else:\n",
    "    print(opt)"
   ]
  },
  {
   "cell_type": "code",
   "execution_count": 10,
   "metadata": {},
   "outputs": [
    {
     "name": "stdout",
     "output_type": "stream",
     "text": [
      "testing for KrwNormModel\n",
      "The log-likelihood:    -73.026\n",
      "[0.1  0.5  0.5  0.5  0.5  0.23 0.32 0.34]\n"
     ]
    }
   ],
   "source": [
    "print(\"testing for KrwNormModel\")\n",
    "paras = {'w0': 0.1, 'alpha': 0.5, 'sigma': 0.5, 'b0': 0.5, 'b1': 0.5, 'logSigmaWInit': 0.23, 'logTauSq': 0.32,\n",
    "        'logSigmaRSq': 0.34}\n",
    "\n",
    "model = associative_learning.KrwNormModel(n_obs, paras)\n",
    "stimuli, rewards, actions = simulate(env, model, n_trials)\n",
    "a = loglike(model, stimuli, rewards, actions)\n",
    "print(\"The log-likelihood: {:10.5}\".format(a))\n",
    "\n",
    "opt = train_with_obs(model, stimuli, rewards, actions)\n",
    "if opt.success:\n",
    "    print(opt.x)\n",
    "else:\n",
    "    print(opt)"
   ]
  },
  {
   "cell_type": "code",
   "execution_count": 11,
   "metadata": {},
   "outputs": [
    {
     "name": "stdout",
     "output_type": "stream",
     "text": [
      "testing for lsspd\n",
      "The log-likelihood:    -73.684\n",
      "[0.1  0.5  0.5  0.5  0.5  0.23 0.32 0.34]\n"
     ]
    }
   ],
   "source": [
    "print(\"testing for lsspd\")\n",
    "paras = {'w0': 0.1, 'alpha': 0.5, 'sigma': 0.5, 'b0': 0.5, 'b1': 0.5, 'eta': 0.23, 'kappa': 0.32,\n",
    "        'mix_coef': 0.34}\n",
    "\n",
    "model = associative_learning.LSSPDModel(n_obs, paras)\n",
    "stimuli, rewards, actions = simulate(env, model, n_trials)\n",
    "a = loglike(model, stimuli, rewards, actions)\n",
    "print(\"The log-likelihood: {:10.5}\".format(a))\n",
    "\n",
    "opt = train_with_obs(model, stimuli, rewards, actions)\n",
    "if opt.success:\n",
    "    print(opt.x)\n",
    "else:\n",
    "    print(opt)"
   ]
  },
  {
   "cell_type": "code",
   "execution_count": 12,
   "metadata": {},
   "outputs": [
    {
     "name": "stdout",
     "output_type": "stream",
     "text": [
      "testing for beta binomial\n",
      "The log-likelihood:    -166.05\n",
      "[0.5  0.56 0.34 0.99]\n"
     ]
    }
   ],
   "source": [
    "print(\"testing for beta binomial\")\n",
    "paras = {'b0': 0.5, 'b1': 0.56, 'mix_coef': 0.34, 'sigma': 0.99}\n",
    "model = associative_learning.BetaBinomialModel(3, paras)\n",
    "stimuli, rewards, actions = simulate(env, model, n_trials, [[0.3, 0.7, 0.1], [0.99, 0.01, 0.5]])\n",
    "a = loglike(model, stimuli, rewards, actions)\n",
    "print(\"The log-likelihood: {:10.5}\".format(a))\n",
    "\n",
    "opt = train_with_obs(model, stimuli, rewards, actions)\n",
    "if opt.success:\n",
    "    print(opt.x)\n",
    "else:\n",
    "    print(opt)"
   ]
  },
  {
   "cell_type": "code",
   "execution_count": 13,
   "metadata": {},
   "outputs": [
    {
     "name": "stdout",
     "output_type": "stream",
     "text": [
      "testing for beta binomial\n",
      "The log-likelihood:    -137.64\n",
      "[0.5  0.56 0.34 0.99]\n"
     ]
    }
   ],
   "source": [
    "print(\"testing for beta binomial\")\n",
    "paras = {'b0': 0.5, 'b1': 0.56, 'mix_coef': 0.34, 'sigma': 0.99}\n",
    "model = associative_learning.BetaBinomialModel(3, paras)\n",
    "stimuli, rewards, actions = simulate([env, env], model, n_trials)\n",
    "a = loglike(model, stimuli, rewards, actions)\n",
    "print(\"The log-likelihood: {:10.5}\".format(a))\n",
    "\n",
    "opt = train_with_obs(model, stimuli, rewards, actions)\n",
    "if opt.success:\n",
    "    print(opt.x)\n",
    "else:\n",
    "    print(opt)"
   ]
  }
 ],
 "metadata": {
  "kernelspec": {
   "display_name": "Python [conda env:testing-ldmm]",
   "language": "python",
   "name": "conda-env-testing-ldmm-py"
  },
  "language_info": {
   "codemirror_mode": {
    "name": "ipython",
    "version": 3
   },
   "file_extension": ".py",
   "mimetype": "text/x-python",
   "name": "python",
   "nbconvert_exporter": "python",
   "pygments_lexer": "ipython3",
   "version": "3.6.8"
  }
 },
 "nbformat": 4,
 "nbformat_minor": 2
}
