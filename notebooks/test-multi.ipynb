{
 "cells": [
  {
   "cell_type": "code",
   "execution_count": 1,
   "metadata": {},
   "outputs": [],
   "source": [
    "%load_ext autoreload\n",
    "%autoreload 2"
   ]
  },
  {
   "cell_type": "code",
   "execution_count": 2,
   "metadata": {},
   "outputs": [],
   "source": [
    "import sys\n",
    "sys.path.append(\"../\") # go to parent dir\n",
    "import gym\n",
    "from gym import spaces\n",
    "import numpy as np\n",
    "import sciunit\n",
    "import scipy\n",
    "import pandas as pd"
   ]
  },
  {
   "cell_type": "code",
   "execution_count": 20,
   "metadata": {},
   "outputs": [
    {
     "data": {
      "text/plain": [
       "'/anaconda3/envs/testing-ldmm/lib/python3.6/site-packages/sciunit/__init__.py'"
      ]
     },
     "execution_count": 20,
     "metadata": {},
     "output_type": "execute_result"
    }
   ],
   "source": [
    "sciunit.__file__"
   ]
  },
  {
   "cell_type": "markdown",
   "metadata": {},
   "source": [
    "## Env for decision making"
   ]
  },
  {
   "cell_type": "code",
   "execution_count": 3,
   "metadata": {},
   "outputs": [],
   "source": [
    "from src.ldmunit.env import BanditEnv, BanditAssociateEnv\n",
    "from src.ldmunit.models import decision_making, associative_learning\n",
    "from src.ldmunit.models.utils import loglike, train_with_obs, simulate, multi_from_single\n",
    "from src.ldmunit.tests import NLLTest, AICTest, BICTest"
   ]
  },
  {
   "cell_type": "code",
   "execution_count": 4,
   "metadata": {},
   "outputs": [],
   "source": [
    "MultiRWCKModel = multi_from_single(decision_making.RWCKModel)\n",
    "MultiNWSLSModel = multi_from_single(decision_making.NWSLSModel)\n",
    "MultiRandomRespondModel = multi_from_single(decision_making.RandomRespondModel)\n",
    "\n",
    "MultiRwNormModel = multi_from_single(associative_learning.RwNormModel)\n",
    "MultiKrwNormModel = multi_from_single(associative_learning.KrwNormModel)\n",
    "MultiBetaBinomialModel = multi_from_single(associative_learning.BetaBinomialModel)\n",
    "MultiLSSPDModel = multi_from_single(associative_learning.LSSPDModel)\n",
    "MultiRandomRespondALModel = multi_from_single(associative_learning.RandomRespondModel)"
   ]
  },
  {
   "cell_type": "markdown",
   "metadata": {},
   "source": [
    "## Decision Marking"
   ]
  },
  {
   "cell_type": "code",
   "execution_count": 5,
   "metadata": {},
   "outputs": [],
   "source": [
    "def from_np_array(array_string):\n",
    "    import ast\n",
    "\n",
    "    array_string = ','.join(array_string.replace('[ ', '[').split())\n",
    "    return np.array(ast.literal_eval(array_string))\n",
    "\n",
    "def get_observation_from_idx(df, idx=None, np_array=False):\n",
    "    if np_array and isinstance(df, str):\n",
    "        df = pd.read_csv(df, converters={'stimuli': from_np_array})\n",
    "    elif not np_array and isinstance(df, str):\n",
    "        df = pd.read_csv(df)\n",
    "    assert idx in df['sub'].values, \"subject index not in dataframe\"\n",
    "    res = df.loc[df['sub'] == idx]\n",
    "    res = res.loc[:,['rewards','actions','stimuli']]\n",
    "    return res.to_dict(orient='list')\n",
    "\n",
    "def get_observation(df, n_sub, np_array=False):\n",
    "    res = {'rewards': [], 'actions': [], 'stimuli': []}\n",
    "    for i in range(n_sub):\n",
    "        df_dict = get_observation_from_idx(df, i, np_array=np_array)\n",
    "        for k, v in df_dict.items():\n",
    "            res[k].append(v)\n",
    "    \n",
    "    return res\n",
    "\n",
    "def read_prior_csv(filename):\n",
    "    import csv\n",
    "    \n",
    "    with open(filename, mode='rt') as f:\n",
    "        reader = csv.reader(f, delimiter=',', quotechar='\"', quoting=csv.QUOTE_MINIMAL)\n",
    "        line_count = 0\n",
    "        paras_keys = []\n",
    "        paras_list = []\n",
    "        for row in reader:\n",
    "            if line_count == 0:\n",
    "                paras_keys = row\n",
    "                line_count += 1\n",
    "            else:\n",
    "                row = list(map(float, row)) # convert to float\n",
    "                paras_list.append(dict(zip(paras_keys, row)))\n",
    "                line_count += 1    \n",
    "    f.close()\n",
    "    \n",
    "    return paras_list"
   ]
  },
  {
   "cell_type": "code",
   "execution_count": 7,
   "metadata": {},
   "outputs": [],
   "source": [
    "ck = get_observation('../data/multi-ck.csv', 3)\n",
    "nll_ck = NLLTest(name=\"CK sim\", observation=ck)\n",
    "aic_ck = AICTest(name=\"CK sim\", observation=ck)\n",
    "bic_ck = BICTest(name=\"CK sim\", observation=ck)\n",
    "\n",
    "rw = get_observation('../data/multi-rw.csv', 3)\n",
    "nll_rw = NLLTest(name=\"RW sim\", observation=rw)\n",
    "aic_rw = AICTest(name=\"RW sim\", observation=rw)\n",
    "bic_rw = BICTest(name=\"RW sim\", observation=rw)\n",
    "\n",
    "rwck = get_observation('../data/multi-rwck.csv', 3)\n",
    "nll_rwck = NLLTest(name='RWCK sim', observation=rwck)\n",
    "aic_rwck = AICTest(name='RWCK sim', observation=rwck)\n",
    "bic_rwck = BICTest(name='RWCK sim', observation=rwck)\n",
    "\n",
    "rr = get_observation('../data/multi-random-responding.csv', 3)\n",
    "nll_rr = NLLTest(name='RR sim', observation=rr)\n",
    "aic_rr = AICTest(name='RR sim', observation=rr)\n",
    "bic_rr = BICTest(name='RR sim', observation=rr)\n",
    "\n",
    "nwsls = get_observation('../data/multi-nwsls.csv', 3)\n",
    "nll_nwsls = NLLTest(name='NWSLS sim', observation=nwsls)\n",
    "aic_nwsls = AICTest(name='NWSLS sim', observation=nwsls)\n",
    "bic_nwsls = BICTest(name='NWSLS sim', observation=nwsls)"
   ]
  },
  {
   "cell_type": "code",
   "execution_count": 8,
   "metadata": {},
   "outputs": [],
   "source": [
    "nll_suite = sciunit.TestSuite([nll_ck, nll_rw, nll_rwck, nll_nwsls], name=\"NLL suite\")\n",
    "aic_suite = sciunit.TestSuite([aic_ck, aic_rw, aic_rwck, aic_nwsls], name=\"AIC suite\")\n",
    "bic_suite = sciunit.TestSuite([bic_ck, bic_rw, bic_rwck, bic_nwsls], name=\"BIC suite\")"
   ]
  },
  {
   "cell_type": "code",
   "execution_count": 9,
   "metadata": {},
   "outputs": [],
   "source": [
    "n_action, n_obs = 3, 3"
   ]
  },
  {
   "cell_type": "code",
   "execution_count": 10,
   "metadata": {},
   "outputs": [],
   "source": [
    "param_list = read_prior_csv('../data/multi-ck_prior.csv')\n",
    "multi_ck = MultiRWCKModel(param_list, n_action=n_action, n_obs=n_obs)\n",
    "multi_ck.name = \"ck\"\n",
    "\n",
    "param_list = read_prior_csv('../data/multi-rw_prior.csv')\n",
    "multi_rw = MultiRWCKModel(param_list, n_action=n_action, n_obs=n_obs)\n",
    "multi_rw.name = \"rw\"\n",
    "\n",
    "param_list = read_prior_csv('../data/multi-rwck_prior.csv')\n",
    "multi_rwck = MultiRWCKModel(param_list, n_action=n_action, n_obs=n_obs)\n",
    "multi_rwck.name = \"rwck\"\n",
    "\n",
    "param_list = read_prior_csv('../data/multi-random-responding_prior.csv')\n",
    "multi_rr = MultiRandomRespondModel(param_list, n_action=n_action, n_obs=n_obs)\n",
    "multi_rr.name = \"rr\"\n",
    "\n",
    "param_list = read_prior_csv('../data/multi-nwsls_prior.csv')\n",
    "multi_nwsls = MultiNWSLSModel(param_list, n_action=n_action, n_obs=n_obs)\n",
    "multi_nwsls.name = 'nwsls'"
   ]
  },
  {
   "cell_type": "code",
   "execution_count": 11,
   "metadata": {},
   "outputs": [
    {
     "data": {
      "text/html": [
       "Executing test <i>CK sim</i> on model <i>ck</i>... "
      ],
      "text/plain": [
       "<IPython.core.display.HTML object>"
      ]
     },
     "metadata": {},
     "output_type": "display_data"
    },
    {
     "data": {
      "text/html": [
       "Score is 333\n"
      ],
      "text/plain": [
       "<IPython.core.display.HTML object>"
      ]
     },
     "metadata": {},
     "output_type": "display_data"
    },
    {
     "data": {
      "text/html": [
       "Executing test <i>RW sim</i> on model <i>ck</i>... "
      ],
      "text/plain": [
       "<IPython.core.display.HTML object>"
      ]
     },
     "metadata": {},
     "output_type": "display_data"
    },
    {
     "data": {
      "text/html": [
       "Score is 329\n"
      ],
      "text/plain": [
       "<IPython.core.display.HTML object>"
      ]
     },
     "metadata": {},
     "output_type": "display_data"
    },
    {
     "data": {
      "text/html": [
       "Executing test <i>RWCK sim</i> on model <i>ck</i>... "
      ],
      "text/plain": [
       "<IPython.core.display.HTML object>"
      ]
     },
     "metadata": {},
     "output_type": "display_data"
    },
    {
     "data": {
      "text/html": [
       "Score is 330\n"
      ],
      "text/plain": [
       "<IPython.core.display.HTML object>"
      ]
     },
     "metadata": {},
     "output_type": "display_data"
    },
    {
     "data": {
      "text/html": [
       "Executing test <i>NWSLS sim</i> on model <i>ck</i>... "
      ],
      "text/plain": [
       "<IPython.core.display.HTML object>"
      ]
     },
     "metadata": {},
     "output_type": "display_data"
    },
    {
     "data": {
      "text/html": [
       "Score is 297\n"
      ],
      "text/plain": [
       "<IPython.core.display.HTML object>"
      ]
     },
     "metadata": {},
     "output_type": "display_data"
    },
    {
     "data": {
      "text/html": [
       "Executing test <i>CK sim</i> on model <i>rw</i>... "
      ],
      "text/plain": [
       "<IPython.core.display.HTML object>"
      ]
     },
     "metadata": {},
     "output_type": "display_data"
    },
    {
     "data": {
      "text/html": [
       "Score is 332\n"
      ],
      "text/plain": [
       "<IPython.core.display.HTML object>"
      ]
     },
     "metadata": {},
     "output_type": "display_data"
    },
    {
     "data": {
      "text/html": [
       "Executing test <i>RW sim</i> on model <i>rw</i>... "
      ],
      "text/plain": [
       "<IPython.core.display.HTML object>"
      ]
     },
     "metadata": {},
     "output_type": "display_data"
    },
    {
     "data": {
      "text/html": [
       "Score is 323\n"
      ],
      "text/plain": [
       "<IPython.core.display.HTML object>"
      ]
     },
     "metadata": {},
     "output_type": "display_data"
    },
    {
     "data": {
      "text/html": [
       "Executing test <i>RWCK sim</i> on model <i>rw</i>... "
      ],
      "text/plain": [
       "<IPython.core.display.HTML object>"
      ]
     },
     "metadata": {},
     "output_type": "display_data"
    },
    {
     "data": {
      "text/html": [
       "Score is 327\n"
      ],
      "text/plain": [
       "<IPython.core.display.HTML object>"
      ]
     },
     "metadata": {},
     "output_type": "display_data"
    },
    {
     "data": {
      "text/html": [
       "Executing test <i>NWSLS sim</i> on model <i>rw</i>... "
      ],
      "text/plain": [
       "<IPython.core.display.HTML object>"
      ]
     },
     "metadata": {},
     "output_type": "display_data"
    },
    {
     "data": {
      "text/html": [
       "Score is 308\n"
      ],
      "text/plain": [
       "<IPython.core.display.HTML object>"
      ]
     },
     "metadata": {},
     "output_type": "display_data"
    },
    {
     "data": {
      "text/html": [
       "Executing test <i>CK sim</i> on model <i>rwck</i>... "
      ],
      "text/plain": [
       "<IPython.core.display.HTML object>"
      ]
     },
     "metadata": {},
     "output_type": "display_data"
    },
    {
     "data": {
      "text/html": [
       "Score is 340\n"
      ],
      "text/plain": [
       "<IPython.core.display.HTML object>"
      ]
     },
     "metadata": {},
     "output_type": "display_data"
    },
    {
     "data": {
      "text/html": [
       "Executing test <i>RW sim</i> on model <i>rwck</i>... "
      ],
      "text/plain": [
       "<IPython.core.display.HTML object>"
      ]
     },
     "metadata": {},
     "output_type": "display_data"
    },
    {
     "data": {
      "text/html": [
       "Score is 328\n"
      ],
      "text/plain": [
       "<IPython.core.display.HTML object>"
      ]
     },
     "metadata": {},
     "output_type": "display_data"
    },
    {
     "data": {
      "text/html": [
       "Executing test <i>RWCK sim</i> on model <i>rwck</i>... "
      ],
      "text/plain": [
       "<IPython.core.display.HTML object>"
      ]
     },
     "metadata": {},
     "output_type": "display_data"
    },
    {
     "data": {
      "text/html": [
       "Score is 325\n"
      ],
      "text/plain": [
       "<IPython.core.display.HTML object>"
      ]
     },
     "metadata": {},
     "output_type": "display_data"
    },
    {
     "data": {
      "text/html": [
       "Executing test <i>NWSLS sim</i> on model <i>rwck</i>... "
      ],
      "text/plain": [
       "<IPython.core.display.HTML object>"
      ]
     },
     "metadata": {},
     "output_type": "display_data"
    },
    {
     "data": {
      "text/html": [
       "Score is 282\n"
      ],
      "text/plain": [
       "<IPython.core.display.HTML object>"
      ]
     },
     "metadata": {},
     "output_type": "display_data"
    },
    {
     "data": {
      "text/html": [
       "Executing test <i>CK sim</i> on model <i>nwsls</i>... "
      ],
      "text/plain": [
       "<IPython.core.display.HTML object>"
      ]
     },
     "metadata": {},
     "output_type": "display_data"
    },
    {
     "data": {
      "text/html": [
       "Score is 533\n"
      ],
      "text/plain": [
       "<IPython.core.display.HTML object>"
      ]
     },
     "metadata": {},
     "output_type": "display_data"
    },
    {
     "data": {
      "text/html": [
       "Executing test <i>RW sim</i> on model <i>nwsls</i>... "
      ],
      "text/plain": [
       "<IPython.core.display.HTML object>"
      ]
     },
     "metadata": {},
     "output_type": "display_data"
    },
    {
     "data": {
      "text/html": [
       "Score is 501\n"
      ],
      "text/plain": [
       "<IPython.core.display.HTML object>"
      ]
     },
     "metadata": {},
     "output_type": "display_data"
    },
    {
     "data": {
      "text/html": [
       "Executing test <i>RWCK sim</i> on model <i>nwsls</i>... "
      ],
      "text/plain": [
       "<IPython.core.display.HTML object>"
      ]
     },
     "metadata": {},
     "output_type": "display_data"
    },
    {
     "data": {
      "text/html": [
       "Score is 476\n"
      ],
      "text/plain": [
       "<IPython.core.display.HTML object>"
      ]
     },
     "metadata": {},
     "output_type": "display_data"
    },
    {
     "data": {
      "text/html": [
       "Executing test <i>NWSLS sim</i> on model <i>nwsls</i>... "
      ],
      "text/plain": [
       "<IPython.core.display.HTML object>"
      ]
     },
     "metadata": {},
     "output_type": "display_data"
    },
    {
     "data": {
      "text/html": [
       "Score is 184\n"
      ],
      "text/plain": [
       "<IPython.core.display.HTML object>"
      ]
     },
     "metadata": {},
     "output_type": "display_data"
    },
    {
     "data": {
      "text/html": [
       "<html><body><div>\n",
       "<style scoped=\"\">\n",
       "    .dataframe tbody tr th:only-of-type {\n",
       "        vertical-align: middle;\n",
       "    }\n",
       "\n",
       "    .dataframe tbody tr th {\n",
       "        vertical-align: top;\n",
       "    }\n",
       "\n",
       "    .dataframe thead th {\n",
       "        text-align: right;\n",
       "    }\n",
       "</style>\n",
       "<table border=\"1\" class=\"dataframe\" id=\"-6566793706830659428\">\n",
       "<thead>\n",
       "<tr style=\"text-align: right;\">\n",
       "<th></th>\n",
       "<th title=\"Calculate negative loglikelihood of a model.\">CK sim</th>\n",
       "<th title=\"Calculate negative loglikelihood of a model.\">RW sim</th>\n",
       "<th title=\"Calculate negative loglikelihood of a model.\">RWCK sim</th>\n",
       "<th title=\"Calculate negative loglikelihood of a model.\">NWSLS sim</th>\n",
       "</tr>\n",
       "</thead>\n",
       "<tbody>\n",
       "<tr>\n",
       "<th title=\"No description available\">ck</th>\n",
       "<td style=\"background-color: rgb(128,128,128);\" title=\"A float score.A float with any value.\n",
       "There is no canonical mapping between this score type and a measure of agreement between the observation and the prediction\">333</td>\n",
       "<td style=\"background-color: rgb(128,128,128);\" title=\"A float score.A float with any value.\n",
       "There is no canonical mapping between this score type and a measure of agreement between the observation and the prediction\">329</td>\n",
       "<td style=\"background-color: rgb(128,128,128);\" title=\"A float score.A float with any value.\n",
       "There is no canonical mapping between this score type and a measure of agreement between the observation and the prediction\">330</td>\n",
       "<td style=\"background-color: rgb(128,128,128);\" title=\"A float score.A float with any value.\n",
       "There is no canonical mapping between this score type and a measure of agreement between the observation and the prediction\">297</td>\n",
       "</tr>\n",
       "<tr>\n",
       "<th title=\"No description available\">rw</th>\n",
       "<td style=\"background-color: rgb(128,128,128);\" title=\"A float score.A float with any value.\n",
       "There is no canonical mapping between this score type and a measure of agreement between the observation and the prediction\">332</td>\n",
       "<td style=\"background-color: rgb(128,128,128);\" title=\"A float score.A float with any value.\n",
       "There is no canonical mapping between this score type and a measure of agreement between the observation and the prediction\">323</td>\n",
       "<td style=\"background-color: rgb(128,128,128);\" title=\"A float score.A float with any value.\n",
       "There is no canonical mapping between this score type and a measure of agreement between the observation and the prediction\">327</td>\n",
       "<td style=\"background-color: rgb(128,128,128);\" title=\"A float score.A float with any value.\n",
       "There is no canonical mapping between this score type and a measure of agreement between the observation and the prediction\">308</td>\n",
       "</tr>\n",
       "<tr>\n",
       "<th title=\"No description available\">rwck</th>\n",
       "<td style=\"background-color: rgb(128,128,128);\" title=\"A float score.A float with any value.\n",
       "There is no canonical mapping between this score type and a measure of agreement between the observation and the prediction\">340</td>\n",
       "<td style=\"background-color: rgb(128,128,128);\" title=\"A float score.A float with any value.\n",
       "There is no canonical mapping between this score type and a measure of agreement between the observation and the prediction\">328</td>\n",
       "<td style=\"background-color: rgb(128,128,128);\" title=\"A float score.A float with any value.\n",
       "There is no canonical mapping between this score type and a measure of agreement between the observation and the prediction\">325</td>\n",
       "<td style=\"background-color: rgb(128,128,128);\" title=\"A float score.A float with any value.\n",
       "There is no canonical mapping between this score type and a measure of agreement between the observation and the prediction\">282</td>\n",
       "</tr>\n",
       "<tr>\n",
       "<th title=\"No description available\">nwsls</th>\n",
       "<td style=\"background-color: rgb(128,128,128);\" title=\"A float score.A float with any value.\n",
       "There is no canonical mapping between this score type and a measure of agreement between the observation and the prediction\">533</td>\n",
       "<td style=\"background-color: rgb(128,128,128);\" title=\"A float score.A float with any value.\n",
       "There is no canonical mapping between this score type and a measure of agreement between the observation and the prediction\">501</td>\n",
       "<td style=\"background-color: rgb(128,128,128);\" title=\"A float score.A float with any value.\n",
       "There is no canonical mapping between this score type and a measure of agreement between the observation and the prediction\">476</td>\n",
       "<td style=\"background-color: rgb(128,128,128);\" title=\"A float score.A float with any value.\n",
       "There is no canonical mapping between this score type and a measure of agreement between the observation and the prediction\">184</td>\n",
       "</tr>\n",
       "</tbody>\n",
       "</table>\n",
       "</div></body></html>"
      ],
      "text/plain": [
       "      CK sim RW sim RWCK sim NWSLS sim\n",
       "ck       333    329      330       297\n",
       "rw       332    323      327       308\n",
       "rwck     340    328      325       282\n",
       "nwsls    533    501      476       184"
      ]
     },
     "execution_count": 11,
     "metadata": {},
     "output_type": "execute_result"
    }
   ],
   "source": [
    "nll_suite.judge([multi_ck, multi_rw, multi_rwck, multi_nwsls])"
   ]
  },
  {
   "cell_type": "code",
   "execution_count": 12,
   "metadata": {},
   "outputs": [
    {
     "data": {
      "text/html": [
       "Executing test <i>CK sim</i> on model <i>ck</i>... "
      ],
      "text/plain": [
       "<IPython.core.display.HTML object>"
      ]
     },
     "metadata": {},
     "output_type": "display_data"
    },
    {
     "data": {
      "text/html": [
       "Score is 696\n"
      ],
      "text/plain": [
       "<IPython.core.display.HTML object>"
      ]
     },
     "metadata": {},
     "output_type": "display_data"
    },
    {
     "data": {
      "text/html": [
       "Executing test <i>RW sim</i> on model <i>ck</i>... "
      ],
      "text/plain": [
       "<IPython.core.display.HTML object>"
      ]
     },
     "metadata": {},
     "output_type": "display_data"
    },
    {
     "data": {
      "text/html": [
       "Score is 688\n"
      ],
      "text/plain": [
       "<IPython.core.display.HTML object>"
      ]
     },
     "metadata": {},
     "output_type": "display_data"
    },
    {
     "data": {
      "text/html": [
       "Executing test <i>RWCK sim</i> on model <i>ck</i>... "
      ],
      "text/plain": [
       "<IPython.core.display.HTML object>"
      ]
     },
     "metadata": {},
     "output_type": "display_data"
    },
    {
     "data": {
      "text/html": [
       "Score is 690\n"
      ],
      "text/plain": [
       "<IPython.core.display.HTML object>"
      ]
     },
     "metadata": {},
     "output_type": "display_data"
    },
    {
     "data": {
      "text/html": [
       "Executing test <i>NWSLS sim</i> on model <i>ck</i>... "
      ],
      "text/plain": [
       "<IPython.core.display.HTML object>"
      ]
     },
     "metadata": {},
     "output_type": "display_data"
    },
    {
     "data": {
      "text/html": [
       "Score is 624\n"
      ],
      "text/plain": [
       "<IPython.core.display.HTML object>"
      ]
     },
     "metadata": {},
     "output_type": "display_data"
    },
    {
     "data": {
      "text/html": [
       "Executing test <i>CK sim</i> on model <i>rw</i>... "
      ],
      "text/plain": [
       "<IPython.core.display.HTML object>"
      ]
     },
     "metadata": {},
     "output_type": "display_data"
    },
    {
     "data": {
      "text/html": [
       "Score is 695\n"
      ],
      "text/plain": [
       "<IPython.core.display.HTML object>"
      ]
     },
     "metadata": {},
     "output_type": "display_data"
    },
    {
     "data": {
      "text/html": [
       "Executing test <i>RW sim</i> on model <i>rw</i>... "
      ],
      "text/plain": [
       "<IPython.core.display.HTML object>"
      ]
     },
     "metadata": {},
     "output_type": "display_data"
    },
    {
     "data": {
      "text/html": [
       "Score is 675\n"
      ],
      "text/plain": [
       "<IPython.core.display.HTML object>"
      ]
     },
     "metadata": {},
     "output_type": "display_data"
    },
    {
     "data": {
      "text/html": [
       "Executing test <i>RWCK sim</i> on model <i>rw</i>... "
      ],
      "text/plain": [
       "<IPython.core.display.HTML object>"
      ]
     },
     "metadata": {},
     "output_type": "display_data"
    },
    {
     "data": {
      "text/html": [
       "Score is 683\n"
      ],
      "text/plain": [
       "<IPython.core.display.HTML object>"
      ]
     },
     "metadata": {},
     "output_type": "display_data"
    },
    {
     "data": {
      "text/html": [
       "Executing test <i>NWSLS sim</i> on model <i>rw</i>... "
      ],
      "text/plain": [
       "<IPython.core.display.HTML object>"
      ]
     },
     "metadata": {},
     "output_type": "display_data"
    },
    {
     "data": {
      "text/html": [
       "Score is 645\n"
      ],
      "text/plain": [
       "<IPython.core.display.HTML object>"
      ]
     },
     "metadata": {},
     "output_type": "display_data"
    },
    {
     "data": {
      "text/html": [
       "Executing test <i>CK sim</i> on model <i>rwck</i>... "
      ],
      "text/plain": [
       "<IPython.core.display.HTML object>"
      ]
     },
     "metadata": {},
     "output_type": "display_data"
    },
    {
     "data": {
      "text/html": [
       "Score is 710\n"
      ],
      "text/plain": [
       "<IPython.core.display.HTML object>"
      ]
     },
     "metadata": {},
     "output_type": "display_data"
    },
    {
     "data": {
      "text/html": [
       "Executing test <i>RW sim</i> on model <i>rwck</i>... "
      ],
      "text/plain": [
       "<IPython.core.display.HTML object>"
      ]
     },
     "metadata": {},
     "output_type": "display_data"
    },
    {
     "data": {
      "text/html": [
       "Score is 685\n"
      ],
      "text/plain": [
       "<IPython.core.display.HTML object>"
      ]
     },
     "metadata": {},
     "output_type": "display_data"
    },
    {
     "data": {
      "text/html": [
       "Executing test <i>RWCK sim</i> on model <i>rwck</i>... "
      ],
      "text/plain": [
       "<IPython.core.display.HTML object>"
      ]
     },
     "metadata": {},
     "output_type": "display_data"
    },
    {
     "data": {
      "text/html": [
       "Score is 681\n"
      ],
      "text/plain": [
       "<IPython.core.display.HTML object>"
      ]
     },
     "metadata": {},
     "output_type": "display_data"
    },
    {
     "data": {
      "text/html": [
       "Executing test <i>NWSLS sim</i> on model <i>rwck</i>... "
      ],
      "text/plain": [
       "<IPython.core.display.HTML object>"
      ]
     },
     "metadata": {},
     "output_type": "display_data"
    },
    {
     "data": {
      "text/html": [
       "Score is 595\n"
      ],
      "text/plain": [
       "<IPython.core.display.HTML object>"
      ]
     },
     "metadata": {},
     "output_type": "display_data"
    },
    {
     "data": {
      "text/html": [
       "Executing test <i>CK sim</i> on model <i>nwsls</i>... "
      ],
      "text/plain": [
       "<IPython.core.display.HTML object>"
      ]
     },
     "metadata": {},
     "output_type": "display_data"
    },
    {
     "data": {
      "text/html": [
       "Score is 1.07e+03\n"
      ],
      "text/plain": [
       "<IPython.core.display.HTML object>"
      ]
     },
     "metadata": {},
     "output_type": "display_data"
    },
    {
     "data": {
      "text/html": [
       "Executing test <i>RW sim</i> on model <i>nwsls</i>... "
      ],
      "text/plain": [
       "<IPython.core.display.HTML object>"
      ]
     },
     "metadata": {},
     "output_type": "display_data"
    },
    {
     "data": {
      "text/html": [
       "Score is 994\n"
      ],
      "text/plain": [
       "<IPython.core.display.HTML object>"
      ]
     },
     "metadata": {},
     "output_type": "display_data"
    },
    {
     "data": {
      "text/html": [
       "Executing test <i>RWCK sim</i> on model <i>nwsls</i>... "
      ],
      "text/plain": [
       "<IPython.core.display.HTML object>"
      ]
     },
     "metadata": {},
     "output_type": "display_data"
    },
    {
     "data": {
      "text/html": [
       "Score is 963\n"
      ],
      "text/plain": [
       "<IPython.core.display.HTML object>"
      ]
     },
     "metadata": {},
     "output_type": "display_data"
    },
    {
     "data": {
      "text/html": [
       "Executing test <i>NWSLS sim</i> on model <i>nwsls</i>... "
      ],
      "text/plain": [
       "<IPython.core.display.HTML object>"
      ]
     },
     "metadata": {},
     "output_type": "display_data"
    },
    {
     "data": {
      "text/html": [
       "Score is 383\n"
      ],
      "text/plain": [
       "<IPython.core.display.HTML object>"
      ]
     },
     "metadata": {},
     "output_type": "display_data"
    },
    {
     "data": {
      "text/html": [
       "<html><body><div>\n",
       "<style scoped=\"\">\n",
       "    .dataframe tbody tr th:only-of-type {\n",
       "        vertical-align: middle;\n",
       "    }\n",
       "\n",
       "    .dataframe tbody tr th {\n",
       "        vertical-align: top;\n",
       "    }\n",
       "\n",
       "    .dataframe thead th {\n",
       "        text-align: right;\n",
       "    }\n",
       "</style>\n",
       "<table border=\"1\" class=\"dataframe\" id=\"-6712966905443768371\">\n",
       "<thead>\n",
       "<tr style=\"text-align: right;\">\n",
       "<th></th>\n",
       "<th title=\"Calculate AIC score of a model on given data.\">CK sim</th>\n",
       "<th title=\"Calculate AIC score of a model on given data.\">RW sim</th>\n",
       "<th title=\"Calculate AIC score of a model on given data.\">RWCK sim</th>\n",
       "<th title=\"Calculate AIC score of a model on given data.\">NWSLS sim</th>\n",
       "</tr>\n",
       "</thead>\n",
       "<tbody>\n",
       "<tr>\n",
       "<th title=\"No description available\">ck</th>\n",
       "<td style=\"background-color: rgb(128,128,128);\" title=\"A float score.A float with any value.\n",
       "There is no canonical mapping between this score type and a measure of agreement between the observation and the prediction\">696</td>\n",
       "<td style=\"background-color: rgb(128,128,128);\" title=\"A float score.A float with any value.\n",
       "There is no canonical mapping between this score type and a measure of agreement between the observation and the prediction\">688</td>\n",
       "<td style=\"background-color: rgb(128,128,128);\" title=\"A float score.A float with any value.\n",
       "There is no canonical mapping between this score type and a measure of agreement between the observation and the prediction\">690</td>\n",
       "<td style=\"background-color: rgb(128,128,128);\" title=\"A float score.A float with any value.\n",
       "There is no canonical mapping between this score type and a measure of agreement between the observation and the prediction\">624</td>\n",
       "</tr>\n",
       "<tr>\n",
       "<th title=\"No description available\">rw</th>\n",
       "<td style=\"background-color: rgb(128,128,128);\" title=\"A float score.A float with any value.\n",
       "There is no canonical mapping between this score type and a measure of agreement between the observation and the prediction\">695</td>\n",
       "<td style=\"background-color: rgb(128,128,128);\" title=\"A float score.A float with any value.\n",
       "There is no canonical mapping between this score type and a measure of agreement between the observation and the prediction\">675</td>\n",
       "<td style=\"background-color: rgb(128,128,128);\" title=\"A float score.A float with any value.\n",
       "There is no canonical mapping between this score type and a measure of agreement between the observation and the prediction\">683</td>\n",
       "<td style=\"background-color: rgb(128,128,128);\" title=\"A float score.A float with any value.\n",
       "There is no canonical mapping between this score type and a measure of agreement between the observation and the prediction\">645</td>\n",
       "</tr>\n",
       "<tr>\n",
       "<th title=\"No description available\">rwck</th>\n",
       "<td style=\"background-color: rgb(128,128,128);\" title=\"A float score.A float with any value.\n",
       "There is no canonical mapping between this score type and a measure of agreement between the observation and the prediction\">710</td>\n",
       "<td style=\"background-color: rgb(128,128,128);\" title=\"A float score.A float with any value.\n",
       "There is no canonical mapping between this score type and a measure of agreement between the observation and the prediction\">685</td>\n",
       "<td style=\"background-color: rgb(128,128,128);\" title=\"A float score.A float with any value.\n",
       "There is no canonical mapping between this score type and a measure of agreement between the observation and the prediction\">681</td>\n",
       "<td style=\"background-color: rgb(128,128,128);\" title=\"A float score.A float with any value.\n",
       "There is no canonical mapping between this score type and a measure of agreement between the observation and the prediction\">595</td>\n",
       "</tr>\n",
       "<tr>\n",
       "<th title=\"No description available\">nwsls</th>\n",
       "<td style=\"background-color: rgb(128,128,128);\" title=\"A float score.A float with any value.\n",
       "There is no canonical mapping between this score type and a measure of agreement between the observation and the prediction\">1.07e+03</td>\n",
       "<td style=\"background-color: rgb(128,128,128);\" title=\"A float score.A float with any value.\n",
       "There is no canonical mapping between this score type and a measure of agreement between the observation and the prediction\">994</td>\n",
       "<td style=\"background-color: rgb(128,128,128);\" title=\"A float score.A float with any value.\n",
       "There is no canonical mapping between this score type and a measure of agreement between the observation and the prediction\">963</td>\n",
       "<td style=\"background-color: rgb(128,128,128);\" title=\"A float score.A float with any value.\n",
       "There is no canonical mapping between this score type and a measure of agreement between the observation and the prediction\">383</td>\n",
       "</tr>\n",
       "</tbody>\n",
       "</table>\n",
       "</div></body></html>"
      ],
      "text/plain": [
       "         CK sim RW sim RWCK sim NWSLS sim\n",
       "ck          696    688      690       624\n",
       "rw          695    675      683       645\n",
       "rwck        710    685      681       595\n",
       "nwsls  1.07e+03    994      963       383"
      ]
     },
     "execution_count": 12,
     "metadata": {},
     "output_type": "execute_result"
    }
   ],
   "source": [
    "aic_suite.judge([multi_ck, multi_rw, multi_rwck, multi_nwsls])"
   ]
  },
  {
   "cell_type": "code",
   "execution_count": 13,
   "metadata": {},
   "outputs": [
    {
     "data": {
      "text/html": [
       "Executing test <i>CK sim</i> on model <i>ck</i>... "
      ],
      "text/plain": [
       "<IPython.core.display.HTML object>"
      ]
     },
     "metadata": {},
     "output_type": "display_data"
    },
    {
     "data": {
      "text/html": [
       "Score is 2.17e+03\n"
      ],
      "text/plain": [
       "<IPython.core.display.HTML object>"
      ]
     },
     "metadata": {},
     "output_type": "display_data"
    },
    {
     "data": {
      "text/html": [
       "Executing test <i>RW sim</i> on model <i>ck</i>... "
      ],
      "text/plain": [
       "<IPython.core.display.HTML object>"
      ]
     },
     "metadata": {},
     "output_type": "display_data"
    },
    {
     "data": {
      "text/html": [
       "Score is 2.16e+03\n"
      ],
      "text/plain": [
       "<IPython.core.display.HTML object>"
      ]
     },
     "metadata": {},
     "output_type": "display_data"
    },
    {
     "data": {
      "text/html": [
       "Executing test <i>RWCK sim</i> on model <i>ck</i>... "
      ],
      "text/plain": [
       "<IPython.core.display.HTML object>"
      ]
     },
     "metadata": {},
     "output_type": "display_data"
    },
    {
     "data": {
      "text/html": [
       "Score is 2.16e+03\n"
      ],
      "text/plain": [
       "<IPython.core.display.HTML object>"
      ]
     },
     "metadata": {},
     "output_type": "display_data"
    },
    {
     "data": {
      "text/html": [
       "Executing test <i>NWSLS sim</i> on model <i>ck</i>... "
      ],
      "text/plain": [
       "<IPython.core.display.HTML object>"
      ]
     },
     "metadata": {},
     "output_type": "display_data"
    },
    {
     "data": {
      "text/html": [
       "Score is 2.09e+03\n"
      ],
      "text/plain": [
       "<IPython.core.display.HTML object>"
      ]
     },
     "metadata": {},
     "output_type": "display_data"
    },
    {
     "data": {
      "text/html": [
       "Executing test <i>CK sim</i> on model <i>rw</i>... "
      ],
      "text/plain": [
       "<IPython.core.display.HTML object>"
      ]
     },
     "metadata": {},
     "output_type": "display_data"
    },
    {
     "data": {
      "text/html": [
       "Score is 2.16e+03\n"
      ],
      "text/plain": [
       "<IPython.core.display.HTML object>"
      ]
     },
     "metadata": {},
     "output_type": "display_data"
    },
    {
     "data": {
      "text/html": [
       "Executing test <i>RW sim</i> on model <i>rw</i>... "
      ],
      "text/plain": [
       "<IPython.core.display.HTML object>"
      ]
     },
     "metadata": {},
     "output_type": "display_data"
    },
    {
     "data": {
      "text/html": [
       "Score is 2.15e+03\n"
      ],
      "text/plain": [
       "<IPython.core.display.HTML object>"
      ]
     },
     "metadata": {},
     "output_type": "display_data"
    },
    {
     "data": {
      "text/html": [
       "Executing test <i>RWCK sim</i> on model <i>rw</i>... "
      ],
      "text/plain": [
       "<IPython.core.display.HTML object>"
      ]
     },
     "metadata": {},
     "output_type": "display_data"
    },
    {
     "data": {
      "text/html": [
       "Score is 2.15e+03\n"
      ],
      "text/plain": [
       "<IPython.core.display.HTML object>"
      ]
     },
     "metadata": {},
     "output_type": "display_data"
    },
    {
     "data": {
      "text/html": [
       "Executing test <i>NWSLS sim</i> on model <i>rw</i>... "
      ],
      "text/plain": [
       "<IPython.core.display.HTML object>"
      ]
     },
     "metadata": {},
     "output_type": "display_data"
    },
    {
     "data": {
      "text/html": [
       "Score is 2.12e+03\n"
      ],
      "text/plain": [
       "<IPython.core.display.HTML object>"
      ]
     },
     "metadata": {},
     "output_type": "display_data"
    },
    {
     "data": {
      "text/html": [
       "Executing test <i>CK sim</i> on model <i>rwck</i>... "
      ],
      "text/plain": [
       "<IPython.core.display.HTML object>"
      ]
     },
     "metadata": {},
     "output_type": "display_data"
    },
    {
     "data": {
      "text/html": [
       "Score is 2.18e+03\n"
      ],
      "text/plain": [
       "<IPython.core.display.HTML object>"
      ]
     },
     "metadata": {},
     "output_type": "display_data"
    },
    {
     "data": {
      "text/html": [
       "Executing test <i>RW sim</i> on model <i>rwck</i>... "
      ],
      "text/plain": [
       "<IPython.core.display.HTML object>"
      ]
     },
     "metadata": {},
     "output_type": "display_data"
    },
    {
     "data": {
      "text/html": [
       "Score is 2.16e+03\n"
      ],
      "text/plain": [
       "<IPython.core.display.HTML object>"
      ]
     },
     "metadata": {},
     "output_type": "display_data"
    },
    {
     "data": {
      "text/html": [
       "Executing test <i>RWCK sim</i> on model <i>rwck</i>... "
      ],
      "text/plain": [
       "<IPython.core.display.HTML object>"
      ]
     },
     "metadata": {},
     "output_type": "display_data"
    },
    {
     "data": {
      "text/html": [
       "Score is 2.15e+03\n"
      ],
      "text/plain": [
       "<IPython.core.display.HTML object>"
      ]
     },
     "metadata": {},
     "output_type": "display_data"
    },
    {
     "data": {
      "text/html": [
       "Executing test <i>NWSLS sim</i> on model <i>rwck</i>... "
      ],
      "text/plain": [
       "<IPython.core.display.HTML object>"
      ]
     },
     "metadata": {},
     "output_type": "display_data"
    },
    {
     "data": {
      "text/html": [
       "Score is 2.06e+03\n"
      ],
      "text/plain": [
       "<IPython.core.display.HTML object>"
      ]
     },
     "metadata": {},
     "output_type": "display_data"
    },
    {
     "data": {
      "text/html": [
       "Executing test <i>CK sim</i> on model <i>nwsls</i>... "
      ],
      "text/plain": [
       "<IPython.core.display.HTML object>"
      ]
     },
     "metadata": {},
     "output_type": "display_data"
    },
    {
     "data": {
      "text/html": [
       "Score is 1.37e+03\n"
      ],
      "text/plain": [
       "<IPython.core.display.HTML object>"
      ]
     },
     "metadata": {},
     "output_type": "display_data"
    },
    {
     "data": {
      "text/html": [
       "Executing test <i>RW sim</i> on model <i>nwsls</i>... "
      ],
      "text/plain": [
       "<IPython.core.display.HTML object>"
      ]
     },
     "metadata": {},
     "output_type": "display_data"
    },
    {
     "data": {
      "text/html": [
       "Score is 1.28e+03\n"
      ],
      "text/plain": [
       "<IPython.core.display.HTML object>"
      ]
     },
     "metadata": {},
     "output_type": "display_data"
    },
    {
     "data": {
      "text/html": [
       "Executing test <i>RWCK sim</i> on model <i>nwsls</i>... "
      ],
      "text/plain": [
       "<IPython.core.display.HTML object>"
      ]
     },
     "metadata": {},
     "output_type": "display_data"
    },
    {
     "data": {
      "text/html": [
       "Score is 1.27e+03\n"
      ],
      "text/plain": [
       "<IPython.core.display.HTML object>"
      ]
     },
     "metadata": {},
     "output_type": "display_data"
    },
    {
     "data": {
      "text/html": [
       "Executing test <i>NWSLS sim</i> on model <i>nwsls</i>... "
      ],
      "text/plain": [
       "<IPython.core.display.HTML object>"
      ]
     },
     "metadata": {},
     "output_type": "display_data"
    },
    {
     "data": {
      "text/html": [
       "Score is 681\n"
      ],
      "text/plain": [
       "<IPython.core.display.HTML object>"
      ]
     },
     "metadata": {},
     "output_type": "display_data"
    },
    {
     "data": {
      "text/html": [
       "<html><body><div>\n",
       "<style scoped=\"\">\n",
       "    .dataframe tbody tr th:only-of-type {\n",
       "        vertical-align: middle;\n",
       "    }\n",
       "\n",
       "    .dataframe tbody tr th {\n",
       "        vertical-align: top;\n",
       "    }\n",
       "\n",
       "    .dataframe thead th {\n",
       "        text-align: right;\n",
       "    }\n",
       "</style>\n",
       "<table border=\"1\" class=\"dataframe\" id=\"-5162794283743142226\">\n",
       "<thead>\n",
       "<tr style=\"text-align: right;\">\n",
       "<th></th>\n",
       "<th title=\"Calculate BIC score of a model on given data.\">CK sim</th>\n",
       "<th title=\"Calculate BIC score of a model on given data.\">RW sim</th>\n",
       "<th title=\"Calculate BIC score of a model on given data.\">RWCK sim</th>\n",
       "<th title=\"Calculate BIC score of a model on given data.\">NWSLS sim</th>\n",
       "</tr>\n",
       "</thead>\n",
       "<tbody>\n",
       "<tr>\n",
       "<th title=\"No description available\">ck</th>\n",
       "<td style=\"background-color: rgb(128,128,128);\" title=\"A float score.A float with any value.\n",
       "There is no canonical mapping between this score type and a measure of agreement between the observation and the prediction\">2.17e+03</td>\n",
       "<td style=\"background-color: rgb(128,128,128);\" title=\"A float score.A float with any value.\n",
       "There is no canonical mapping between this score type and a measure of agreement between the observation and the prediction\">2.16e+03</td>\n",
       "<td style=\"background-color: rgb(128,128,128);\" title=\"A float score.A float with any value.\n",
       "There is no canonical mapping between this score type and a measure of agreement between the observation and the prediction\">2.16e+03</td>\n",
       "<td style=\"background-color: rgb(128,128,128);\" title=\"A float score.A float with any value.\n",
       "There is no canonical mapping between this score type and a measure of agreement between the observation and the prediction\">2.09e+03</td>\n",
       "</tr>\n",
       "<tr>\n",
       "<th title=\"No description available\">rw</th>\n",
       "<td style=\"background-color: rgb(128,128,128);\" title=\"A float score.A float with any value.\n",
       "There is no canonical mapping between this score type and a measure of agreement between the observation and the prediction\">2.16e+03</td>\n",
       "<td style=\"background-color: rgb(128,128,128);\" title=\"A float score.A float with any value.\n",
       "There is no canonical mapping between this score type and a measure of agreement between the observation and the prediction\">2.15e+03</td>\n",
       "<td style=\"background-color: rgb(128,128,128);\" title=\"A float score.A float with any value.\n",
       "There is no canonical mapping between this score type and a measure of agreement between the observation and the prediction\">2.15e+03</td>\n",
       "<td style=\"background-color: rgb(128,128,128);\" title=\"A float score.A float with any value.\n",
       "There is no canonical mapping between this score type and a measure of agreement between the observation and the prediction\">2.12e+03</td>\n",
       "</tr>\n",
       "<tr>\n",
       "<th title=\"No description available\">rwck</th>\n",
       "<td style=\"background-color: rgb(128,128,128);\" title=\"A float score.A float with any value.\n",
       "There is no canonical mapping between this score type and a measure of agreement between the observation and the prediction\">2.18e+03</td>\n",
       "<td style=\"background-color: rgb(128,128,128);\" title=\"A float score.A float with any value.\n",
       "There is no canonical mapping between this score type and a measure of agreement between the observation and the prediction\">2.16e+03</td>\n",
       "<td style=\"background-color: rgb(128,128,128);\" title=\"A float score.A float with any value.\n",
       "There is no canonical mapping between this score type and a measure of agreement between the observation and the prediction\">2.15e+03</td>\n",
       "<td style=\"background-color: rgb(128,128,128);\" title=\"A float score.A float with any value.\n",
       "There is no canonical mapping between this score type and a measure of agreement between the observation and the prediction\">2.06e+03</td>\n",
       "</tr>\n",
       "<tr>\n",
       "<th title=\"No description available\">nwsls</th>\n",
       "<td style=\"background-color: rgb(128,128,128);\" title=\"A float score.A float with any value.\n",
       "There is no canonical mapping between this score type and a measure of agreement between the observation and the prediction\">1.37e+03</td>\n",
       "<td style=\"background-color: rgb(128,128,128);\" title=\"A float score.A float with any value.\n",
       "There is no canonical mapping between this score type and a measure of agreement between the observation and the prediction\">1.28e+03</td>\n",
       "<td style=\"background-color: rgb(128,128,128);\" title=\"A float score.A float with any value.\n",
       "There is no canonical mapping between this score type and a measure of agreement between the observation and the prediction\">1.27e+03</td>\n",
       "<td style=\"background-color: rgb(128,128,128);\" title=\"A float score.A float with any value.\n",
       "There is no canonical mapping between this score type and a measure of agreement between the observation and the prediction\">681</td>\n",
       "</tr>\n",
       "</tbody>\n",
       "</table>\n",
       "</div></body></html>"
      ],
      "text/plain": [
       "         CK sim    RW sim  RWCK sim NWSLS sim\n",
       "ck     2.17e+03  2.16e+03  2.16e+03  2.09e+03\n",
       "rw     2.16e+03  2.15e+03  2.15e+03  2.12e+03\n",
       "rwck   2.18e+03  2.16e+03  2.15e+03  2.06e+03\n",
       "nwsls  1.37e+03  1.28e+03  1.27e+03       681"
      ]
     },
     "execution_count": 13,
     "metadata": {},
     "output_type": "execute_result"
    }
   ],
   "source": [
    "bic_suite.judge([multi_ck, multi_rw, multi_rwck, multi_nwsls])"
   ]
  },
  {
   "cell_type": "code",
   "execution_count": 14,
   "metadata": {},
   "outputs": [],
   "source": [
    "\n",
    "rr_al = get_observation('../data/multi-rr_al.csv', 3, True)\n",
    "nll_rr_al = NLLTest(name='rr_al sim', observation=rr_al)\n",
    "aic_rr_al = AICTest(name='rr_al sim', observation=rr_al)\n",
    "bic_rr_al = BICTest(name='rr_al sim', observation=rr_al)\n",
    "\n",
    "rw_norm = get_observation('../data/multi-rw_norm.csv', 3, True)\n",
    "nll_rw_norm = NLLTest(name=\"rw_norm sim\", observation=rw_norm)\n",
    "aic_rw_norm = AICTest(name=\"rw_norm sim\", observation=rw_norm)\n",
    "bic_rw_norm = BICTest(name=\"rw_norm sim\", observation=rw_norm)\n",
    "\n",
    "krw_norm = get_observation('../data/multi-krw_norm.csv', 3, True)\n",
    "nll_krw_norm = NLLTest(name=\"krw_norm sim\", observation=krw_norm)\n",
    "aic_krw_norm = AICTest(name=\"krw_norm sim\", observation=krw_norm)\n",
    "bic_krw_norm = BICTest(name=\"krw_norm sim\", observation=krw_norm)\n",
    "\n",
    "lsspd = get_observation('../data/multi-lsspd.csv', 3, True)\n",
    "nll_lsspd = NLLTest(name='lsspd sim', observation=lsspd)\n",
    "aic_lsspd = AICTest(name='lsspd sim', observation=lsspd)\n",
    "bic_lsspd = BICTest(name='lsspd sim', observation=lsspd)\n",
    "\n",
    "bb = get_observation('../data/multi-beta_binomial.csv', 3, True)\n",
    "nll_bb = NLLTest(name='Beta Binomial sim', observation=bb)\n",
    "aic_bb = AICTest(name='Beta Binomial sim', observation=bb)\n",
    "bic_bb = BICTest(name='Beta Binomial sim', observation=bb)"
   ]
  },
  {
   "cell_type": "code",
   "execution_count": 15,
   "metadata": {},
   "outputs": [],
   "source": [
    "nll_al_suite = sciunit.TestSuite([nll_rr_al, nll_rw_norm, nll_krw_norm, nll_lsspd, nll_bb], name=\"NLL suite for learning\")\n",
    "aic_al_suite = sciunit.TestSuite([aic_rr_al, aic_rw_norm, aic_krw_norm, aic_lsspd, aic_bb], name=\"AIC suite for learning\")\n",
    "bic_al_suite = sciunit.TestSuite([bic_rr_al, bic_rw_norm, bic_krw_norm, bic_lsspd, bic_bb], name=\"BIC suite for learning\")"
   ]
  },
  {
   "cell_type": "code",
   "execution_count": 16,
   "metadata": {},
   "outputs": [],
   "source": [
    "param_list = read_prior_csv('../data/multi-rw_norm_prior.csv')\n",
    "multi_rw_norm = MultiRwNormModel(param_list, n_obs=4)\n",
    "multi_rw_norm.name = \"rw_norm\"\n",
    "\n",
    "param_list = read_prior_csv('../data/multi-krw_norm_prior.csv')\n",
    "multi_krw_norm = MultiKrwNormModel(param_list, n_obs=4)\n",
    "multi_krw_norm.name = \"krw_norm\"\n",
    "\n",
    "param_list = read_prior_csv('../data/multi-lsspd_prior.csv')\n",
    "multi_lsspd = MultiLSSPDModel(param_list, n_obs=4)\n",
    "multi_lsspd.name = \"lsspd\"\n",
    "\n",
    "param_list = read_prior_csv('../data/multi-beta_binomial_prior.csv')\n",
    "multi_bb = MultiBetaBinomialModel(param_list, n_obs=4)\n",
    "multi_bb.name = \"bb\""
   ]
  },
  {
   "cell_type": "code",
   "execution_count": 17,
   "metadata": {},
   "outputs": [
    {
     "data": {
      "text/html": [
       "Executing test <i>rr_al sim</i> on model <i>rw_norm</i>... "
      ],
      "text/plain": [
       "<IPython.core.display.HTML object>"
      ]
     },
     "metadata": {},
     "output_type": "display_data"
    },
    {
     "data": {
      "text/html": [
       "Score is 8.54e+18\n"
      ],
      "text/plain": [
       "<IPython.core.display.HTML object>"
      ]
     },
     "metadata": {},
     "output_type": "display_data"
    },
    {
     "data": {
      "text/html": [
       "Executing test <i>rw_norm sim</i> on model <i>rw_norm</i>... "
      ],
      "text/plain": [
       "<IPython.core.display.HTML object>"
      ]
     },
     "metadata": {},
     "output_type": "display_data"
    },
    {
     "data": {
      "text/html": [
       "Score is 1.41e+19\n"
      ],
      "text/plain": [
       "<IPython.core.display.HTML object>"
      ]
     },
     "metadata": {},
     "output_type": "display_data"
    },
    {
     "data": {
      "text/html": [
       "Executing test <i>krw_norm sim</i> on model <i>rw_norm</i>... "
      ],
      "text/plain": [
       "<IPython.core.display.HTML object>"
      ]
     },
     "metadata": {},
     "output_type": "display_data"
    },
    {
     "data": {
      "text/html": [
       "Score is 8.54e+18\n"
      ],
      "text/plain": [
       "<IPython.core.display.HTML object>"
      ]
     },
     "metadata": {},
     "output_type": "display_data"
    },
    {
     "data": {
      "text/html": [
       "Executing test <i>lsspd sim</i> on model <i>rw_norm</i>... "
      ],
      "text/plain": [
       "<IPython.core.display.HTML object>"
      ]
     },
     "metadata": {},
     "output_type": "display_data"
    },
    {
     "data": {
      "text/html": [
       "Score is 8.66e+18\n"
      ],
      "text/plain": [
       "<IPython.core.display.HTML object>"
      ]
     },
     "metadata": {},
     "output_type": "display_data"
    },
    {
     "data": {
      "text/html": [
       "Executing test <i>Beta Binomial sim</i> on model <i>rw_norm</i>... "
      ],
      "text/plain": [
       "<IPython.core.display.HTML object>"
      ]
     },
     "metadata": {},
     "output_type": "display_data"
    },
    {
     "data": {
      "text/html": [
       "Score is 8.54e+18\n"
      ],
      "text/plain": [
       "<IPython.core.display.HTML object>"
      ]
     },
     "metadata": {},
     "output_type": "display_data"
    },
    {
     "data": {
      "text/html": [
       "Executing test <i>rr_al sim</i> on model <i>krw_norm</i>... "
      ],
      "text/plain": [
       "<IPython.core.display.HTML object>"
      ]
     },
     "metadata": {},
     "output_type": "display_data"
    },
    {
     "data": {
      "text/html": [
       "Score is 1.35e+05\n"
      ],
      "text/plain": [
       "<IPython.core.display.HTML object>"
      ]
     },
     "metadata": {},
     "output_type": "display_data"
    },
    {
     "data": {
      "text/html": [
       "Executing test <i>rw_norm sim</i> on model <i>krw_norm</i>... "
      ],
      "text/plain": [
       "<IPython.core.display.HTML object>"
      ]
     },
     "metadata": {},
     "output_type": "display_data"
    },
    {
     "data": {
      "text/html": [
       "Score is 8.15e+19\n"
      ],
      "text/plain": [
       "<IPython.core.display.HTML object>"
      ]
     },
     "metadata": {},
     "output_type": "display_data"
    },
    {
     "data": {
      "text/html": [
       "Executing test <i>krw_norm sim</i> on model <i>krw_norm</i>... "
      ],
      "text/plain": [
       "<IPython.core.display.HTML object>"
      ]
     },
     "metadata": {},
     "output_type": "display_data"
    },
    {
     "data": {
      "text/html": [
       "Score is 274\n"
      ],
      "text/plain": [
       "<IPython.core.display.HTML object>"
      ]
     },
     "metadata": {},
     "output_type": "display_data"
    },
    {
     "data": {
      "text/html": [
       "Executing test <i>lsspd sim</i> on model <i>krw_norm</i>... "
      ],
      "text/plain": [
       "<IPython.core.display.HTML object>"
      ]
     },
     "metadata": {},
     "output_type": "display_data"
    },
    {
     "data": {
      "text/html": [
       "Score is 7.43e+16\n"
      ],
      "text/plain": [
       "<IPython.core.display.HTML object>"
      ]
     },
     "metadata": {},
     "output_type": "display_data"
    },
    {
     "data": {
      "text/html": [
       "Executing test <i>Beta Binomial sim</i> on model <i>krw_norm</i>... "
      ],
      "text/plain": [
       "<IPython.core.display.HTML object>"
      ]
     },
     "metadata": {},
     "output_type": "display_data"
    },
    {
     "data": {
      "text/html": [
       "Score is 1.76e+03\n"
      ],
      "text/plain": [
       "<IPython.core.display.HTML object>"
      ]
     },
     "metadata": {},
     "output_type": "display_data"
    },
    {
     "data": {
      "text/html": [
       "Executing test <i>rr_al sim</i> on model <i>lsspd</i>... "
      ],
      "text/plain": [
       "<IPython.core.display.HTML object>"
      ]
     },
     "metadata": {},
     "output_type": "display_data"
    },
    {
     "data": {
      "text/html": [
       "Score is 1.57e+04\n"
      ],
      "text/plain": [
       "<IPython.core.display.HTML object>"
      ]
     },
     "metadata": {},
     "output_type": "display_data"
    },
    {
     "data": {
      "text/html": [
       "Executing test <i>rw_norm sim</i> on model <i>lsspd</i>... "
      ],
      "text/plain": [
       "<IPython.core.display.HTML object>"
      ]
     },
     "metadata": {},
     "output_type": "display_data"
    },
    {
     "data": {
      "text/html": [
       "Score is 2.3e+19\n"
      ],
      "text/plain": [
       "<IPython.core.display.HTML object>"
      ]
     },
     "metadata": {},
     "output_type": "display_data"
    },
    {
     "data": {
      "text/html": [
       "Executing test <i>krw_norm sim</i> on model <i>lsspd</i>... "
      ],
      "text/plain": [
       "<IPython.core.display.HTML object>"
      ]
     },
     "metadata": {},
     "output_type": "display_data"
    },
    {
     "data": {
      "text/html": [
       "Score is 222\n"
      ],
      "text/plain": [
       "<IPython.core.display.HTML object>"
      ]
     },
     "metadata": {},
     "output_type": "display_data"
    },
    {
     "data": {
      "text/html": [
       "Executing test <i>lsspd sim</i> on model <i>lsspd</i>... "
      ],
      "text/plain": [
       "<IPython.core.display.HTML object>"
      ]
     },
     "metadata": {},
     "output_type": "display_data"
    },
    {
     "data": {
      "text/html": [
       "Score is 1.3e+16\n"
      ],
      "text/plain": [
       "<IPython.core.display.HTML object>"
      ]
     },
     "metadata": {},
     "output_type": "display_data"
    },
    {
     "data": {
      "text/html": [
       "Executing test <i>Beta Binomial sim</i> on model <i>lsspd</i>... "
      ],
      "text/plain": [
       "<IPython.core.display.HTML object>"
      ]
     },
     "metadata": {},
     "output_type": "display_data"
    },
    {
     "data": {
      "text/html": [
       "Score is 366\n"
      ],
      "text/plain": [
       "<IPython.core.display.HTML object>"
      ]
     },
     "metadata": {},
     "output_type": "display_data"
    },
    {
     "data": {
      "text/html": [
       "Executing test <i>rr_al sim</i> on model <i>bb</i>... "
      ],
      "text/plain": [
       "<IPython.core.display.HTML object>"
      ]
     },
     "metadata": {},
     "output_type": "display_data"
    },
    {
     "data": {
      "text/html": [
       "Score is 1.82e+04\n"
      ],
      "text/plain": [
       "<IPython.core.display.HTML object>"
      ]
     },
     "metadata": {},
     "output_type": "display_data"
    },
    {
     "data": {
      "text/html": [
       "Executing test <i>rw_norm sim</i> on model <i>bb</i>... "
      ],
      "text/plain": [
       "<IPython.core.display.HTML object>"
      ]
     },
     "metadata": {},
     "output_type": "display_data"
    },
    {
     "data": {
      "text/html": [
       "Score is 2.67e+19\n"
      ],
      "text/plain": [
       "<IPython.core.display.HTML object>"
      ]
     },
     "metadata": {},
     "output_type": "display_data"
    },
    {
     "data": {
      "text/html": [
       "Executing test <i>krw_norm sim</i> on model <i>bb</i>... "
      ],
      "text/plain": [
       "<IPython.core.display.HTML object>"
      ]
     },
     "metadata": {},
     "output_type": "display_data"
    },
    {
     "data": {
      "text/html": [
       "Score is 319\n"
      ],
      "text/plain": [
       "<IPython.core.display.HTML object>"
      ]
     },
     "metadata": {},
     "output_type": "display_data"
    },
    {
     "data": {
      "text/html": [
       "Executing test <i>lsspd sim</i> on model <i>bb</i>... "
      ],
      "text/plain": [
       "<IPython.core.display.HTML object>"
      ]
     },
     "metadata": {},
     "output_type": "display_data"
    },
    {
     "data": {
      "text/html": [
       "Score is 2e+16\n"
      ],
      "text/plain": [
       "<IPython.core.display.HTML object>"
      ]
     },
     "metadata": {},
     "output_type": "display_data"
    },
    {
     "data": {
      "text/html": [
       "Executing test <i>Beta Binomial sim</i> on model <i>bb</i>... "
      ],
      "text/plain": [
       "<IPython.core.display.HTML object>"
      ]
     },
     "metadata": {},
     "output_type": "display_data"
    },
    {
     "data": {
      "text/html": [
       "Score is 286\n"
      ],
      "text/plain": [
       "<IPython.core.display.HTML object>"
      ]
     },
     "metadata": {},
     "output_type": "display_data"
    },
    {
     "data": {
      "text/html": [
       "<html><body><div>\n",
       "<style scoped=\"\">\n",
       "    .dataframe tbody tr th:only-of-type {\n",
       "        vertical-align: middle;\n",
       "    }\n",
       "\n",
       "    .dataframe tbody tr th {\n",
       "        vertical-align: top;\n",
       "    }\n",
       "\n",
       "    .dataframe thead th {\n",
       "        text-align: right;\n",
       "    }\n",
       "</style>\n",
       "<table border=\"1\" class=\"dataframe\" id=\"1372385193812731408\">\n",
       "<thead>\n",
       "<tr style=\"text-align: right;\">\n",
       "<th></th>\n",
       "<th title=\"Calculate negative loglikelihood of a model.\">rr_al sim</th>\n",
       "<th title=\"Calculate negative loglikelihood of a model.\">rw_norm sim</th>\n",
       "<th title=\"Calculate negative loglikelihood of a model.\">krw_norm sim</th>\n",
       "<th title=\"Calculate negative loglikelihood of a model.\">lsspd sim</th>\n",
       "<th title=\"Calculate negative loglikelihood of a model.\">Beta Binomial sim</th>\n",
       "</tr>\n",
       "</thead>\n",
       "<tbody>\n",
       "<tr>\n",
       "<th title=\"No description available\">rw_norm</th>\n",
       "<td style=\"background-color: rgb(128,128,128);\" title=\"A float score.A float with any value.\n",
       "There is no canonical mapping between this score type and a measure of agreement between the observation and the prediction\">8.54e+18</td>\n",
       "<td style=\"background-color: rgb(128,128,128);\" title=\"A float score.A float with any value.\n",
       "There is no canonical mapping between this score type and a measure of agreement between the observation and the prediction\">1.41e+19</td>\n",
       "<td style=\"background-color: rgb(128,128,128);\" title=\"A float score.A float with any value.\n",
       "There is no canonical mapping between this score type and a measure of agreement between the observation and the prediction\">8.54e+18</td>\n",
       "<td style=\"background-color: rgb(128,128,128);\" title=\"A float score.A float with any value.\n",
       "There is no canonical mapping between this score type and a measure of agreement between the observation and the prediction\">8.66e+18</td>\n",
       "<td style=\"background-color: rgb(128,128,128);\" title=\"A float score.A float with any value.\n",
       "There is no canonical mapping between this score type and a measure of agreement between the observation and the prediction\">8.54e+18</td>\n",
       "</tr>\n",
       "<tr>\n",
       "<th title=\"No description available\">krw_norm</th>\n",
       "<td style=\"background-color: rgb(128,128,128);\" title=\"A float score.A float with any value.\n",
       "There is no canonical mapping between this score type and a measure of agreement between the observation and the prediction\">1.35e+05</td>\n",
       "<td style=\"background-color: rgb(128,128,128);\" title=\"A float score.A float with any value.\n",
       "There is no canonical mapping between this score type and a measure of agreement between the observation and the prediction\">8.15e+19</td>\n",
       "<td style=\"background-color: rgb(128,128,128);\" title=\"A float score.A float with any value.\n",
       "There is no canonical mapping between this score type and a measure of agreement between the observation and the prediction\">274</td>\n",
       "<td style=\"background-color: rgb(128,128,128);\" title=\"A float score.A float with any value.\n",
       "There is no canonical mapping between this score type and a measure of agreement between the observation and the prediction\">7.43e+16</td>\n",
       "<td style=\"background-color: rgb(128,128,128);\" title=\"A float score.A float with any value.\n",
       "There is no canonical mapping between this score type and a measure of agreement between the observation and the prediction\">1.76e+03</td>\n",
       "</tr>\n",
       "<tr>\n",
       "<th title=\"No description available\">lsspd</th>\n",
       "<td style=\"background-color: rgb(128,128,128);\" title=\"A float score.A float with any value.\n",
       "There is no canonical mapping between this score type and a measure of agreement between the observation and the prediction\">1.57e+04</td>\n",
       "<td style=\"background-color: rgb(128,128,128);\" title=\"A float score.A float with any value.\n",
       "There is no canonical mapping between this score type and a measure of agreement between the observation and the prediction\">2.3e+19</td>\n",
       "<td style=\"background-color: rgb(128,128,128);\" title=\"A float score.A float with any value.\n",
       "There is no canonical mapping between this score type and a measure of agreement between the observation and the prediction\">222</td>\n",
       "<td style=\"background-color: rgb(128,128,128);\" title=\"A float score.A float with any value.\n",
       "There is no canonical mapping between this score type and a measure of agreement between the observation and the prediction\">1.3e+16</td>\n",
       "<td style=\"background-color: rgb(128,128,128);\" title=\"A float score.A float with any value.\n",
       "There is no canonical mapping between this score type and a measure of agreement between the observation and the prediction\">366</td>\n",
       "</tr>\n",
       "<tr>\n",
       "<th title=\"No description available\">bb</th>\n",
       "<td style=\"background-color: rgb(128,128,128);\" title=\"A float score.A float with any value.\n",
       "There is no canonical mapping between this score type and a measure of agreement between the observation and the prediction\">1.82e+04</td>\n",
       "<td style=\"background-color: rgb(128,128,128);\" title=\"A float score.A float with any value.\n",
       "There is no canonical mapping between this score type and a measure of agreement between the observation and the prediction\">2.67e+19</td>\n",
       "<td style=\"background-color: rgb(128,128,128);\" title=\"A float score.A float with any value.\n",
       "There is no canonical mapping between this score type and a measure of agreement between the observation and the prediction\">319</td>\n",
       "<td style=\"background-color: rgb(128,128,128);\" title=\"A float score.A float with any value.\n",
       "There is no canonical mapping between this score type and a measure of agreement between the observation and the prediction\">2e+16</td>\n",
       "<td style=\"background-color: rgb(128,128,128);\" title=\"A float score.A float with any value.\n",
       "There is no canonical mapping between this score type and a measure of agreement between the observation and the prediction\">286</td>\n",
       "</tr>\n",
       "</tbody>\n",
       "</table>\n",
       "</div></body></html>"
      ],
      "text/plain": [
       "         rr_al sim rw_norm sim krw_norm sim lsspd sim Beta Binomial sim\n",
       "rw_norm   8.54e+18    1.41e+19     8.54e+18  8.66e+18          8.54e+18\n",
       "krw_norm  1.35e+05    8.15e+19          274  7.43e+16          1.76e+03\n",
       "lsspd     1.57e+04     2.3e+19          222   1.3e+16               366\n",
       "bb        1.82e+04    2.67e+19          319     2e+16               286"
      ]
     },
     "execution_count": 17,
     "metadata": {},
     "output_type": "execute_result"
    }
   ],
   "source": [
    "nll_al_suite.judge([multi_rw_norm, multi_krw_norm, multi_lsspd, multi_bb])"
   ]
  },
  {
   "cell_type": "code",
   "execution_count": 18,
   "metadata": {},
   "outputs": [
    {
     "data": {
      "text/html": [
       "Executing test <i>rr_al sim</i> on model <i>rw_norm</i>... "
      ],
      "text/plain": [
       "<IPython.core.display.HTML object>"
      ]
     },
     "metadata": {},
     "output_type": "display_data"
    },
    {
     "data": {
      "text/html": [
       "Score is 1.71e+19\n"
      ],
      "text/plain": [
       "<IPython.core.display.HTML object>"
      ]
     },
     "metadata": {},
     "output_type": "display_data"
    },
    {
     "data": {
      "text/html": [
       "Executing test <i>rw_norm sim</i> on model <i>rw_norm</i>... "
      ],
      "text/plain": [
       "<IPython.core.display.HTML object>"
      ]
     },
     "metadata": {},
     "output_type": "display_data"
    },
    {
     "data": {
      "text/html": [
       "Score is 2.82e+19\n"
      ],
      "text/plain": [
       "<IPython.core.display.HTML object>"
      ]
     },
     "metadata": {},
     "output_type": "display_data"
    },
    {
     "data": {
      "text/html": [
       "Executing test <i>krw_norm sim</i> on model <i>rw_norm</i>... "
      ],
      "text/plain": [
       "<IPython.core.display.HTML object>"
      ]
     },
     "metadata": {},
     "output_type": "display_data"
    },
    {
     "data": {
      "text/html": [
       "Score is 1.71e+19\n"
      ],
      "text/plain": [
       "<IPython.core.display.HTML object>"
      ]
     },
     "metadata": {},
     "output_type": "display_data"
    },
    {
     "data": {
      "text/html": [
       "Executing test <i>lsspd sim</i> on model <i>rw_norm</i>... "
      ],
      "text/plain": [
       "<IPython.core.display.HTML object>"
      ]
     },
     "metadata": {},
     "output_type": "display_data"
    },
    {
     "data": {
      "text/html": [
       "Score is 1.73e+19\n"
      ],
      "text/plain": [
       "<IPython.core.display.HTML object>"
      ]
     },
     "metadata": {},
     "output_type": "display_data"
    },
    {
     "data": {
      "text/html": [
       "Executing test <i>Beta Binomial sim</i> on model <i>rw_norm</i>... "
      ],
      "text/plain": [
       "<IPython.core.display.HTML object>"
      ]
     },
     "metadata": {},
     "output_type": "display_data"
    },
    {
     "data": {
      "text/html": [
       "Score is 1.71e+19\n"
      ],
      "text/plain": [
       "<IPython.core.display.HTML object>"
      ]
     },
     "metadata": {},
     "output_type": "display_data"
    },
    {
     "data": {
      "text/html": [
       "Executing test <i>rr_al sim</i> on model <i>krw_norm</i>... "
      ],
      "text/plain": [
       "<IPython.core.display.HTML object>"
      ]
     },
     "metadata": {},
     "output_type": "display_data"
    },
    {
     "data": {
      "text/html": [
       "Score is 2.7e+05\n"
      ],
      "text/plain": [
       "<IPython.core.display.HTML object>"
      ]
     },
     "metadata": {},
     "output_type": "display_data"
    },
    {
     "data": {
      "text/html": [
       "Executing test <i>rw_norm sim</i> on model <i>krw_norm</i>... "
      ],
      "text/plain": [
       "<IPython.core.display.HTML object>"
      ]
     },
     "metadata": {},
     "output_type": "display_data"
    },
    {
     "data": {
      "text/html": [
       "Score is 1.63e+20\n"
      ],
      "text/plain": [
       "<IPython.core.display.HTML object>"
      ]
     },
     "metadata": {},
     "output_type": "display_data"
    },
    {
     "data": {
      "text/html": [
       "Executing test <i>krw_norm sim</i> on model <i>krw_norm</i>... "
      ],
      "text/plain": [
       "<IPython.core.display.HTML object>"
      ]
     },
     "metadata": {},
     "output_type": "display_data"
    },
    {
     "data": {
      "text/html": [
       "Score is 596\n"
      ],
      "text/plain": [
       "<IPython.core.display.HTML object>"
      ]
     },
     "metadata": {},
     "output_type": "display_data"
    },
    {
     "data": {
      "text/html": [
       "Executing test <i>lsspd sim</i> on model <i>krw_norm</i>... "
      ],
      "text/plain": [
       "<IPython.core.display.HTML object>"
      ]
     },
     "metadata": {},
     "output_type": "display_data"
    },
    {
     "data": {
      "text/html": [
       "Score is 1.49e+17\n"
      ],
      "text/plain": [
       "<IPython.core.display.HTML object>"
      ]
     },
     "metadata": {},
     "output_type": "display_data"
    },
    {
     "data": {
      "text/html": [
       "Executing test <i>Beta Binomial sim</i> on model <i>krw_norm</i>... "
      ],
      "text/plain": [
       "<IPython.core.display.HTML object>"
      ]
     },
     "metadata": {},
     "output_type": "display_data"
    },
    {
     "data": {
      "text/html": [
       "Score is 3.56e+03\n"
      ],
      "text/plain": [
       "<IPython.core.display.HTML object>"
      ]
     },
     "metadata": {},
     "output_type": "display_data"
    },
    {
     "data": {
      "text/html": [
       "Executing test <i>rr_al sim</i> on model <i>lsspd</i>... "
      ],
      "text/plain": [
       "<IPython.core.display.HTML object>"
      ]
     },
     "metadata": {},
     "output_type": "display_data"
    },
    {
     "data": {
      "text/html": [
       "Score is 3.15e+04\n"
      ],
      "text/plain": [
       "<IPython.core.display.HTML object>"
      ]
     },
     "metadata": {},
     "output_type": "display_data"
    },
    {
     "data": {
      "text/html": [
       "Executing test <i>rw_norm sim</i> on model <i>lsspd</i>... "
      ],
      "text/plain": [
       "<IPython.core.display.HTML object>"
      ]
     },
     "metadata": {},
     "output_type": "display_data"
    },
    {
     "data": {
      "text/html": [
       "Score is 4.6e+19\n"
      ],
      "text/plain": [
       "<IPython.core.display.HTML object>"
      ]
     },
     "metadata": {},
     "output_type": "display_data"
    },
    {
     "data": {
      "text/html": [
       "Executing test <i>krw_norm sim</i> on model <i>lsspd</i>... "
      ],
      "text/plain": [
       "<IPython.core.display.HTML object>"
      ]
     },
     "metadata": {},
     "output_type": "display_data"
    },
    {
     "data": {
      "text/html": [
       "Score is 492\n"
      ],
      "text/plain": [
       "<IPython.core.display.HTML object>"
      ]
     },
     "metadata": {},
     "output_type": "display_data"
    },
    {
     "data": {
      "text/html": [
       "Executing test <i>lsspd sim</i> on model <i>lsspd</i>... "
      ],
      "text/plain": [
       "<IPython.core.display.HTML object>"
      ]
     },
     "metadata": {},
     "output_type": "display_data"
    },
    {
     "data": {
      "text/html": [
       "Score is 2.59e+16\n"
      ],
      "text/plain": [
       "<IPython.core.display.HTML object>"
      ]
     },
     "metadata": {},
     "output_type": "display_data"
    },
    {
     "data": {
      "text/html": [
       "Executing test <i>Beta Binomial sim</i> on model <i>lsspd</i>... "
      ],
      "text/plain": [
       "<IPython.core.display.HTML object>"
      ]
     },
     "metadata": {},
     "output_type": "display_data"
    },
    {
     "data": {
      "text/html": [
       "Score is 780\n"
      ],
      "text/plain": [
       "<IPython.core.display.HTML object>"
      ]
     },
     "metadata": {},
     "output_type": "display_data"
    },
    {
     "data": {
      "text/html": [
       "Executing test <i>rr_al sim</i> on model <i>bb</i>... "
      ],
      "text/plain": [
       "<IPython.core.display.HTML object>"
      ]
     },
     "metadata": {},
     "output_type": "display_data"
    },
    {
     "data": {
      "text/html": [
       "Score is 3.64e+04\n"
      ],
      "text/plain": [
       "<IPython.core.display.HTML object>"
      ]
     },
     "metadata": {},
     "output_type": "display_data"
    },
    {
     "data": {
      "text/html": [
       "Executing test <i>rw_norm sim</i> on model <i>bb</i>... "
      ],
      "text/plain": [
       "<IPython.core.display.HTML object>"
      ]
     },
     "metadata": {},
     "output_type": "display_data"
    },
    {
     "data": {
      "text/html": [
       "Score is 5.34e+19\n"
      ],
      "text/plain": [
       "<IPython.core.display.HTML object>"
      ]
     },
     "metadata": {},
     "output_type": "display_data"
    },
    {
     "data": {
      "text/html": [
       "Executing test <i>krw_norm sim</i> on model <i>bb</i>... "
      ],
      "text/plain": [
       "<IPython.core.display.HTML object>"
      ]
     },
     "metadata": {},
     "output_type": "display_data"
    },
    {
     "data": {
      "text/html": [
       "Score is 662\n"
      ],
      "text/plain": [
       "<IPython.core.display.HTML object>"
      ]
     },
     "metadata": {},
     "output_type": "display_data"
    },
    {
     "data": {
      "text/html": [
       "Executing test <i>lsspd sim</i> on model <i>bb</i>... "
      ],
      "text/plain": [
       "<IPython.core.display.HTML object>"
      ]
     },
     "metadata": {},
     "output_type": "display_data"
    },
    {
     "data": {
      "text/html": [
       "Score is 4e+16\n"
      ],
      "text/plain": [
       "<IPython.core.display.HTML object>"
      ]
     },
     "metadata": {},
     "output_type": "display_data"
    },
    {
     "data": {
      "text/html": [
       "Executing test <i>Beta Binomial sim</i> on model <i>bb</i>... "
      ],
      "text/plain": [
       "<IPython.core.display.HTML object>"
      ]
     },
     "metadata": {},
     "output_type": "display_data"
    },
    {
     "data": {
      "text/html": [
       "Score is 595\n"
      ],
      "text/plain": [
       "<IPython.core.display.HTML object>"
      ]
     },
     "metadata": {},
     "output_type": "display_data"
    },
    {
     "data": {
      "text/html": [
       "<html><body><div>\n",
       "<style scoped=\"\">\n",
       "    .dataframe tbody tr th:only-of-type {\n",
       "        vertical-align: middle;\n",
       "    }\n",
       "\n",
       "    .dataframe tbody tr th {\n",
       "        vertical-align: top;\n",
       "    }\n",
       "\n",
       "    .dataframe thead th {\n",
       "        text-align: right;\n",
       "    }\n",
       "</style>\n",
       "<table border=\"1\" class=\"dataframe\" id=\"-5005113443297134545\">\n",
       "<thead>\n",
       "<tr style=\"text-align: right;\">\n",
       "<th></th>\n",
       "<th title=\"Calculate AIC score of a model on given data.\">rr_al sim</th>\n",
       "<th title=\"Calculate AIC score of a model on given data.\">rw_norm sim</th>\n",
       "<th title=\"Calculate AIC score of a model on given data.\">krw_norm sim</th>\n",
       "<th title=\"Calculate AIC score of a model on given data.\">lsspd sim</th>\n",
       "<th title=\"Calculate AIC score of a model on given data.\">Beta Binomial sim</th>\n",
       "</tr>\n",
       "</thead>\n",
       "<tbody>\n",
       "<tr>\n",
       "<th title=\"No description available\">rw_norm</th>\n",
       "<td style=\"background-color: rgb(128,128,128);\" title=\"A float score.A float with any value.\n",
       "There is no canonical mapping between this score type and a measure of agreement between the observation and the prediction\">1.71e+19</td>\n",
       "<td style=\"background-color: rgb(128,128,128);\" title=\"A float score.A float with any value.\n",
       "There is no canonical mapping between this score type and a measure of agreement between the observation and the prediction\">2.82e+19</td>\n",
       "<td style=\"background-color: rgb(128,128,128);\" title=\"A float score.A float with any value.\n",
       "There is no canonical mapping between this score type and a measure of agreement between the observation and the prediction\">1.71e+19</td>\n",
       "<td style=\"background-color: rgb(128,128,128);\" title=\"A float score.A float with any value.\n",
       "There is no canonical mapping between this score type and a measure of agreement between the observation and the prediction\">1.73e+19</td>\n",
       "<td style=\"background-color: rgb(128,128,128);\" title=\"A float score.A float with any value.\n",
       "There is no canonical mapping between this score type and a measure of agreement between the observation and the prediction\">1.71e+19</td>\n",
       "</tr>\n",
       "<tr>\n",
       "<th title=\"No description available\">krw_norm</th>\n",
       "<td style=\"background-color: rgb(128,128,128);\" title=\"A float score.A float with any value.\n",
       "There is no canonical mapping between this score type and a measure of agreement between the observation and the prediction\">2.7e+05</td>\n",
       "<td style=\"background-color: rgb(128,128,128);\" title=\"A float score.A float with any value.\n",
       "There is no canonical mapping between this score type and a measure of agreement between the observation and the prediction\">1.63e+20</td>\n",
       "<td style=\"background-color: rgb(128,128,128);\" title=\"A float score.A float with any value.\n",
       "There is no canonical mapping between this score type and a measure of agreement between the observation and the prediction\">596</td>\n",
       "<td style=\"background-color: rgb(128,128,128);\" title=\"A float score.A float with any value.\n",
       "There is no canonical mapping between this score type and a measure of agreement between the observation and the prediction\">1.49e+17</td>\n",
       "<td style=\"background-color: rgb(128,128,128);\" title=\"A float score.A float with any value.\n",
       "There is no canonical mapping between this score type and a measure of agreement between the observation and the prediction\">3.56e+03</td>\n",
       "</tr>\n",
       "<tr>\n",
       "<th title=\"No description available\">lsspd</th>\n",
       "<td style=\"background-color: rgb(128,128,128);\" title=\"A float score.A float with any value.\n",
       "There is no canonical mapping between this score type and a measure of agreement between the observation and the prediction\">3.15e+04</td>\n",
       "<td style=\"background-color: rgb(128,128,128);\" title=\"A float score.A float with any value.\n",
       "There is no canonical mapping between this score type and a measure of agreement between the observation and the prediction\">4.6e+19</td>\n",
       "<td style=\"background-color: rgb(128,128,128);\" title=\"A float score.A float with any value.\n",
       "There is no canonical mapping between this score type and a measure of agreement between the observation and the prediction\">492</td>\n",
       "<td style=\"background-color: rgb(128,128,128);\" title=\"A float score.A float with any value.\n",
       "There is no canonical mapping between this score type and a measure of agreement between the observation and the prediction\">2.59e+16</td>\n",
       "<td style=\"background-color: rgb(128,128,128);\" title=\"A float score.A float with any value.\n",
       "There is no canonical mapping between this score type and a measure of agreement between the observation and the prediction\">780</td>\n",
       "</tr>\n",
       "<tr>\n",
       "<th title=\"No description available\">bb</th>\n",
       "<td style=\"background-color: rgb(128,128,128);\" title=\"A float score.A float with any value.\n",
       "There is no canonical mapping between this score type and a measure of agreement between the observation and the prediction\">3.64e+04</td>\n",
       "<td style=\"background-color: rgb(128,128,128);\" title=\"A float score.A float with any value.\n",
       "There is no canonical mapping between this score type and a measure of agreement between the observation and the prediction\">5.34e+19</td>\n",
       "<td style=\"background-color: rgb(128,128,128);\" title=\"A float score.A float with any value.\n",
       "There is no canonical mapping between this score type and a measure of agreement between the observation and the prediction\">662</td>\n",
       "<td style=\"background-color: rgb(128,128,128);\" title=\"A float score.A float with any value.\n",
       "There is no canonical mapping between this score type and a measure of agreement between the observation and the prediction\">4e+16</td>\n",
       "<td style=\"background-color: rgb(128,128,128);\" title=\"A float score.A float with any value.\n",
       "There is no canonical mapping between this score type and a measure of agreement between the observation and the prediction\">595</td>\n",
       "</tr>\n",
       "</tbody>\n",
       "</table>\n",
       "</div></body></html>"
      ],
      "text/plain": [
       "         rr_al sim rw_norm sim krw_norm sim lsspd sim Beta Binomial sim\n",
       "rw_norm   1.71e+19    2.82e+19     1.71e+19  1.73e+19          1.71e+19\n",
       "krw_norm   2.7e+05    1.63e+20          596  1.49e+17          3.56e+03\n",
       "lsspd     3.15e+04     4.6e+19          492  2.59e+16               780\n",
       "bb        3.64e+04    5.34e+19          662     4e+16               595"
      ]
     },
     "execution_count": 18,
     "metadata": {},
     "output_type": "execute_result"
    }
   ],
   "source": [
    "aic_al_suite.judge([multi_rw_norm, multi_krw_norm, multi_lsspd, multi_bb])"
   ]
  },
  {
   "cell_type": "code",
   "execution_count": 19,
   "metadata": {},
   "outputs": [
    {
     "data": {
      "text/html": [
       "Executing test <i>rr_al sim</i> on model <i>rw_norm</i>... "
      ],
      "text/plain": [
       "<IPython.core.display.HTML object>"
      ]
     },
     "metadata": {},
     "output_type": "display_data"
    },
    {
     "data": {
      "text/html": [
       "Score is 1.71e+19\n"
      ],
      "text/plain": [
       "<IPython.core.display.HTML object>"
      ]
     },
     "metadata": {},
     "output_type": "display_data"
    },
    {
     "data": {
      "text/html": [
       "Executing test <i>rw_norm sim</i> on model <i>rw_norm</i>... "
      ],
      "text/plain": [
       "<IPython.core.display.HTML object>"
      ]
     },
     "metadata": {},
     "output_type": "display_data"
    },
    {
     "data": {
      "text/html": [
       "Score is 2.82e+19\n"
      ],
      "text/plain": [
       "<IPython.core.display.HTML object>"
      ]
     },
     "metadata": {},
     "output_type": "display_data"
    },
    {
     "data": {
      "text/html": [
       "Executing test <i>krw_norm sim</i> on model <i>rw_norm</i>... "
      ],
      "text/plain": [
       "<IPython.core.display.HTML object>"
      ]
     },
     "metadata": {},
     "output_type": "display_data"
    },
    {
     "data": {
      "text/html": [
       "Score is 1.71e+19\n"
      ],
      "text/plain": [
       "<IPython.core.display.HTML object>"
      ]
     },
     "metadata": {},
     "output_type": "display_data"
    },
    {
     "data": {
      "text/html": [
       "Executing test <i>lsspd sim</i> on model <i>rw_norm</i>... "
      ],
      "text/plain": [
       "<IPython.core.display.HTML object>"
      ]
     },
     "metadata": {},
     "output_type": "display_data"
    },
    {
     "data": {
      "text/html": [
       "Score is 1.73e+19\n"
      ],
      "text/plain": [
       "<IPython.core.display.HTML object>"
      ]
     },
     "metadata": {},
     "output_type": "display_data"
    },
    {
     "data": {
      "text/html": [
       "Executing test <i>Beta Binomial sim</i> on model <i>rw_norm</i>... "
      ],
      "text/plain": [
       "<IPython.core.display.HTML object>"
      ]
     },
     "metadata": {},
     "output_type": "display_data"
    },
    {
     "data": {
      "text/html": [
       "Score is 1.71e+19\n"
      ],
      "text/plain": [
       "<IPython.core.display.HTML object>"
      ]
     },
     "metadata": {},
     "output_type": "display_data"
    },
    {
     "data": {
      "text/html": [
       "Executing test <i>rr_al sim</i> on model <i>krw_norm</i>... "
      ],
      "text/plain": [
       "<IPython.core.display.HTML object>"
      ]
     },
     "metadata": {},
     "output_type": "display_data"
    },
    {
     "data": {
      "text/html": [
       "Score is 2.72e+05\n"
      ],
      "text/plain": [
       "<IPython.core.display.HTML object>"
      ]
     },
     "metadata": {},
     "output_type": "display_data"
    },
    {
     "data": {
      "text/html": [
       "Executing test <i>rw_norm sim</i> on model <i>krw_norm</i>... "
      ],
      "text/plain": [
       "<IPython.core.display.HTML object>"
      ]
     },
     "metadata": {},
     "output_type": "display_data"
    },
    {
     "data": {
      "text/html": [
       "Score is 1.63e+20\n"
      ],
      "text/plain": [
       "<IPython.core.display.HTML object>"
      ]
     },
     "metadata": {},
     "output_type": "display_data"
    },
    {
     "data": {
      "text/html": [
       "Executing test <i>krw_norm sim</i> on model <i>krw_norm</i>... "
      ],
      "text/plain": [
       "<IPython.core.display.HTML object>"
      ]
     },
     "metadata": {},
     "output_type": "display_data"
    },
    {
     "data": {
      "text/html": [
       "Score is 2.95e+03\n"
      ],
      "text/plain": [
       "<IPython.core.display.HTML object>"
      ]
     },
     "metadata": {},
     "output_type": "display_data"
    },
    {
     "data": {
      "text/html": [
       "Executing test <i>lsspd sim</i> on model <i>krw_norm</i>... "
      ],
      "text/plain": [
       "<IPython.core.display.HTML object>"
      ]
     },
     "metadata": {},
     "output_type": "display_data"
    },
    {
     "data": {
      "text/html": [
       "Score is 1.49e+17\n"
      ],
      "text/plain": [
       "<IPython.core.display.HTML object>"
      ]
     },
     "metadata": {},
     "output_type": "display_data"
    },
    {
     "data": {
      "text/html": [
       "Executing test <i>Beta Binomial sim</i> on model <i>krw_norm</i>... "
      ],
      "text/plain": [
       "<IPython.core.display.HTML object>"
      ]
     },
     "metadata": {},
     "output_type": "display_data"
    },
    {
     "data": {
      "text/html": [
       "Score is 5.91e+03\n"
      ],
      "text/plain": [
       "<IPython.core.display.HTML object>"
      ]
     },
     "metadata": {},
     "output_type": "display_data"
    },
    {
     "data": {
      "text/html": [
       "Executing test <i>rr_al sim</i> on model <i>lsspd</i>... "
      ],
      "text/plain": [
       "<IPython.core.display.HTML object>"
      ]
     },
     "metadata": {},
     "output_type": "display_data"
    },
    {
     "data": {
      "text/html": [
       "Score is 3.39e+04\n"
      ],
      "text/plain": [
       "<IPython.core.display.HTML object>"
      ]
     },
     "metadata": {},
     "output_type": "display_data"
    },
    {
     "data": {
      "text/html": [
       "Executing test <i>rw_norm sim</i> on model <i>lsspd</i>... "
      ],
      "text/plain": [
       "<IPython.core.display.HTML object>"
      ]
     },
     "metadata": {},
     "output_type": "display_data"
    },
    {
     "data": {
      "text/html": [
       "Score is 4.6e+19\n"
      ],
      "text/plain": [
       "<IPython.core.display.HTML object>"
      ]
     },
     "metadata": {},
     "output_type": "display_data"
    },
    {
     "data": {
      "text/html": [
       "Executing test <i>krw_norm sim</i> on model <i>lsspd</i>... "
      ],
      "text/plain": [
       "<IPython.core.display.HTML object>"
      ]
     },
     "metadata": {},
     "output_type": "display_data"
    },
    {
     "data": {
      "text/html": [
       "Score is 2.84e+03\n"
      ],
      "text/plain": [
       "<IPython.core.display.HTML object>"
      ]
     },
     "metadata": {},
     "output_type": "display_data"
    },
    {
     "data": {
      "text/html": [
       "Executing test <i>lsspd sim</i> on model <i>lsspd</i>... "
      ],
      "text/plain": [
       "<IPython.core.display.HTML object>"
      ]
     },
     "metadata": {},
     "output_type": "display_data"
    },
    {
     "data": {
      "text/html": [
       "Score is 2.59e+16\n"
      ],
      "text/plain": [
       "<IPython.core.display.HTML object>"
      ]
     },
     "metadata": {},
     "output_type": "display_data"
    },
    {
     "data": {
      "text/html": [
       "Executing test <i>Beta Binomial sim</i> on model <i>lsspd</i>... "
      ],
      "text/plain": [
       "<IPython.core.display.HTML object>"
      ]
     },
     "metadata": {},
     "output_type": "display_data"
    },
    {
     "data": {
      "text/html": [
       "Score is 3.13e+03\n"
      ],
      "text/plain": [
       "<IPython.core.display.HTML object>"
      ]
     },
     "metadata": {},
     "output_type": "display_data"
    },
    {
     "data": {
      "text/html": [
       "Executing test <i>rr_al sim</i> on model <i>bb</i>... "
      ],
      "text/plain": [
       "<IPython.core.display.HTML object>"
      ]
     },
     "metadata": {},
     "output_type": "display_data"
    },
    {
     "data": {
      "text/html": [
       "Score is 3.76e+04\n"
      ],
      "text/plain": [
       "<IPython.core.display.HTML object>"
      ]
     },
     "metadata": {},
     "output_type": "display_data"
    },
    {
     "data": {
      "text/html": [
       "Executing test <i>rw_norm sim</i> on model <i>bb</i>... "
      ],
      "text/plain": [
       "<IPython.core.display.HTML object>"
      ]
     },
     "metadata": {},
     "output_type": "display_data"
    },
    {
     "data": {
      "text/html": [
       "Score is 5.34e+19\n"
      ],
      "text/plain": [
       "<IPython.core.display.HTML object>"
      ]
     },
     "metadata": {},
     "output_type": "display_data"
    },
    {
     "data": {
      "text/html": [
       "Executing test <i>krw_norm sim</i> on model <i>bb</i>... "
      ],
      "text/plain": [
       "<IPython.core.display.HTML object>"
      ]
     },
     "metadata": {},
     "output_type": "display_data"
    },
    {
     "data": {
      "text/html": [
       "Score is 1.84e+03\n"
      ],
      "text/plain": [
       "<IPython.core.display.HTML object>"
      ]
     },
     "metadata": {},
     "output_type": "display_data"
    },
    {
     "data": {
      "text/html": [
       "Executing test <i>lsspd sim</i> on model <i>bb</i>... "
      ],
      "text/plain": [
       "<IPython.core.display.HTML object>"
      ]
     },
     "metadata": {},
     "output_type": "display_data"
    },
    {
     "data": {
      "text/html": [
       "Score is 4e+16\n"
      ],
      "text/plain": [
       "<IPython.core.display.HTML object>"
      ]
     },
     "metadata": {},
     "output_type": "display_data"
    },
    {
     "data": {
      "text/html": [
       "Executing test <i>Beta Binomial sim</i> on model <i>bb</i>... "
      ],
      "text/plain": [
       "<IPython.core.display.HTML object>"
      ]
     },
     "metadata": {},
     "output_type": "display_data"
    },
    {
     "data": {
      "text/html": [
       "Score is 1.77e+03\n"
      ],
      "text/plain": [
       "<IPython.core.display.HTML object>"
      ]
     },
     "metadata": {},
     "output_type": "display_data"
    },
    {
     "data": {
      "text/html": [
       "<html><body><div>\n",
       "<style scoped=\"\">\n",
       "    .dataframe tbody tr th:only-of-type {\n",
       "        vertical-align: middle;\n",
       "    }\n",
       "\n",
       "    .dataframe tbody tr th {\n",
       "        vertical-align: top;\n",
       "    }\n",
       "\n",
       "    .dataframe thead th {\n",
       "        text-align: right;\n",
       "    }\n",
       "</style>\n",
       "<table border=\"1\" class=\"dataframe\" id=\"1102358401989876061\">\n",
       "<thead>\n",
       "<tr style=\"text-align: right;\">\n",
       "<th></th>\n",
       "<th title=\"Calculate BIC score of a model on given data.\">rr_al sim</th>\n",
       "<th title=\"Calculate BIC score of a model on given data.\">rw_norm sim</th>\n",
       "<th title=\"Calculate BIC score of a model on given data.\">krw_norm sim</th>\n",
       "<th title=\"Calculate BIC score of a model on given data.\">lsspd sim</th>\n",
       "<th title=\"Calculate BIC score of a model on given data.\">Beta Binomial sim</th>\n",
       "</tr>\n",
       "</thead>\n",
       "<tbody>\n",
       "<tr>\n",
       "<th title=\"No description available\">rw_norm</th>\n",
       "<td style=\"background-color: rgb(128,128,128);\" title=\"A float score.A float with any value.\n",
       "There is no canonical mapping between this score type and a measure of agreement between the observation and the prediction\">1.71e+19</td>\n",
       "<td style=\"background-color: rgb(128,128,128);\" title=\"A float score.A float with any value.\n",
       "There is no canonical mapping between this score type and a measure of agreement between the observation and the prediction\">2.82e+19</td>\n",
       "<td style=\"background-color: rgb(128,128,128);\" title=\"A float score.A float with any value.\n",
       "There is no canonical mapping between this score type and a measure of agreement between the observation and the prediction\">1.71e+19</td>\n",
       "<td style=\"background-color: rgb(128,128,128);\" title=\"A float score.A float with any value.\n",
       "There is no canonical mapping between this score type and a measure of agreement between the observation and the prediction\">1.73e+19</td>\n",
       "<td style=\"background-color: rgb(128,128,128);\" title=\"A float score.A float with any value.\n",
       "There is no canonical mapping between this score type and a measure of agreement between the observation and the prediction\">1.71e+19</td>\n",
       "</tr>\n",
       "<tr>\n",
       "<th title=\"No description available\">krw_norm</th>\n",
       "<td style=\"background-color: rgb(128,128,128);\" title=\"A float score.A float with any value.\n",
       "There is no canonical mapping between this score type and a measure of agreement between the observation and the prediction\">2.72e+05</td>\n",
       "<td style=\"background-color: rgb(128,128,128);\" title=\"A float score.A float with any value.\n",
       "There is no canonical mapping between this score type and a measure of agreement between the observation and the prediction\">1.63e+20</td>\n",
       "<td style=\"background-color: rgb(128,128,128);\" title=\"A float score.A float with any value.\n",
       "There is no canonical mapping between this score type and a measure of agreement between the observation and the prediction\">2.95e+03</td>\n",
       "<td style=\"background-color: rgb(128,128,128);\" title=\"A float score.A float with any value.\n",
       "There is no canonical mapping between this score type and a measure of agreement between the observation and the prediction\">1.49e+17</td>\n",
       "<td style=\"background-color: rgb(128,128,128);\" title=\"A float score.A float with any value.\n",
       "There is no canonical mapping between this score type and a measure of agreement between the observation and the prediction\">5.91e+03</td>\n",
       "</tr>\n",
       "<tr>\n",
       "<th title=\"No description available\">lsspd</th>\n",
       "<td style=\"background-color: rgb(128,128,128);\" title=\"A float score.A float with any value.\n",
       "There is no canonical mapping between this score type and a measure of agreement between the observation and the prediction\">3.39e+04</td>\n",
       "<td style=\"background-color: rgb(128,128,128);\" title=\"A float score.A float with any value.\n",
       "There is no canonical mapping between this score type and a measure of agreement between the observation and the prediction\">4.6e+19</td>\n",
       "<td style=\"background-color: rgb(128,128,128);\" title=\"A float score.A float with any value.\n",
       "There is no canonical mapping between this score type and a measure of agreement between the observation and the prediction\">2.84e+03</td>\n",
       "<td style=\"background-color: rgb(128,128,128);\" title=\"A float score.A float with any value.\n",
       "There is no canonical mapping between this score type and a measure of agreement between the observation and the prediction\">2.59e+16</td>\n",
       "<td style=\"background-color: rgb(128,128,128);\" title=\"A float score.A float with any value.\n",
       "There is no canonical mapping between this score type and a measure of agreement between the observation and the prediction\">3.13e+03</td>\n",
       "</tr>\n",
       "<tr>\n",
       "<th title=\"No description available\">bb</th>\n",
       "<td style=\"background-color: rgb(128,128,128);\" title=\"A float score.A float with any value.\n",
       "There is no canonical mapping between this score type and a measure of agreement between the observation and the prediction\">3.76e+04</td>\n",
       "<td style=\"background-color: rgb(128,128,128);\" title=\"A float score.A float with any value.\n",
       "There is no canonical mapping between this score type and a measure of agreement between the observation and the prediction\">5.34e+19</td>\n",
       "<td style=\"background-color: rgb(128,128,128);\" title=\"A float score.A float with any value.\n",
       "There is no canonical mapping between this score type and a measure of agreement between the observation and the prediction\">1.84e+03</td>\n",
       "<td style=\"background-color: rgb(128,128,128);\" title=\"A float score.A float with any value.\n",
       "There is no canonical mapping between this score type and a measure of agreement between the observation and the prediction\">4e+16</td>\n",
       "<td style=\"background-color: rgb(128,128,128);\" title=\"A float score.A float with any value.\n",
       "There is no canonical mapping between this score type and a measure of agreement between the observation and the prediction\">1.77e+03</td>\n",
       "</tr>\n",
       "</tbody>\n",
       "</table>\n",
       "</div></body></html>"
      ],
      "text/plain": [
       "         rr_al sim rw_norm sim krw_norm sim lsspd sim Beta Binomial sim\n",
       "rw_norm   1.71e+19    2.82e+19     1.71e+19  1.73e+19          1.71e+19\n",
       "krw_norm  2.72e+05    1.63e+20     2.95e+03  1.49e+17          5.91e+03\n",
       "lsspd     3.39e+04     4.6e+19     2.84e+03  2.59e+16          3.13e+03\n",
       "bb        3.76e+04    5.34e+19     1.84e+03     4e+16          1.77e+03"
      ]
     },
     "execution_count": 19,
     "metadata": {},
     "output_type": "execute_result"
    }
   ],
   "source": [
    "bic_al_suite.judge([multi_rw_norm, multi_krw_norm, multi_lsspd, multi_bb])"
   ]
  }
 ],
 "metadata": {
  "kernelspec": {
   "display_name": "Python [conda env:testing-ldmm]",
   "language": "python",
   "name": "conda-env-testing-ldmm-py"
  },
  "language_info": {
   "codemirror_mode": {
    "name": "ipython",
    "version": 3
   },
   "file_extension": ".py",
   "mimetype": "text/x-python",
   "name": "python",
   "nbconvert_exporter": "python",
   "pygments_lexer": "ipython3",
   "version": "3.6.8"
  }
 },
 "nbformat": 4,
 "nbformat_minor": 2
}
