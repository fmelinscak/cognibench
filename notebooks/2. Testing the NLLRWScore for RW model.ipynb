{
 "cells": [
  {
   "cell_type": "code",
   "execution_count": 1,
   "metadata": {},
   "outputs": [],
   "source": [
    "%load_ext autoreload\n",
    "%autoreload 2 # autoreload all modules"
   ]
  },
  {
   "cell_type": "code",
   "execution_count": 2,
   "metadata": {},
   "outputs": [],
   "source": [
    "%matplotlib inline\n",
    "import sys\n",
    "import pandas as pd\n",
    "import numpy as np\n",
    "import sciunit\n",
    "\n",
    "from sciunit.models.examples import ConstModel # model always predicts a fixed const\n",
    "from sciunit.capabilities import ProducesNumber\n",
    "\n",
    "sys.path.append(\"../\")"
   ]
  },
  {
   "cell_type": "code",
   "execution_count": 3,
   "metadata": {},
   "outputs": [],
   "source": [
    "from src.ldmunit.models.poisson import PoissonModel\n",
    "from src.ldmunit.models.rw import RWModel\n",
    "from src.ldmunit.scores import MSEScore\n",
    "from src.ldmunit.scores import NLLScore\n",
    "from src.ldmunit.scores import NLLRWScore\n",
    "from src.ldmunit.capabilities import ProducesLoglikelihood"
   ]
  },
  {
   "cell_type": "code",
   "execution_count": 4,
   "metadata": {},
   "outputs": [],
   "source": [
    "class NLLRWTest(sciunit.Test):\n",
    "\n",
    "    required_capabilities = (ProducesLoglikelihood, )\n",
    "    score_type = NLLRWScore\n",
    "    \n",
    "    def generate_prediction(self, model):\n",
    "        return model.produce_loglikelihood()\n",
    "    \n",
    "    def compute_score(self, observation, prediction):\n",
    "        score = NLLRWScore.compute(observation, prediction)\n",
    "        return score"
   ]
  },
  {
   "cell_type": "code",
   "execution_count": 5,
   "metadata": {},
   "outputs": [],
   "source": [
    "raw = pd.read_csv(\"/Users/holliswang/Desktop/sel_trial_data.csv\", header=0)\n",
    "US = {'LH': np.array([1,0,0]), 'M': np.array([0,1,0]), 'HL': np.array([0,0,1])}\n",
    "CS = {'m': 0, 'p': 1}\n",
    "sub_1 = raw[raw['sub_id'] == 'LCP001'].iloc[:,[4,5,6]]\n",
    "sub_1['stimulus_trans'] = sub_1['stimulus'].map(US)\n",
    "sub_1['outcome_trans'] = sub_1['outcome'].map(CS)\n",
    "\n",
    "# prepare data\n",
    "rw_0 = RWModel({'alpha': 0.5, 'beta': 0.5}, name=\"RW model ($\\alpha=0.5, \\beta=0.5$)\")\n",
    "sub_1_obs = {'outcome': sub_1['outcome_trans'].to_numpy(), 'stimulus': sub_1['stimulus_trans'].to_numpy()}"
   ]
  },
  {
   "cell_type": "code",
   "execution_count": 6,
   "metadata": {},
   "outputs": [
    {
     "name": "stdout",
     "output_type": "stream",
     "text": [
      "A negative log likelihood (axis=0) [135.85020934 125.64698458 135.63120637]\n",
      "A negative log likelihood (axis=0) [135.85020934 125.64698458 135.63120637]\n"
     ]
    },
    {
     "data": {
      "text/plain": [
       "A negative log likelihood (RW) = 397.128"
      ]
     },
     "execution_count": 6,
     "metadata": {},
     "output_type": "execute_result"
    }
   ],
   "source": [
    "import time\n",
    "test_1 = NLLRWTest(sub_1_obs)\n",
    "start = time.time()\n",
    "test_1.judge(rw_0)\n",
    "time_e = time.time() - start\n",
    "test_1.judge(rw_0)"
   ]
  }
 ],
 "metadata": {
  "kernelspec": {
   "display_name": "Python [conda env:testing-ldmm]",
   "language": "python",
   "name": "conda-env-testing-ldmm-py"
  },
  "language_info": {
   "codemirror_mode": {
    "name": "ipython",
    "version": 3
   },
   "file_extension": ".py",
   "mimetype": "text/x-python",
   "name": "python",
   "nbconvert_exporter": "python",
   "pygments_lexer": "ipython3",
   "version": "3.6.8"
  }
 },
 "nbformat": 4,
 "nbformat_minor": 2
}
